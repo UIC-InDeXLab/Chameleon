{
 "cells": [
  {
   "cell_type": "code",
   "execution_count": 1,
   "id": "af479dbb-6af5-456c-ab3f-b1bc8160a3ec",
   "metadata": {},
   "outputs": [],
   "source": [
    "import numpy as np # linear algebra\n",
    "import pandas as pd # data processing, CSV file I/O (e.g. pd.read_csv)\n",
    "import os\n",
    "import glob\n",
    "import pandas as pd\n",
    "import matplotlib.pyplot as plt\n",
    "import seaborn as sns\n"
   ]
  },
  {
   "cell_type": "code",
   "execution_count": 2,
   "id": "9a5d4332-2574-4193-b966-e87e2b83e950",
   "metadata": {},
   "outputs": [
    {
     "data": {
      "text/plain": [
       "({0: 'male', 1: 'female'},\n",
       " {'male': 0, 'female': 1},\n",
       " {0: 'white', 1: 'black', 2: 'asian', 3: 'hispanic', 4: 'middle eastern'},\n",
       " {'white': 0, 'black': 1, 'asian': 2, 'hispanic': 3, 'middle eastern': 4})"
      ]
     },
     "execution_count": 2,
     "metadata": {},
     "output_type": "execute_result"
    }
   ],
   "source": [
    "df = pd.read_csv('merged_feret_train.csv')\n",
    "generated_df = pd.read_csv('feret_generated_2.csv')\n",
    "df = pd.concat([df, generated_df], ignore_index=True)\n",
    "\n",
    "DATA_DIR = \"./colored/\"\n",
    "TRAIN_TEST_SPLIT = 0.9\n",
    "IM_WIDTH = 100\n",
    "IM_HEIGHT = 100\n",
    "ID_GENDER_MAP = {0: 'male', 1: 'female'}\n",
    "GENDER_ID_MAP = dict((g, i) for i, g in ID_GENDER_MAP.items())\n",
    "ID_RACE_MAP = {0: 'white', 1: 'black', 2: 'asian', 3: 'hispanic', 4: 'middle eastern'}\n",
    "RACE_ID_MAP = dict((r, i) for i, r in ID_RACE_MAP.items())\n",
    "\n",
    "ID_GENDER_MAP, GENDER_ID_MAP, ID_RACE_MAP, RACE_ID_MAP\n",
    "\n"
   ]
  },
  {
   "cell_type": "code",
   "execution_count": 3,
   "id": "675c4f65-7958-4c7c-96d9-b5b3ef666ed0",
   "metadata": {},
   "outputs": [
    {
     "data": {
      "text/plain": [
       "(624, 268, 100)"
      ]
     },
     "execution_count": 3,
     "metadata": {},
     "output_type": "execute_result"
    }
   ],
   "source": [
    "# for unfair test\n",
    "\n",
    "p = np.random.permutation(len(df))\n",
    "train_up_to = int(len(df) * TRAIN_TEST_SPLIT)\n",
    "train_idx = p[:train_up_to]\n",
    "test_idx = p[train_up_to:]\n",
    "\n",
    "train_up_to = int(train_up_to * 0.7)\n",
    "train_idx, valid_idx = train_idx[:train_up_to], train_idx[train_up_to:]\n",
    "\n",
    "df['gender_id'] = df['gender'].map(lambda gender: gender)\n",
    "df['race_id'] = df['race'].map(lambda race: race)\n",
    "len(train_idx), len(valid_idx), len(test_idx)"
   ]
  },
  {
   "cell_type": "code",
   "execution_count": 11,
   "id": "0af70653-6bae-40f3-8480-b6edfd551921",
   "metadata": {},
   "outputs": [],
   "source": [
    "# for fair test\n",
    "test_df = pd.read_csv('merged_feret_test.csv')"
   ]
  },
  {
   "cell_type": "code",
   "execution_count": 12,
   "id": "c01e71c3-3db5-4d7e-8c44-7279e9685a66",
   "metadata": {},
   "outputs": [
    {
     "data": {
      "text/plain": [
       "(694, 298)"
      ]
     },
     "execution_count": 12,
     "metadata": {},
     "output_type": "execute_result"
    }
   ],
   "source": [
    "# for fair test\n",
    "p = np.random.permutation(len(df))\n",
    "train_up_to = int(len(df))\n",
    "train_idx = p[:train_up_to]\n",
    "\n",
    "# split train_idx further into training and validation set\n",
    "train_up_to = int(train_up_to * 0.7)\n",
    "train_idx, valid_idx = train_idx[:train_up_to], train_idx[train_up_to:]\n",
    "\n",
    "df['gender_id'] = df['gender'].map(lambda gender: gender)\n",
    "df['race_id'] = df['race'].map(lambda race: race)\n",
    "\n",
    "len(train_idx), len(valid_idx)"
   ]
  },
  {
   "cell_type": "code",
   "execution_count": 4,
   "id": "b45b8525-2942-4e02-bb1e-cb7100a4880d",
   "metadata": {},
   "outputs": [
    {
     "data": {
      "text/html": [
       "<div>\n",
       "<style scoped>\n",
       "    .dataframe tbody tr th:only-of-type {\n",
       "        vertical-align: middle;\n",
       "    }\n",
       "\n",
       "    .dataframe tbody tr th {\n",
       "        vertical-align: top;\n",
       "    }\n",
       "\n",
       "    .dataframe thead th {\n",
       "        text-align: right;\n",
       "    }\n",
       "</style>\n",
       "<table border=\"1\" class=\"dataframe\">\n",
       "  <thead>\n",
       "    <tr style=\"text-align: right;\">\n",
       "      <th></th>\n",
       "      <th>filename</th>\n",
       "      <th>gender</th>\n",
       "      <th>race</th>\n",
       "      <th>is_generated</th>\n",
       "      <th>gender_id</th>\n",
       "      <th>race_id</th>\n",
       "      <th>file</th>\n",
       "    </tr>\n",
       "  </thead>\n",
       "  <tbody>\n",
       "    <tr>\n",
       "      <th>0</th>\n",
       "      <td>00823_940307_fa_a_converted_final.png</td>\n",
       "      <td>1</td>\n",
       "      <td>4</td>\n",
       "      <td>NaN</td>\n",
       "      <td>1</td>\n",
       "      <td>4</td>\n",
       "      <td>./colored/00823_940307_fa_a_converted_final.png</td>\n",
       "    </tr>\n",
       "    <tr>\n",
       "      <th>1</th>\n",
       "      <td>00855_940307_fa_converted_final.png</td>\n",
       "      <td>0</td>\n",
       "      <td>4</td>\n",
       "      <td>NaN</td>\n",
       "      <td>0</td>\n",
       "      <td>4</td>\n",
       "      <td>./colored/00855_940307_fa_converted_final.png</td>\n",
       "    </tr>\n",
       "    <tr>\n",
       "      <th>2</th>\n",
       "      <td>00869_940307_fa_converted_final.png</td>\n",
       "      <td>0</td>\n",
       "      <td>4</td>\n",
       "      <td>NaN</td>\n",
       "      <td>0</td>\n",
       "      <td>4</td>\n",
       "      <td>./colored/00869_940307_fa_converted_final.png</td>\n",
       "    </tr>\n",
       "    <tr>\n",
       "      <th>3</th>\n",
       "      <td>00912_960530_fa_converted_final.png</td>\n",
       "      <td>0</td>\n",
       "      <td>4</td>\n",
       "      <td>NaN</td>\n",
       "      <td>0</td>\n",
       "      <td>4</td>\n",
       "      <td>./colored/00912_960530_fa_converted_final.png</td>\n",
       "    </tr>\n",
       "    <tr>\n",
       "      <th>4</th>\n",
       "      <td>00926_960627_fa_converted_final.png</td>\n",
       "      <td>0</td>\n",
       "      <td>4</td>\n",
       "      <td>NaN</td>\n",
       "      <td>0</td>\n",
       "      <td>4</td>\n",
       "      <td>./colored/00926_960627_fa_converted_final.png</td>\n",
       "    </tr>\n",
       "    <tr>\n",
       "      <th>...</th>\n",
       "      <td>...</td>\n",
       "      <td>...</td>\n",
       "      <td>...</td>\n",
       "      <td>...</td>\n",
       "      <td>...</td>\n",
       "      <td>...</td>\n",
       "      <td>...</td>\n",
       "    </tr>\n",
       "    <tr>\n",
       "      <th>987</th>\n",
       "      <td>1_3_20240129092233303664.png</td>\n",
       "      <td>1</td>\n",
       "      <td>3</td>\n",
       "      <td>True</td>\n",
       "      <td>1</td>\n",
       "      <td>3</td>\n",
       "      <td>./feret_all/1_3_20240129092233303664.png</td>\n",
       "    </tr>\n",
       "    <tr>\n",
       "      <th>988</th>\n",
       "      <td>1_3_20240129092314313633.png</td>\n",
       "      <td>1</td>\n",
       "      <td>3</td>\n",
       "      <td>True</td>\n",
       "      <td>1</td>\n",
       "      <td>3</td>\n",
       "      <td>./feret_all/1_3_20240129092314313633.png</td>\n",
       "    </tr>\n",
       "    <tr>\n",
       "      <th>989</th>\n",
       "      <td>1_3_20240129092409537478.png</td>\n",
       "      <td>1</td>\n",
       "      <td>3</td>\n",
       "      <td>True</td>\n",
       "      <td>1</td>\n",
       "      <td>3</td>\n",
       "      <td>./feret_all/1_3_20240129092409537478.png</td>\n",
       "    </tr>\n",
       "    <tr>\n",
       "      <th>990</th>\n",
       "      <td>1_3_20240129092428710230.png</td>\n",
       "      <td>1</td>\n",
       "      <td>3</td>\n",
       "      <td>True</td>\n",
       "      <td>1</td>\n",
       "      <td>3</td>\n",
       "      <td>./feret_all/1_3_20240129092428710230.png</td>\n",
       "    </tr>\n",
       "    <tr>\n",
       "      <th>991</th>\n",
       "      <td>1_3_20240129092524825695.png</td>\n",
       "      <td>1</td>\n",
       "      <td>3</td>\n",
       "      <td>True</td>\n",
       "      <td>1</td>\n",
       "      <td>3</td>\n",
       "      <td>./feret_all/1_3_20240129092524825695.png</td>\n",
       "    </tr>\n",
       "  </tbody>\n",
       "</table>\n",
       "<p>992 rows × 7 columns</p>\n",
       "</div>"
      ],
      "text/plain": [
       "                                  filename  gender  race is_generated  \\\n",
       "0    00823_940307_fa_a_converted_final.png       1     4          NaN   \n",
       "1      00855_940307_fa_converted_final.png       0     4          NaN   \n",
       "2      00869_940307_fa_converted_final.png       0     4          NaN   \n",
       "3      00912_960530_fa_converted_final.png       0     4          NaN   \n",
       "4      00926_960627_fa_converted_final.png       0     4          NaN   \n",
       "..                                     ...     ...   ...          ...   \n",
       "987           1_3_20240129092233303664.png       1     3         True   \n",
       "988           1_3_20240129092314313633.png       1     3         True   \n",
       "989           1_3_20240129092409537478.png       1     3         True   \n",
       "990           1_3_20240129092428710230.png       1     3         True   \n",
       "991           1_3_20240129092524825695.png       1     3         True   \n",
       "\n",
       "     gender_id  race_id                                             file  \n",
       "0            1        4  ./colored/00823_940307_fa_a_converted_final.png  \n",
       "1            0        4    ./colored/00855_940307_fa_converted_final.png  \n",
       "2            0        4    ./colored/00869_940307_fa_converted_final.png  \n",
       "3            0        4    ./colored/00912_960530_fa_converted_final.png  \n",
       "4            0        4    ./colored/00926_960627_fa_converted_final.png  \n",
       "..         ...      ...                                              ...  \n",
       "987          1        3         ./feret_all/1_3_20240129092233303664.png  \n",
       "988          1        3         ./feret_all/1_3_20240129092314313633.png  \n",
       "989          1        3         ./feret_all/1_3_20240129092409537478.png  \n",
       "990          1        3         ./feret_all/1_3_20240129092428710230.png  \n",
       "991          1        3         ./feret_all/1_3_20240129092524825695.png  \n",
       "\n",
       "[992 rows x 7 columns]"
      ]
     },
     "execution_count": 4,
     "metadata": {},
     "output_type": "execute_result"
    }
   ],
   "source": [
    "root_path = \"./colored/\"\n",
    "generation_path = \"./feret_all/\"\n",
    "df['file'] = df['filename'].apply(lambda x: os.path.join(root_path if \"final\" in x else generation_path, x))\n",
    "df"
   ]
  },
  {
   "cell_type": "code",
   "execution_count": 12,
   "id": "f310dd35-1697-401e-93f2-7f07f57c5e9f",
   "metadata": {},
   "outputs": [],
   "source": [
    "test_df['file'] = test_df['filename'].apply(lambda x: os.path.join(root_path, x))\n"
   ]
  },
  {
   "cell_type": "code",
   "execution_count": 5,
   "id": "140e2240-5596-4e87-9409-90c401938c24",
   "metadata": {},
   "outputs": [
    {
     "name": "stderr",
     "output_type": "stream",
     "text": [
      "2024-01-29 12:17:22.601803: I tensorflow/core/platform/cpu_feature_guard.cc:182] This TensorFlow binary is optimized to use available CPU instructions in performance-critical operations.\n",
      "To enable the following instructions: AVX2 AVX512F FMA, in other operations, rebuild TensorFlow with the appropriate compiler flags.\n",
      "2024-01-29 12:17:23.180353: W tensorflow/compiler/tf2tensorrt/utils/py_utils.cc:38] TF-TRT Warning: Could not find TensorRT\n"
     ]
    }
   ],
   "source": [
    "from keras.utils import to_categorical\n",
    "from PIL import Image\n",
    "\n",
    "def get_data_generator(df, indices, for_training, batch_size=16):\n",
    "    images, races, genders = [], [], []\n",
    "    while True:\n",
    "        for i in indices:\n",
    "            r = df.iloc[i]\n",
    "            file, race, gender = r['file'], r['race_id'], r['gender_id']\n",
    "            im = Image.open(file)\n",
    "            im = im.resize((IM_WIDTH, IM_HEIGHT))\n",
    "            im = np.array(im)\n",
    "            images.append(im)\n",
    "            races.append(to_categorical(race, len(RACE_ID_MAP)))\n",
    "            genders.append(to_categorical(gender, 2))\n",
    "            if len(images) >= batch_size:\n",
    "                yield np.array(images), [np.array(races), np.array(genders)]\n",
    "                images, races, genders = [], [], []\n",
    "        if not for_training:\n",
    "            break"
   ]
  },
  {
   "cell_type": "code",
   "execution_count": 6,
   "id": "1522a0b4-3a1a-4816-ac76-668e6e0b8184",
   "metadata": {},
   "outputs": [
    {
     "name": "stderr",
     "output_type": "stream",
     "text": [
      "2024-01-29 12:17:25.428427: W tensorflow/core/common_runtime/gpu/gpu_device.cc:1960] Cannot dlopen some GPU libraries. Please make sure the missing libraries mentioned above are installed properly if you would like to use GPU. Follow the guide at https://www.tensorflow.org/install/gpu for how to download and setup the required libraries for your platform.\n",
      "Skipping registering GPU devices...\n"
     ]
    }
   ],
   "source": [
    "from keras.layers import Input, Dense, BatchNormalization, Conv2D, MaxPool2D, GlobalMaxPool2D, Dropout\n",
    "from keras.optimizers import SGD\n",
    "from keras.models import Model\n",
    "\n",
    "def conv_block(inp, filters=32, bn=True, pool=True):\n",
    "    _ = Conv2D(filters=filters, kernel_size=3, activation='relu')(inp)\n",
    "    if bn:\n",
    "        _ = BatchNormalization()(_)\n",
    "    if pool:\n",
    "        _ = MaxPool2D()(_)\n",
    "    return _\n",
    "\n",
    "input_layer = Input(shape=(IM_HEIGHT, IM_WIDTH, 3))\n",
    "_ = conv_block(input_layer, filters=32, bn=False, pool=False)\n",
    "_ = conv_block(_, filters=32*2)\n",
    "_ = conv_block(_, filters=32*3)\n",
    "_ = conv_block(_, filters=32*4)\n",
    "_ = conv_block(_, filters=32*5)\n",
    "_ = conv_block(_, filters=32*6)\n",
    "bottleneck = GlobalMaxPool2D()(_)\n",
    "\n",
    "\n",
    "# for race prediction\n",
    "_ = Dense(units=1024, activation='relu')(bottleneck)\n",
    "race_output = Dense(units=len(RACE_ID_MAP), activation='softmax', name='race_output')(_)\n",
    "\n",
    "# for gender prediction\n",
    "_ = Dense(units=256, activation='relu')(bottleneck)\n",
    "gender_output = Dense(units=len(GENDER_ID_MAP), activation='softmax', name='gender_output')(_)\n",
    "\n",
    "model = Model(inputs=input_layer, outputs=[race_output, gender_output])\n",
    "model.compile(optimizer='rmsprop', \n",
    "              loss={'race_output': 'categorical_crossentropy', 'gender_output': 'categorical_crossentropy'},\n",
    "              loss_weights={'race_output': 1.5, 'gender_output': 1.},\n",
    "              metrics={'race_output': 'accuracy', 'gender_output': 'accuracy'})"
   ]
  },
  {
   "cell_type": "code",
   "execution_count": 7,
   "id": "ccecaeb4-8dfa-41d4-9b39-960c383e3dd1",
   "metadata": {},
   "outputs": [
    {
     "name": "stderr",
     "output_type": "stream",
     "text": [
      "/tmp/ipykernel_4193/2904728522.py:12: UserWarning: `Model.fit_generator` is deprecated and will be removed in a future version. Please use `Model.fit`, which supports generators.\n",
      "  history = model.fit_generator(train_gen,\n"
     ]
    },
    {
     "name": "stdout",
     "output_type": "stream",
     "text": [
      "Epoch 1/14\n",
      "19/19 [==============================] - ETA: 0s - loss: 2.9071 - race_output_loss: 1.4401 - gender_output_loss: 0.7469 - race_output_accuracy: 0.5526 - gender_output_accuracy: 0.6957INFO:tensorflow:Assets written to: ./model_checkpoint/assets\n"
     ]
    },
    {
     "name": "stderr",
     "output_type": "stream",
     "text": [
      "INFO:tensorflow:Assets written to: ./model_checkpoint/assets\n"
     ]
    },
    {
     "name": "stdout",
     "output_type": "stream",
     "text": [
      "19/19 [==============================] - 10s 490ms/step - loss: 2.9071 - race_output_loss: 1.4401 - gender_output_loss: 0.7469 - race_output_accuracy: 0.5526 - gender_output_accuracy: 0.6957 - val_loss: 24.3962 - val_race_output_loss: 13.1983 - val_gender_output_loss: 4.5987 - val_race_output_accuracy: 0.1250 - val_gender_output_accuracy: 0.4531\n",
      "Epoch 2/14\n",
      "19/19 [==============================] - ETA: 0s - loss: 2.0120 - race_output_loss: 1.0512 - gender_output_loss: 0.4351 - race_output_accuracy: 0.6102 - gender_output_accuracy: 0.7928INFO:tensorflow:Assets written to: ./model_checkpoint/assets\n"
     ]
    },
    {
     "name": "stderr",
     "output_type": "stream",
     "text": [
      "INFO:tensorflow:Assets written to: ./model_checkpoint/assets\n"
     ]
    },
    {
     "name": "stdout",
     "output_type": "stream",
     "text": [
      "19/19 [==============================] - 8s 454ms/step - loss: 2.0120 - race_output_loss: 1.0512 - gender_output_loss: 0.4351 - race_output_accuracy: 0.6102 - gender_output_accuracy: 0.7928 - val_loss: 20.4748 - val_race_output_loss: 11.1169 - val_gender_output_loss: 3.7995 - val_race_output_accuracy: 0.0859 - val_gender_output_accuracy: 0.4727\n",
      "Epoch 3/14\n",
      "19/19 [==============================] - ETA: 0s - loss: 1.5879 - race_output_loss: 0.8013 - gender_output_loss: 0.3860 - race_output_accuracy: 0.6941 - gender_output_accuracy: 0.8240INFO:tensorflow:Assets written to: ./model_checkpoint/assets\n"
     ]
    },
    {
     "name": "stderr",
     "output_type": "stream",
     "text": [
      "INFO:tensorflow:Assets written to: ./model_checkpoint/assets\n"
     ]
    },
    {
     "name": "stdout",
     "output_type": "stream",
     "text": [
      "19/19 [==============================] - 8s 423ms/step - loss: 1.5879 - race_output_loss: 0.8013 - gender_output_loss: 0.3860 - race_output_accuracy: 0.6941 - gender_output_accuracy: 0.8240 - val_loss: 25.5179 - val_race_output_loss: 12.9940 - val_gender_output_loss: 6.0270 - val_race_output_accuracy: 0.0859 - val_gender_output_accuracy: 0.4688\n",
      "Epoch 4/14\n",
      "19/19 [==============================] - ETA: 0s - loss: 1.3184 - race_output_loss: 0.6875 - gender_output_loss: 0.2872 - race_output_accuracy: 0.7303 - gender_output_accuracy: 0.8734INFO:tensorflow:Assets written to: ./model_checkpoint/assets\n"
     ]
    },
    {
     "name": "stderr",
     "output_type": "stream",
     "text": [
      "INFO:tensorflow:Assets written to: ./model_checkpoint/assets\n"
     ]
    },
    {
     "name": "stdout",
     "output_type": "stream",
     "text": [
      "19/19 [==============================] - 8s 428ms/step - loss: 1.3184 - race_output_loss: 0.6875 - gender_output_loss: 0.2872 - race_output_accuracy: 0.7303 - gender_output_accuracy: 0.8734 - val_loss: 7.2164 - val_race_output_loss: 4.1339 - val_gender_output_loss: 1.0156 - val_race_output_accuracy: 0.1133 - val_gender_output_accuracy: 0.4922\n",
      "Epoch 5/14\n",
      "19/19 [==============================] - ETA: 0s - loss: 0.8704 - race_output_loss: 0.4431 - gender_output_loss: 0.2057 - race_output_accuracy: 0.8289 - gender_output_accuracy: 0.9095INFO:tensorflow:Assets written to: ./model_checkpoint/assets\n"
     ]
    },
    {
     "name": "stderr",
     "output_type": "stream",
     "text": [
      "INFO:tensorflow:Assets written to: ./model_checkpoint/assets\n"
     ]
    },
    {
     "name": "stdout",
     "output_type": "stream",
     "text": [
      "19/19 [==============================] - 8s 415ms/step - loss: 0.8704 - race_output_loss: 0.4431 - gender_output_loss: 0.2057 - race_output_accuracy: 0.8289 - gender_output_accuracy: 0.9095 - val_loss: 5.8212 - val_race_output_loss: 3.2608 - val_gender_output_loss: 0.9301 - val_race_output_accuracy: 0.1797 - val_gender_output_accuracy: 0.5195\n",
      "Epoch 6/14\n",
      "19/19 [==============================] - ETA: 0s - loss: 0.7314 - race_output_loss: 0.3656 - gender_output_loss: 0.1830 - race_output_accuracy: 0.8701 - gender_output_accuracy: 0.9326INFO:tensorflow:Assets written to: ./model_checkpoint/assets\n"
     ]
    },
    {
     "name": "stderr",
     "output_type": "stream",
     "text": [
      "INFO:tensorflow:Assets written to: ./model_checkpoint/assets\n"
     ]
    },
    {
     "name": "stdout",
     "output_type": "stream",
     "text": [
      "19/19 [==============================] - 8s 425ms/step - loss: 0.7314 - race_output_loss: 0.3656 - gender_output_loss: 0.1830 - race_output_accuracy: 0.8701 - gender_output_accuracy: 0.9326 - val_loss: 7.8050 - val_race_output_loss: 4.3918 - val_gender_output_loss: 1.2172 - val_race_output_accuracy: 0.1836 - val_gender_output_accuracy: 0.5273\n",
      "Epoch 7/14\n",
      "19/19 [==============================] - ETA: 0s - loss: 0.4737 - race_output_loss: 0.2388 - gender_output_loss: 0.1155 - race_output_accuracy: 0.9079 - gender_output_accuracy: 0.9589INFO:tensorflow:Assets written to: ./model_checkpoint/assets\n"
     ]
    },
    {
     "name": "stderr",
     "output_type": "stream",
     "text": [
      "INFO:tensorflow:Assets written to: ./model_checkpoint/assets\n"
     ]
    },
    {
     "name": "stdout",
     "output_type": "stream",
     "text": [
      "19/19 [==============================] - 8s 429ms/step - loss: 0.4737 - race_output_loss: 0.2388 - gender_output_loss: 0.1155 - race_output_accuracy: 0.9079 - gender_output_accuracy: 0.9589 - val_loss: 3.9152 - val_race_output_loss: 2.3006 - val_gender_output_loss: 0.4644 - val_race_output_accuracy: 0.3398 - val_gender_output_accuracy: 0.7617\n",
      "Epoch 8/14\n",
      "19/19 [==============================] - ETA: 0s - loss: 0.3926 - race_output_loss: 0.1956 - gender_output_loss: 0.0993 - race_output_accuracy: 0.9342 - gender_output_accuracy: 0.9638INFO:tensorflow:Assets written to: ./model_checkpoint/assets\n"
     ]
    },
    {
     "name": "stderr",
     "output_type": "stream",
     "text": [
      "INFO:tensorflow:Assets written to: ./model_checkpoint/assets\n"
     ]
    },
    {
     "name": "stdout",
     "output_type": "stream",
     "text": [
      "19/19 [==============================] - 8s 417ms/step - loss: 0.3926 - race_output_loss: 0.1956 - gender_output_loss: 0.0993 - race_output_accuracy: 0.9342 - gender_output_accuracy: 0.9638 - val_loss: 3.3961 - val_race_output_loss: 1.5584 - val_gender_output_loss: 1.0585 - val_race_output_accuracy: 0.5234 - val_gender_output_accuracy: 0.5977\n",
      "Epoch 9/14\n",
      "19/19 [==============================] - ETA: 0s - loss: 0.3372 - race_output_loss: 0.1567 - gender_output_loss: 0.1021 - race_output_accuracy: 0.9589 - gender_output_accuracy: 0.9671INFO:tensorflow:Assets written to: ./model_checkpoint/assets\n"
     ]
    },
    {
     "name": "stderr",
     "output_type": "stream",
     "text": [
      "INFO:tensorflow:Assets written to: ./model_checkpoint/assets\n"
     ]
    },
    {
     "name": "stdout",
     "output_type": "stream",
     "text": [
      "19/19 [==============================] - 8s 418ms/step - loss: 0.3372 - race_output_loss: 0.1567 - gender_output_loss: 0.1021 - race_output_accuracy: 0.9589 - gender_output_accuracy: 0.9671 - val_loss: 4.9912 - val_race_output_loss: 2.4278 - val_gender_output_loss: 1.3494 - val_race_output_accuracy: 0.3398 - val_gender_output_accuracy: 0.5898\n",
      "Epoch 10/14\n",
      "19/19 [==============================] - ETA: 0s - loss: 0.3978 - race_output_loss: 0.2189 - gender_output_loss: 0.0695 - race_output_accuracy: 0.9391 - gender_output_accuracy: 0.9770INFO:tensorflow:Assets written to: ./model_checkpoint/assets\n"
     ]
    },
    {
     "name": "stderr",
     "output_type": "stream",
     "text": [
      "INFO:tensorflow:Assets written to: ./model_checkpoint/assets\n"
     ]
    },
    {
     "name": "stdout",
     "output_type": "stream",
     "text": [
      "19/19 [==============================] - 8s 426ms/step - loss: 0.3978 - race_output_loss: 0.2189 - gender_output_loss: 0.0695 - race_output_accuracy: 0.9391 - gender_output_accuracy: 0.9770 - val_loss: 5.0878 - val_race_output_loss: 2.7241 - val_gender_output_loss: 1.0017 - val_race_output_accuracy: 0.4258 - val_gender_output_accuracy: 0.6836\n",
      "Epoch 11/14\n",
      "19/19 [==============================] - ETA: 0s - loss: 0.1908 - race_output_loss: 0.0941 - gender_output_loss: 0.0496 - race_output_accuracy: 0.9688 - gender_output_accuracy: 0.9803INFO:tensorflow:Assets written to: ./model_checkpoint/assets\n"
     ]
    },
    {
     "name": "stderr",
     "output_type": "stream",
     "text": [
      "INFO:tensorflow:Assets written to: ./model_checkpoint/assets\n"
     ]
    },
    {
     "name": "stdout",
     "output_type": "stream",
     "text": [
      "19/19 [==============================] - 8s 417ms/step - loss: 0.1908 - race_output_loss: 0.0941 - gender_output_loss: 0.0496 - race_output_accuracy: 0.9688 - gender_output_accuracy: 0.9803 - val_loss: 2.3815 - val_race_output_loss: 1.1480 - val_gender_output_loss: 0.6595 - val_race_output_accuracy: 0.6367 - val_gender_output_accuracy: 0.7969\n",
      "Epoch 12/14\n",
      "19/19 [==============================] - ETA: 0s - loss: 0.2474 - race_output_loss: 0.1279 - gender_output_loss: 0.0556 - race_output_accuracy: 0.9556 - gender_output_accuracy: 0.9786INFO:tensorflow:Assets written to: ./model_checkpoint/assets\n"
     ]
    },
    {
     "name": "stderr",
     "output_type": "stream",
     "text": [
      "INFO:tensorflow:Assets written to: ./model_checkpoint/assets\n"
     ]
    },
    {
     "name": "stdout",
     "output_type": "stream",
     "text": [
      "19/19 [==============================] - 8s 429ms/step - loss: 0.2474 - race_output_loss: 0.1279 - gender_output_loss: 0.0556 - race_output_accuracy: 0.9556 - gender_output_accuracy: 0.9786 - val_loss: 2.5795 - val_race_output_loss: 1.3986 - val_gender_output_loss: 0.4815 - val_race_output_accuracy: 0.6211 - val_gender_output_accuracy: 0.7930\n",
      "Epoch 13/14\n",
      "19/19 [==============================] - ETA: 0s - loss: 0.1348 - race_output_loss: 0.0577 - gender_output_loss: 0.0483 - race_output_accuracy: 0.9819 - gender_output_accuracy: 0.9803INFO:tensorflow:Assets written to: ./model_checkpoint/assets\n"
     ]
    },
    {
     "name": "stderr",
     "output_type": "stream",
     "text": [
      "INFO:tensorflow:Assets written to: ./model_checkpoint/assets\n"
     ]
    },
    {
     "name": "stdout",
     "output_type": "stream",
     "text": [
      "19/19 [==============================] - 8s 414ms/step - loss: 0.1348 - race_output_loss: 0.0577 - gender_output_loss: 0.0483 - race_output_accuracy: 0.9819 - gender_output_accuracy: 0.9803 - val_loss: 2.9847 - val_race_output_loss: 1.3517 - val_gender_output_loss: 0.9572 - val_race_output_accuracy: 0.6875 - val_gender_output_accuracy: 0.7812\n",
      "Epoch 14/14\n",
      "19/19 [==============================] - ETA: 0s - loss: 0.1991 - race_output_loss: 0.0811 - gender_output_loss: 0.0774 - race_output_accuracy: 0.9688 - gender_output_accuracy: 0.9770INFO:tensorflow:Assets written to: ./model_checkpoint/assets\n"
     ]
    },
    {
     "name": "stderr",
     "output_type": "stream",
     "text": [
      "INFO:tensorflow:Assets written to: ./model_checkpoint/assets\n"
     ]
    },
    {
     "name": "stdout",
     "output_type": "stream",
     "text": [
      "19/19 [==============================] - 8s 422ms/step - loss: 0.1991 - race_output_loss: 0.0811 - gender_output_loss: 0.0774 - race_output_accuracy: 0.9688 - gender_output_accuracy: 0.9770 - val_loss: 2.9151 - val_race_output_loss: 1.4017 - val_gender_output_loss: 0.8125 - val_race_output_accuracy: 0.7305 - val_gender_output_accuracy: 0.8164\n"
     ]
    }
   ],
   "source": [
    "from keras.callbacks import ModelCheckpoint\n",
    "\n",
    "batch_size = 32\n",
    "valid_batch_size = 32\n",
    "train_gen = get_data_generator(df, train_idx, for_training=True, batch_size=batch_size)\n",
    "valid_gen = get_data_generator(df, valid_idx, for_training=True, batch_size=valid_batch_size)\n",
    "\n",
    "callbacks = [\n",
    "    ModelCheckpoint(\"./model_checkpoint\", monitor='val_loss')\n",
    "]\n",
    "\n",
    "history = model.fit_generator(train_gen,\n",
    "                    steps_per_epoch=len(train_idx)//batch_size,\n",
    "                    epochs=14,\n",
    "                    callbacks=callbacks,\n",
    "                    validation_data=valid_gen,\n",
    "                    validation_steps=len(valid_idx)//valid_batch_size)\n",
    "\n"
   ]
  },
  {
   "cell_type": "code",
   "execution_count": 8,
   "id": "d58ca9c3-dd38-4f57-af2c-07aac0b863f0",
   "metadata": {},
   "outputs": [
    {
     "data": {
      "image/png": "[encoded data removed]",
      "text/plain": [
       "<Figure size 2000x500 with 3 Axes>"
      ]
     },
     "metadata": {},
     "output_type": "display_data"
    }
   ],
   "source": [
    "def  plot_train_history(history):\n",
    "    fig, axes = plt.subplots(1, 3, figsize=(20, 5))\n",
    "    axes[0].plot(history.history['race_output_accuracy'], label='Race Train accuracy')\n",
    "    axes[0].plot(history.history['val_race_output_accuracy'], label='Race Val accuracy')\n",
    "    axes[0].set_xlabel('Epochs')\n",
    "    axes[0].legend()\n",
    "    \n",
    "    axes[1].plot(history.history['gender_output_accuracy'], label='Gender Train accuracy')\n",
    "    axes[1].plot(history.history['val_gender_output_accuracy'], label='Gener Val accuracy')\n",
    "    axes[1].set_xlabel('Epochs')\n",
    "    axes[1].legend()\n",
    "\n",
    "\n",
    "    axes[2].plot(history.history['loss'], label='Training loss')\n",
    "    axes[2].plot(history.history['val_loss'], label='Validation loss')\n",
    "    axes[2].set_xlabel('Epochs')\n",
    "    axes[2].legend()\n",
    "\n",
    "plot_train_history(history)\n",
    "\n"
   ]
  },
  {
   "cell_type": "code",
   "execution_count": 9,
   "id": "1848e92a-190e-4c7b-a6f0-a1d368af00d9",
   "metadata": {},
   "outputs": [
    {
     "name": "stderr",
     "output_type": "stream",
     "text": [
      "/tmp/ipykernel_4193/867736833.py:4: UserWarning: `Model.evaluate_generator` is deprecated and will be removed in a future version. Please use `Model.evaluate`, which supports generators.\n",
      "  dict(zip(model.metrics_names, model.evaluate_generator(test_gen, steps=len(test_idx)//16)))\n"
     ]
    },
    {
     "data": {
      "text/plain": [
       "{'loss': 3.113416910171509,\n",
       " 'race_output_loss': 1.4478178024291992,\n",
       " 'gender_output_loss': 0.9416900277137756,\n",
       " 'race_output_accuracy': 0.75,\n",
       " 'gender_output_accuracy': 0.8229166865348816}"
      ]
     },
     "execution_count": 9,
     "metadata": {},
     "output_type": "execute_result"
    }
   ],
   "source": [
    "# for unfair testing \n",
    "\n",
    "test_gen = get_data_generator(df, test_idx, for_training=False, batch_size=16)\n",
    "dict(zip(model.metrics_names, model.evaluate_generator(test_gen, steps=len(test_idx)//16)))"
   ]
  },
  {
   "cell_type": "code",
   "execution_count": 10,
   "id": "d5b23660-46bc-4584-bb98-3834d0d08c0c",
   "metadata": {},
   "outputs": [
    {
     "name": "stdout",
     "output_type": "stream",
     "text": [
      "Classification report for race\n",
      "              precision    recall  f1-score   support\n",
      "\n",
      "           0       0.85      0.92      0.88        12\n",
      "           1       0.00      0.00      0.00         1\n",
      "           2       0.00      0.00      0.00         1\n",
      "           3       0.00      0.00      0.00         1\n",
      "           4       1.00      1.00      1.00         1\n",
      "\n",
      "    accuracy                           0.75        16\n",
      "   macro avg       0.37      0.38      0.38        16\n",
      "weighted avg       0.70      0.75      0.72        16\n",
      "\n",
      "\n",
      "Classification report for gender\n",
      "              precision    recall  f1-score   support\n",
      "\n",
      "           0       0.67      0.86      0.75         7\n",
      "           1       0.86      0.67      0.75         9\n",
      "\n",
      "    accuracy                           0.75        16\n",
      "   macro avg       0.76      0.76      0.75        16\n",
      "weighted avg       0.77      0.75      0.75        16\n",
      "\n"
     ]
    },
    {
     "name": "stderr",
     "output_type": "stream",
     "text": [
      "/home/mahdi/FairnessLens/PreProcessor/venv/lib/python3.8/site-packages/sklearn/metrics/_classification.py:1471: UndefinedMetricWarning: Precision and F-score are ill-defined and being set to 0.0 in labels with no predicted samples. Use `zero_division` parameter to control this behavior.\n",
      "  _warn_prf(average, modifier, msg_start, len(result))\n",
      "/home/mahdi/FairnessLens/PreProcessor/venv/lib/python3.8/site-packages/sklearn/metrics/_classification.py:1471: UndefinedMetricWarning: Precision and F-score are ill-defined and being set to 0.0 in labels with no predicted samples. Use `zero_division` parameter to control this behavior.\n",
      "  _warn_prf(average, modifier, msg_start, len(result))\n",
      "/home/mahdi/FairnessLens/PreProcessor/venv/lib/python3.8/site-packages/sklearn/metrics/_classification.py:1471: UndefinedMetricWarning: Precision and F-score are ill-defined and being set to 0.0 in labels with no predicted samples. Use `zero_division` parameter to control this behavior.\n",
      "  _warn_prf(average, modifier, msg_start, len(result))\n"
     ]
    }
   ],
   "source": [
    "# for unfair testing\n",
    "test_gen = get_data_generator(df, test_idx, for_training=False, batch_size=16)\n",
    "x_test, (race_true, gender_true)= next(test_gen)\n",
    "race_pred, gender_pred = model.predict_on_batch(x_test)\n",
    "\n",
    "\n",
    "race_true, gender_true = race_true.argmax(axis=-1), gender_true.argmax(axis=-1)\n",
    "race_pred, gender_pred = race_pred.argmax(axis=-1), gender_pred.argmax(axis=-1)\n",
    "\n",
    "from sklearn.metrics import classification_report\n",
    "print(\"Classification report for race\")\n",
    "print(classification_report(race_true, race_pred))\n",
    "\n",
    "print(\"\\nClassification report for gender\")\n",
    "print(classification_report(gender_true, gender_pred))"
   ]
  },
  {
   "cell_type": "code",
   "execution_count": 13,
   "id": "4e740d28-99bf-4745-a45e-d9c07411cd3b",
   "metadata": {},
   "outputs": [],
   "source": [
    "p_t = np.random.permutation(len(test_df))\n",
    "test_index = p_t[:]\n",
    "len(test_index)\n",
    "test_df['gender_id'] = test_df['gender'].map(lambda gender: gender)\n",
    "test_df['race_id'] = test_df['race'].map(lambda race: race)"
   ]
  },
  {
   "cell_type": "code",
   "execution_count": 14,
   "id": "50cfa753-9125-4df6-a444-0f17d2e9b771",
   "metadata": {},
   "outputs": [
    {
     "name": "stderr",
     "output_type": "stream",
     "text": [
      "/tmp/ipykernel_4193/1964998669.py:2: UserWarning: `Model.evaluate_generator` is deprecated and will be removed in a future version. Please use `Model.evaluate`, which supports generators.\n",
      "  dict(zip(model.metrics_names, model.evaluate_generator(test_gen, steps=len(test_index)//16)))\n"
     ]
    },
    {
     "data": {
      "text/plain": [
       "{'loss': 14.118294715881348,\n",
       " 'race_output_loss': 8.737601280212402,\n",
       " 'gender_output_loss': 1.011892557144165,\n",
       " 'race_output_accuracy': 0.22159090638160706,\n",
       " 'gender_output_accuracy': 0.8238636255264282}"
      ]
     },
     "execution_count": 14,
     "metadata": {},
     "output_type": "execute_result"
    }
   ],
   "source": [
    "test_gen = get_data_generator(test_df, test_index, for_training=False, batch_size=16)\n",
    "dict(zip(model.metrics_names, model.evaluate_generator(test_gen, steps=len(test_index)//16)))"
   ]
  },
  {
   "cell_type": "code",
   "execution_count": 15,
   "id": "cfe64c41-4d21-4133-b60d-dfdf215200ee",
   "metadata": {},
   "outputs": [],
   "source": [
    "test_gen = get_data_generator(test_df, test_index, for_training=False, batch_size=16)\n",
    "x_test, (race_true, gender_true)= next(test_gen)\n",
    "race_pred, gender_pred = model.predict_on_batch(x_test)"
   ]
  },
  {
   "cell_type": "code",
   "execution_count": 16,
   "id": "cd8cba5a-9595-4a76-9826-085d9b7be803",
   "metadata": {},
   "outputs": [],
   "source": [
    "race_true, gender_true = race_true.argmax(axis=-1), gender_true.argmax(axis=-1)\n",
    "race_pred, gender_pred = race_pred.argmax(axis=-1), gender_pred.argmax(axis=-1)"
   ]
  },
  {
   "cell_type": "code",
   "execution_count": 17,
   "id": "1ef481cf-8e01-46db-8eff-54ba92f8f0bd",
   "metadata": {},
   "outputs": [
    {
     "name": "stdout",
     "output_type": "stream",
     "text": [
      "Classification report for race\n",
      "              precision    recall  f1-score   support\n",
      "\n",
      "           0       0.19      1.00      0.32         3\n",
      "           1       0.00      0.00      0.00         5\n",
      "           2       0.00      0.00      0.00         3\n",
      "           3       0.00      0.00      0.00         1\n",
      "           4       0.00      0.00      0.00         4\n",
      "\n",
      "    accuracy                           0.19        16\n",
      "   macro avg       0.04      0.20      0.06        16\n",
      "weighted avg       0.04      0.19      0.06        16\n",
      "\n",
      "\n",
      "Classification report for gender\n",
      "              precision    recall  f1-score   support\n",
      "\n",
      "           0       0.69      1.00      0.82         9\n",
      "           1       1.00      0.43      0.60         7\n",
      "\n",
      "    accuracy                           0.75        16\n",
      "   macro avg       0.85      0.71      0.71        16\n",
      "weighted avg       0.83      0.75      0.72        16\n",
      "\n"
     ]
    },
    {
     "name": "stderr",
     "output_type": "stream",
     "text": [
      "/home/mahdi/FairnessLens/PreProcessor/venv/lib/python3.8/site-packages/sklearn/metrics/_classification.py:1471: UndefinedMetricWarning: Precision and F-score are ill-defined and being set to 0.0 in labels with no predicted samples. Use `zero_division` parameter to control this behavior.\n",
      "  _warn_prf(average, modifier, msg_start, len(result))\n",
      "/home/mahdi/FairnessLens/PreProcessor/venv/lib/python3.8/site-packages/sklearn/metrics/_classification.py:1471: UndefinedMetricWarning: Precision and F-score are ill-defined and being set to 0.0 in labels with no predicted samples. Use `zero_division` parameter to control this behavior.\n",
      "  _warn_prf(average, modifier, msg_start, len(result))\n",
      "/home/mahdi/FairnessLens/PreProcessor/venv/lib/python3.8/site-packages/sklearn/metrics/_classification.py:1471: UndefinedMetricWarning: Precision and F-score are ill-defined and being set to 0.0 in labels with no predicted samples. Use `zero_division` parameter to control this behavior.\n",
      "  _warn_prf(average, modifier, msg_start, len(result))\n"
     ]
    }
   ],
   "source": [
    "from sklearn.metrics import classification_report\n",
    "print(\"Classification report for race\")\n",
    "print(classification_report(race_true, race_pred))\n",
    "\n",
    "print(\"\\nClassification report for gender\")\n",
    "print(classification_report(gender_true, gender_pred))"
   ]
  },
  {
   "cell_type": "code",
   "execution_count": null,
   "id": "e6d5bcb5-13c7-41ed-babf-640b8ff11eb9",
   "metadata": {},
   "outputs": [],
   "source": []
  }
 ],
 "metadata": {
  "kernelspec": {
   "display_name": "Python 3 (ipykernel)",
   "language": "python",
   "name": "python3"
  },
  "language_info": {
   "codemirror_mode": {
    "name": "ipython",
    "version": 3
   },
   "file_extension": ".py",
   "mimetype": "text/x-python",
   "name": "python",
   "nbconvert_exporter": "python",
   "pygments_lexer": "ipython3",
   "version": "3.8.0"
  }
 },
 "nbformat": 4,
 "nbformat_minor": 5
}
