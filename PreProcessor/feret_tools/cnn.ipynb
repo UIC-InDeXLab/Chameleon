{
 "cells": [
  {
   "cell_type": "code",
   "execution_count": 1,
   "id": "initial_id",
   "metadata": {
    "ExecuteTime": {
     "end_time": "2024-01-25T23:21:21.456584776Z",
     "start_time": "2024-01-25T23:21:19.962105223Z"
    }
   },
   "outputs": [],
   "source": [
    "import pandas as pd\n",
    "import cv2\n",
    "import numpy as np\n",
    "from sklearn.model_selection import train_test_split\n",
    "import matplotlib.pyplot as plt\n",
    "import os "
   ]
  },
  {
   "cell_type": "code",
   "execution_count": 2,
   "id": "d4453a66733873e0",
   "metadata": {
    "collapsed": false,
    "ExecuteTime": {
     "end_time": "2024-01-13T18:45:38.861097906Z",
     "start_time": "2024-01-13T18:45:38.840973422Z"
    }
   },
   "outputs": [],
   "source": [
    "csv_filename = 'feret_without_generations.csv' \n",
    "df = pd.read_csv(csv_filename)"
   ]
  },
  {
   "cell_type": "code",
   "execution_count": 3,
   "id": "f55424e4e8bb99b3",
   "metadata": {
    "collapsed": false,
    "ExecuteTime": {
     "end_time": "2024-01-13T18:45:39.451608808Z",
     "start_time": "2024-01-13T18:45:39.443174560Z"
    }
   },
   "outputs": [],
   "source": [
    "train_df, test_df = train_test_split(df, test_size=0.2, random_state=42)"
   ]
  },
  {
   "cell_type": "code",
   "execution_count": 4,
   "id": "ded509c52fb35dbc",
   "metadata": {
    "collapsed": false,
    "ExecuteTime": {
     "end_time": "2024-01-13T18:45:39.867667498Z",
     "start_time": "2024-01-13T18:45:39.854838853Z"
    }
   },
   "outputs": [
    {
     "data": {
      "text/plain": "                                  filename  gender  race  is_generated\n647    00707_941205_fa_converted_final.png       0     0         False\n607    00663_941121_fa_converted_final.png       1     0         False\n63   00099_931230_fa_a_converted_final.png       0     2         False\n319    00364_940422_fa_converted_final.png       0     0         False\n101    00138_931230_fa_converted_final.png       0     0         False\n..                                     ...     ...   ...           ...\n110    00147_931230_fa_converted_final.png       1     2         False\n82   00118_931230_fa_a_converted_final.png       0     0         False\n51     00086_931230_fa_converted_final.png       0     0         False\n428    00480_940519_fa_converted_final.png       1     0         False\n569    00623_940928_fa_converted_final.png       0     0         False\n\n[136 rows x 4 columns]",
      "text/html": "<div>\n<style scoped>\n    .dataframe tbody tr th:only-of-type {\n        vertical-align: middle;\n    }\n\n    .dataframe tbody tr th {\n        vertical-align: top;\n    }\n\n    .dataframe thead th {\n        text-align: right;\n    }\n</style>\n<table border=\"1\" class=\"dataframe\">\n  <thead>\n    <tr style=\"text-align: right;\">\n      <th></th>\n      <th>filename</th>\n      <th>gender</th>\n      <th>race</th>\n      <th>is_generated</th>\n    </tr>\n  </thead>\n  <tbody>\n    <tr>\n      <th>647</th>\n      <td>00707_941205_fa_converted_final.png</td>\n      <td>0</td>\n      <td>0</td>\n      <td>False</td>\n    </tr>\n    <tr>\n      <th>607</th>\n      <td>00663_941121_fa_converted_final.png</td>\n      <td>1</td>\n      <td>0</td>\n      <td>False</td>\n    </tr>\n    <tr>\n      <th>63</th>\n      <td>00099_931230_fa_a_converted_final.png</td>\n      <td>0</td>\n      <td>2</td>\n      <td>False</td>\n    </tr>\n    <tr>\n      <th>319</th>\n      <td>00364_940422_fa_converted_final.png</td>\n      <td>0</td>\n      <td>0</td>\n      <td>False</td>\n    </tr>\n    <tr>\n      <th>101</th>\n      <td>00138_931230_fa_converted_final.png</td>\n      <td>0</td>\n      <td>0</td>\n      <td>False</td>\n    </tr>\n    <tr>\n      <th>...</th>\n      <td>...</td>\n      <td>...</td>\n      <td>...</td>\n      <td>...</td>\n    </tr>\n    <tr>\n      <th>110</th>\n      <td>00147_931230_fa_converted_final.png</td>\n      <td>1</td>\n      <td>2</td>\n      <td>False</td>\n    </tr>\n    <tr>\n      <th>82</th>\n      <td>00118_931230_fa_a_converted_final.png</td>\n      <td>0</td>\n      <td>0</td>\n      <td>False</td>\n    </tr>\n    <tr>\n      <th>51</th>\n      <td>00086_931230_fa_converted_final.png</td>\n      <td>0</td>\n      <td>0</td>\n      <td>False</td>\n    </tr>\n    <tr>\n      <th>428</th>\n      <td>00480_940519_fa_converted_final.png</td>\n      <td>1</td>\n      <td>0</td>\n      <td>False</td>\n    </tr>\n    <tr>\n      <th>569</th>\n      <td>00623_940928_fa_converted_final.png</td>\n      <td>0</td>\n      <td>0</td>\n      <td>False</td>\n    </tr>\n  </tbody>\n</table>\n<p>136 rows × 4 columns</p>\n</div>"
     },
     "execution_count": 4,
     "metadata": {},
     "output_type": "execute_result"
    }
   ],
   "source": [
    "test_df"
   ]
  },
  {
   "cell_type": "code",
   "execution_count": 5,
   "outputs": [],
   "source": [
    "generated_df = pd.read_csv(\"feret_generated.csv\")\n",
    "train_df = pd.concat([train_df, generated_df], ignore_index=True)"
   ],
   "metadata": {
    "collapsed": false,
    "ExecuteTime": {
     "end_time": "2024-01-13T18:45:40.478949250Z",
     "start_time": "2024-01-13T18:45:40.466194421Z"
    }
   },
   "id": "16f862dcea2b967a"
  },
  {
   "cell_type": "code",
   "execution_count": 6,
   "id": "17252b2f0d2695ee",
   "metadata": {
    "collapsed": false,
    "ExecuteTime": {
     "end_time": "2024-01-13T18:45:40.998183231Z",
     "start_time": "2024-01-13T18:45:40.982158705Z"
    }
   },
   "outputs": [],
   "source": [
    "root_path = \"/home/mahdi/Projects/FairnessLens/FERET/colorferet/dvd1/colored/\"\n",
    "generation_path = \"/home/mahdi/Projects/FairnessLens/Gateway/results/feret/\"\n",
    "train_df['image_path'] = train_df['filename'].apply(lambda x: os.path.join(root_path if \"final\" in x else generation_path, x))\n",
    "test_df['image_path'] = test_df['filename'].apply(lambda x: os.path.join(root_path, x))"
   ]
  },
  {
   "cell_type": "code",
   "execution_count": 7,
   "id": "3589b75d64cd1ee7",
   "metadata": {
    "collapsed": false,
    "ExecuteTime": {
     "end_time": "2024-01-13T18:45:41.411571801Z",
     "start_time": "2024-01-13T18:45:41.400879425Z"
    }
   },
   "outputs": [
    {
     "data": {
      "text/plain": "['/home/mahdi/Projects/FairnessLens/FERET/colorferet/dvd1/colored/00738_941201_fa_converted_final.png',\n '/home/mahdi/Projects/FairnessLens/FERET/colorferet/dvd1/colored/00500_940519_fa_converted_final.png',\n '/home/mahdi/Projects/FairnessLens/FERET/colorferet/dvd1/colored/00733_941201_fa_converted_final.png',\n '/home/mahdi/Projects/FairnessLens/FERET/colorferet/dvd1/colored/00053_931230_fa_converted_final.png',\n '/home/mahdi/Projects/FairnessLens/FERET/colorferet/dvd1/colored/00530_940519_fa_converted_final.png',\n '/home/mahdi/Projects/FairnessLens/FERET/colorferet/dvd1/colored/00504_940519_fa_converted_final.png',\n '/home/mahdi/Projects/FairnessLens/FERET/colorferet/dvd1/colored/00700_941121_fa_converted_final.png',\n '/home/mahdi/Projects/FairnessLens/FERET/colorferet/dvd1/colored/00097_931230_fa_converted_final.png',\n '/home/mahdi/Projects/FairnessLens/FERET/colorferet/dvd1/colored/00194_940128_fa_converted_final.png',\n '/home/mahdi/Projects/FairnessLens/FERET/colorferet/dvd1/colored/00410_940422_fa_converted_final.png',\n '/home/mahdi/Projects/FairnessLens/FERET/colorferet/dvd1/colored/00064_931230_fa_converted_final.png',\n '/home/mahdi/Projects/FairnessLens/FERET/colorferet/dvd1/colored/00331_940422_fa_converted_final.png',\n '/home/mahdi/Projects/FairnessLens/FERET/colorferet/dvd1/colored/00197_940128_fa_converted_final.png',\n '/home/mahdi/Projects/FairnessLens/FERET/colorferet/dvd1/colored/00564_941031_fa_converted_final.png',\n '/home/mahdi/Projects/FairnessLens/FERET/colorferet/dvd1/colored/00583_940928_fa_converted_final.png',\n '/home/mahdi/Projects/FairnessLens/FERET/colorferet/dvd1/colored/00472_960627_fa_converted_final.png',\n '/home/mahdi/Projects/FairnessLens/FERET/colorferet/dvd1/colored/00549_940519_fa_converted_final.png',\n '/home/mahdi/Projects/FairnessLens/FERET/colorferet/dvd1/colored/00402_940422_fa_converted_final.png',\n '/home/mahdi/Projects/FairnessLens/FERET/colorferet/dvd1/colored/00597_941031_fa_converted_final.png',\n '/home/mahdi/Projects/FairnessLens/FERET/colorferet/dvd1/colored/00703_941205_fa_converted_final.png',\n '/home/mahdi/Projects/FairnessLens/FERET/colorferet/dvd1/colored/00258_940128_fa_converted_final.png',\n '/home/mahdi/Projects/FairnessLens/FERET/colorferet/dvd1/colored/00359_940422_fa_converted_final.png',\n '/home/mahdi/Projects/FairnessLens/FERET/colorferet/dvd1/colored/00396_940422_fa_converted_final.png',\n '/home/mahdi/Projects/FairnessLens/FERET/colorferet/dvd1/colored/00246_940128_fa_converted_final.png',\n '/home/mahdi/Projects/FairnessLens/FERET/colorferet/dvd1/colored/00498_940519_fa_converted_final.png',\n '/home/mahdi/Projects/FairnessLens/FERET/colorferet/dvd1/colored/00261_940128_fa_converted_final.png',\n '/home/mahdi/Projects/FairnessLens/FERET/colorferet/dvd1/colored/00694_941121_fa_converted_final.png',\n '/home/mahdi/Projects/FairnessLens/FERET/colorferet/dvd1/colored/00202_940128_fa_converted_final.png',\n '/home/mahdi/Projects/FairnessLens/FERET/colorferet/dvd1/colored/00422_940422_fa_converted_final.png',\n '/home/mahdi/Projects/FairnessLens/FERET/colorferet/dvd1/colored/00648_941031_fa_converted_final.png',\n '/home/mahdi/Projects/FairnessLens/FERET/colorferet/dvd1/colored/00473_940519_fa_converted_final.png',\n '/home/mahdi/Projects/FairnessLens/FERET/colorferet/dvd1/colored/00378_940422_fa_converted_final.png',\n '/home/mahdi/Projects/FairnessLens/FERET/colorferet/dvd1/colored/00635_941031_fa_converted_final.png',\n '/home/mahdi/Projects/FairnessLens/FERET/colorferet/dvd1/colored/00442_940422_fa_converted_final.png',\n '/home/mahdi/Projects/FairnessLens/FERET/colorferet/dvd1/colored/00141_931230_fa_converted_final.png',\n '/home/mahdi/Projects/FairnessLens/FERET/colorferet/dvd1/colored/00152_931230_fa_converted_final.png',\n '/home/mahdi/Projects/FairnessLens/FERET/colorferet/dvd1/colored/00665_941121_fa_converted_final.png',\n '/home/mahdi/Projects/FairnessLens/FERET/colorferet/dvd1/colored/00639_941031_fa_converted_final.png',\n '/home/mahdi/Projects/FairnessLens/FERET/colorferet/dvd1/colored/00295_940422_fa_converted_final.png',\n '/home/mahdi/Projects/FairnessLens/FERET/colorferet/dvd1/colored/00546_940519_fa_a_converted_final.png',\n '/home/mahdi/Projects/FairnessLens/FERET/colorferet/dvd1/colored/00040_931230_fa_converted_final.png',\n '/home/mahdi/Projects/FairnessLens/FERET/colorferet/dvd1/colored/00126_931230_fa_converted_final.png',\n '/home/mahdi/Projects/FairnessLens/FERET/colorferet/dvd1/colored/00568_941031_fa_converted_final.png',\n '/home/mahdi/Projects/FairnessLens/FERET/colorferet/dvd1/colored/00542_940519_fa_converted_final.png',\n '/home/mahdi/Projects/FairnessLens/FERET/colorferet/dvd1/colored/00678_941121_fa_converted_final.png',\n '/home/mahdi/Projects/FairnessLens/FERET/colorferet/dvd1/colored/00728_941201_fa_converted_final.png',\n '/home/mahdi/Projects/FairnessLens/FERET/colorferet/dvd1/colored/00397_940422_fa_converted_final.png',\n '/home/mahdi/Projects/FairnessLens/FERET/colorferet/dvd1/colored/00666_941121_fa_converted_final.png',\n '/home/mahdi/Projects/FairnessLens/FERET/colorferet/dvd1/colored/00179_931230_fa_converted_final.png',\n '/home/mahdi/Projects/FairnessLens/FERET/colorferet/dvd1/colored/00289_940422_fa_converted_final.png',\n '/home/mahdi/Projects/FairnessLens/FERET/colorferet/dvd1/colored/00078_931230_fa_a_converted_final.png',\n '/home/mahdi/Projects/FairnessLens/FERET/colorferet/dvd1/colored/00077_931230_fa_converted_final.png',\n '/home/mahdi/Projects/FairnessLens/FERET/colorferet/dvd1/colored/00109_931230_fa_converted_final.png',\n '/home/mahdi/Projects/FairnessLens/FERET/colorferet/dvd1/colored/00206_940128_fa_a_converted_final.png',\n '/home/mahdi/Projects/FairnessLens/FERET/colorferet/dvd1/colored/00517_940519_fa_a_converted_final.png',\n '/home/mahdi/Projects/FairnessLens/FERET/colorferet/dvd1/colored/00646_941031_fa_converted_final.png',\n '/home/mahdi/Projects/FairnessLens/FERET/colorferet/dvd1/colored/00102_931230_fa_converted_final.png',\n '/home/mahdi/Projects/FairnessLens/FERET/colorferet/dvd1/colored/00046_931230_fa_converted_final.png',\n '/home/mahdi/Projects/FairnessLens/FERET/colorferet/dvd1/colored/00589_940928_fa_converted_final.png',\n '/home/mahdi/Projects/FairnessLens/FERET/colorferet/dvd1/colored/00709_941201_fa_converted_final.png',\n '/home/mahdi/Projects/FairnessLens/FERET/colorferet/dvd1/colored/00293_940422_fa_converted_final.png',\n '/home/mahdi/Projects/FairnessLens/FERET/colorferet/dvd1/colored/00668_941121_fa_converted_final.png',\n '/home/mahdi/Projects/FairnessLens/FERET/colorferet/dvd1/colored/00391_940422_fa_converted_final.png',\n '/home/mahdi/Projects/FairnessLens/FERET/colorferet/dvd1/colored/00270_940422_fa_converted_final.png',\n '/home/mahdi/Projects/FairnessLens/FERET/colorferet/dvd1/colored/00326_940422_fa_converted_final.png',\n '/home/mahdi/Projects/FairnessLens/FERET/colorferet/dvd1/colored/00454_940422_fa_converted_final.png',\n '/home/mahdi/Projects/FairnessLens/FERET/colorferet/dvd1/colored/00216_940128_fa_converted_final.png',\n '/home/mahdi/Projects/FairnessLens/FERET/colorferet/dvd1/colored/00551_940519_fa_converted_final.png',\n '/home/mahdi/Projects/FairnessLens/FERET/colorferet/dvd1/colored/00679_941121_fa_converted_final.png',\n '/home/mahdi/Projects/FairnessLens/FERET/colorferet/dvd1/colored/00120_931230_fa_converted_final.png',\n '/home/mahdi/Projects/FairnessLens/FERET/colorferet/dvd1/colored/00488_940519_fa_a_converted_final.png',\n '/home/mahdi/Projects/FairnessLens/FERET/colorferet/dvd1/colored/00388_940422_fa_converted_final.png',\n '/home/mahdi/Projects/FairnessLens/FERET/colorferet/dvd1/colored/00525_940519_fa_converted_final.png',\n '/home/mahdi/Projects/FairnessLens/FERET/colorferet/dvd1/colored/00115_931230_fa_converted_final.png',\n '/home/mahdi/Projects/FairnessLens/FERET/colorferet/dvd1/colored/00058_931230_fa_converted_final.png',\n '/home/mahdi/Projects/FairnessLens/FERET/colorferet/dvd1/colored/00050_931230_fa_converted_final.png',\n '/home/mahdi/Projects/FairnessLens/FERET/colorferet/dvd1/colored/00414_940422_fa_a_converted_final.png',\n '/home/mahdi/Projects/FairnessLens/FERET/colorferet/dvd1/colored/00385_940422_fa_converted_final.png',\n '/home/mahdi/Projects/FairnessLens/FERET/colorferet/dvd1/colored/00508_940519_fa_converted_final.png',\n '/home/mahdi/Projects/FairnessLens/FERET/colorferet/dvd1/colored/00309_940422_fa_converted_final.png',\n '/home/mahdi/Projects/FairnessLens/FERET/colorferet/dvd1/colored/00416_940422_fa_converted_final.png',\n '/home/mahdi/Projects/FairnessLens/FERET/colorferet/dvd1/colored/00323_940422_fa_converted_final.png',\n '/home/mahdi/Projects/FairnessLens/FERET/colorferet/dvd1/colored/00176_931230_fa_converted_final.png',\n '/home/mahdi/Projects/FairnessLens/FERET/colorferet/dvd1/colored/00503_940519_fa_a_converted_final.png',\n '/home/mahdi/Projects/FairnessLens/FERET/colorferet/dvd1/colored/00068_931230_fa_converted_final.png',\n '/home/mahdi/Projects/FairnessLens/FERET/colorferet/dvd1/colored/00292_940422_fa_a_converted_final.png',\n '/home/mahdi/Projects/FairnessLens/FERET/colorferet/dvd1/colored/00686_941121_fa_converted_final.png',\n '/home/mahdi/Projects/FairnessLens/FERET/colorferet/dvd1/colored/00044_931230_fa_converted_final.png',\n '/home/mahdi/Projects/FairnessLens/FERET/colorferet/dvd1/colored/00057_931230_fa_converted_final.png',\n '/home/mahdi/Projects/FairnessLens/FERET/colorferet/dvd1/colored/00545_940519_fa_converted_final.png',\n '/home/mahdi/Projects/FairnessLens/FERET/colorferet/dvd1/colored/00264_940128_fa_converted_final.png',\n '/home/mahdi/Projects/FairnessLens/FERET/colorferet/dvd1/colored/00438_940422_fa_converted_final.png',\n '/home/mahdi/Projects/FairnessLens/FERET/colorferet/dvd1/colored/00725_941205_fa_converted_final.png',\n '/home/mahdi/Projects/FairnessLens/FERET/colorferet/dvd1/colored/00381_940422_fa_converted_final.png',\n '/home/mahdi/Projects/FairnessLens/FERET/colorferet/dvd1/colored/00121_931230_fa_converted_final.png',\n '/home/mahdi/Projects/FairnessLens/FERET/colorferet/dvd1/colored/00552_940519_fa_converted_final.png',\n '/home/mahdi/Projects/FairnessLens/FERET/colorferet/dvd1/colored/00581_940928_fa_converted_final.png',\n '/home/mahdi/Projects/FairnessLens/FERET/colorferet/dvd1/colored/00596_941121_fa_converted_final.png',\n '/home/mahdi/Projects/FairnessLens/FERET/colorferet/dvd1/colored/00294_940422_fa_a_converted_final.png',\n '/home/mahdi/Projects/FairnessLens/FERET/colorferet/dvd1/colored/00245_940128_fa_converted_final.png',\n '/home/mahdi/Projects/FairnessLens/FERET/colorferet/dvd1/colored/00237_940128_fa_converted_final.png',\n '/home/mahdi/Projects/FairnessLens/FERET/colorferet/dvd1/colored/00399_940422_fa_converted_final.png',\n '/home/mahdi/Projects/FairnessLens/FERET/colorferet/dvd1/colored/00571_940928_fa_converted_final.png',\n '/home/mahdi/Projects/FairnessLens/FERET/colorferet/dvd1/colored/00130_931230_fa_converted_final.png',\n '/home/mahdi/Projects/FairnessLens/FERET/colorferet/dvd1/colored/00329_940422_fa_converted_final.png',\n '/home/mahdi/Projects/FairnessLens/FERET/colorferet/dvd1/colored/00301_940422_fa_converted_final.png',\n '/home/mahdi/Projects/FairnessLens/FERET/colorferet/dvd1/colored/00408_940422_fa_converted_final.png',\n '/home/mahdi/Projects/FairnessLens/FERET/colorferet/dvd1/colored/00676_941121_fa_converted_final.png',\n '/home/mahdi/Projects/FairnessLens/FERET/colorferet/dvd1/colored/00063_931230_fa_converted_final.png',\n '/home/mahdi/Projects/FairnessLens/FERET/colorferet/dvd1/colored/00223_940128_fa_converted_final.png',\n '/home/mahdi/Projects/FairnessLens/FERET/colorferet/dvd1/colored/00600_940928_fa_converted_final.png',\n '/home/mahdi/Projects/FairnessLens/FERET/colorferet/dvd1/colored/00373_940422_fa_converted_final.png',\n '/home/mahdi/Projects/FairnessLens/FERET/colorferet/dvd1/colored/00217_940128_fa_a_converted_final.png',\n '/home/mahdi/Projects/FairnessLens/FERET/colorferet/dvd1/colored/00726_941201_fa_converted_final.png',\n '/home/mahdi/Projects/FairnessLens/FERET/colorferet/dvd1/colored/00192_940128_fa_converted_final.png',\n '/home/mahdi/Projects/FairnessLens/FERET/colorferet/dvd1/colored/00111_931230_fa_converted_final.png',\n '/home/mahdi/Projects/FairnessLens/FERET/colorferet/dvd1/colored/00616_941031_fa_converted_final.png',\n '/home/mahdi/Projects/FairnessLens/FERET/colorferet/dvd1/colored/00365_940422_fa_converted_final.png',\n '/home/mahdi/Projects/FairnessLens/FERET/colorferet/dvd1/colored/00129_931230_fa_converted_final.png',\n '/home/mahdi/Projects/FairnessLens/FERET/colorferet/dvd1/colored/00570_940928_fa_converted_final.png',\n '/home/mahdi/Projects/FairnessLens/FERET/colorferet/dvd1/colored/00104_931230_fa_converted_final.png',\n '/home/mahdi/Projects/FairnessLens/FERET/colorferet/dvd1/colored/00458_940422_fa_converted_final.png',\n '/home/mahdi/Projects/FairnessLens/FERET/colorferet/dvd1/colored/00228_940128_fa_a_converted_final.png',\n '/home/mahdi/Projects/FairnessLens/FERET/colorferet/dvd1/colored/00281_940422_fa_converted_final.png',\n '/home/mahdi/Projects/FairnessLens/FERET/colorferet/dvd1/colored/00125_931230_fa_converted_final.png',\n '/home/mahdi/Projects/FairnessLens/FERET/colorferet/dvd1/colored/00627_941031_fa_converted_final.png',\n '/home/mahdi/Projects/FairnessLens/FERET/colorferet/dvd1/colored/00156_931230_fa_a_converted_final.png',\n '/home/mahdi/Projects/FairnessLens/FERET/colorferet/dvd1/colored/00645_941031_fa_converted_final.png',\n '/home/mahdi/Projects/FairnessLens/FERET/colorferet/dvd1/colored/00610_940928_fa_converted_final.png',\n '/home/mahdi/Projects/FairnessLens/FERET/colorferet/dvd1/colored/00283_940422_fa_a_converted_final.png',\n '/home/mahdi/Projects/FairnessLens/FERET/colorferet/dvd1/colored/00002_940928_fa_converted_final.png',\n '/home/mahdi/Projects/FairnessLens/FERET/colorferet/dvd1/colored/00732_941205_fa_converted_final.png',\n '/home/mahdi/Projects/FairnessLens/FERET/colorferet/dvd1/colored/00691_941121_fa_converted_final.png',\n '/home/mahdi/Projects/FairnessLens/FERET/colorferet/dvd1/colored/00509_940519_fa_a_converted_final.png',\n '/home/mahdi/Projects/FairnessLens/FERET/colorferet/dvd1/colored/00375_940422_fa_converted_final.png',\n '/home/mahdi/Projects/FairnessLens/FERET/colorferet/dvd1/colored/00155_931230_fa_converted_final.png',\n '/home/mahdi/Projects/FairnessLens/FERET/colorferet/dvd1/colored/00271_940422_fa_converted_final.png',\n '/home/mahdi/Projects/FairnessLens/FERET/colorferet/dvd1/colored/00531_940519_fa_converted_final.png',\n '/home/mahdi/Projects/FairnessLens/FERET/colorferet/dvd1/colored/00722_941201_fa_converted_final.png',\n '/home/mahdi/Projects/FairnessLens/FERET/colorferet/dvd1/colored/00319_940422_fa_converted_final.png',\n '/home/mahdi/Projects/FairnessLens/FERET/colorferet/dvd1/colored/00477_940519_fa_converted_final.png',\n '/home/mahdi/Projects/FairnessLens/FERET/colorferet/dvd1/colored/00183_940128_fa_converted_final.png',\n '/home/mahdi/Projects/FairnessLens/FERET/colorferet/dvd1/colored/00495_940519_fa_a_converted_final.png',\n '/home/mahdi/Projects/FairnessLens/FERET/colorferet/dvd1/colored/00407_940422_fa_converted_final.png',\n '/home/mahdi/Projects/FairnessLens/FERET/colorferet/dvd1/colored/00669_940307_fa_converted_final.png',\n '/home/mahdi/Projects/FairnessLens/FERET/colorferet/dvd1/colored/00533_940519_fa_converted_final.png',\n '/home/mahdi/Projects/FairnessLens/FERET/colorferet/dvd1/colored/00313_940422_fa_converted_final.png',\n '/home/mahdi/Projects/FairnessLens/FERET/colorferet/dvd1/colored/00499_940519_fa_converted_final.png',\n '/home/mahdi/Projects/FairnessLens/FERET/colorferet/dvd1/colored/00081_931230_fa_converted_final.png',\n '/home/mahdi/Projects/FairnessLens/FERET/colorferet/dvd1/colored/00306_940422_fa_converted_final.png',\n '/home/mahdi/Projects/FairnessLens/FERET/colorferet/dvd1/colored/00236_940128_fa_a_converted_final.png',\n '/home/mahdi/Projects/FairnessLens/FERET/colorferet/dvd1/colored/00739_941205_fa_converted_final.png',\n '/home/mahdi/Projects/FairnessLens/FERET/colorferet/dvd1/colored/00621_941121_fa_converted_final.png',\n '/home/mahdi/Projects/FairnessLens/FERET/colorferet/dvd1/colored/00144_931230_fa_converted_final.png',\n '/home/mahdi/Projects/FairnessLens/FERET/colorferet/dvd1/colored/00496_940519_fa_converted_final.png',\n '/home/mahdi/Projects/FairnessLens/FERET/colorferet/dvd1/colored/00559_940519_fa_converted_final.png',\n '/home/mahdi/Projects/FairnessLens/FERET/colorferet/dvd1/colored/00356_940422_fa_converted_final.png',\n '/home/mahdi/Projects/FairnessLens/FERET/colorferet/dvd1/colored/00137_931230_fa_a_converted_final.png',\n '/home/mahdi/Projects/FairnessLens/FERET/colorferet/dvd1/colored/00514_940519_fa_a_converted_final.png',\n '/home/mahdi/Projects/FairnessLens/FERET/colorferet/dvd1/colored/00662_941121_fa_converted_final.png',\n '/home/mahdi/Projects/FairnessLens/FERET/colorferet/dvd1/colored/00366_940422_fa_converted_final.png',\n '/home/mahdi/Projects/FairnessLens/FERET/colorferet/dvd1/colored/00218_940128_fa_converted_final.png',\n '/home/mahdi/Projects/FairnessLens/FERET/colorferet/dvd1/colored/00383_941031_fa_converted_final.png',\n '/home/mahdi/Projects/FairnessLens/FERET/colorferet/dvd1/colored/00188_940307_fa_converted_final.png',\n '/home/mahdi/Projects/FairnessLens/FERET/colorferet/dvd1/colored/00163_931230_fa_converted_final.png',\n '/home/mahdi/Projects/FairnessLens/FERET/colorferet/dvd1/colored/00592_940928_fa_converted_final.png',\n '/home/mahdi/Projects/FairnessLens/FERET/colorferet/dvd1/colored/00641_941031_fa_converted_final.png',\n '/home/mahdi/Projects/FairnessLens/FERET/colorferet/dvd1/colored/00224_940128_fa_converted_final.png',\n '/home/mahdi/Projects/FairnessLens/FERET/colorferet/dvd1/colored/00462_940422_fa_a_converted_final.png',\n '/home/mahdi/Projects/FairnessLens/FERET/colorferet/dvd1/colored/00427_940422_fa_converted_final.png',\n '/home/mahdi/Projects/FairnessLens/FERET/colorferet/dvd1/colored/00730_960620_fa_converted_final.png',\n '/home/mahdi/Projects/FairnessLens/FERET/colorferet/dvd1/colored/00377_940422_fa_converted_final.png',\n '/home/mahdi/Projects/FairnessLens/FERET/colorferet/dvd1/colored/00682_941121_fa_converted_final.png',\n '/home/mahdi/Projects/FairnessLens/FERET/colorferet/dvd1/colored/00181_931230_fa_converted_final.png',\n '/home/mahdi/Projects/FairnessLens/FERET/colorferet/dvd1/colored/00180_931230_fa_converted_final.png',\n '/home/mahdi/Projects/FairnessLens/FERET/colorferet/dvd1/colored/00653_941031_fa_converted_final.png',\n '/home/mahdi/Projects/FairnessLens/FERET/colorferet/dvd1/colored/00054_931230_fa_a_converted_final.png',\n '/home/mahdi/Projects/FairnessLens/FERET/colorferet/dvd1/colored/00211_940128_fa_converted_final.png',\n '/home/mahdi/Projects/FairnessLens/FERET/colorferet/dvd1/colored/00604_940928_fa_converted_final.png',\n '/home/mahdi/Projects/FairnessLens/FERET/colorferet/dvd1/colored/00357_940422_fa_converted_final.png',\n '/home/mahdi/Projects/FairnessLens/FERET/colorferet/dvd1/colored/00688_941121_fa_converted_final.png',\n '/home/mahdi/Projects/FairnessLens/FERET/colorferet/dvd1/colored/00047_931230_fa_converted_final.png',\n '/home/mahdi/Projects/FairnessLens/FERET/colorferet/dvd1/colored/00350_940422_fa_converted_final.png',\n '/home/mahdi/Projects/FairnessLens/FERET/colorferet/dvd1/colored/00060_931230_fa_converted_final.png',\n '/home/mahdi/Projects/FairnessLens/FERET/colorferet/dvd1/colored/00553_940519_fa_a_converted_final.png',\n '/home/mahdi/Projects/FairnessLens/FERET/colorferet/dvd1/colored/00208_940128_fa_converted_final.png',\n '/home/mahdi/Projects/FairnessLens/FERET/colorferet/dvd1/colored/00612_940928_fa_converted_final.png',\n '/home/mahdi/Projects/FairnessLens/FERET/colorferet/dvd1/colored/00671_941121_fa_converted_final.png',\n '/home/mahdi/Projects/FairnessLens/FERET/colorferet/dvd1/colored/00290_940422_fa_converted_final.png',\n '/home/mahdi/Projects/FairnessLens/FERET/colorferet/dvd1/colored/00343_940422_fa_converted_final.png',\n '/home/mahdi/Projects/FairnessLens/FERET/colorferet/dvd1/colored/00637_941031_fa_converted_final.png',\n '/home/mahdi/Projects/FairnessLens/FERET/colorferet/dvd1/colored/00317_940422_fa_converted_final.png',\n '/home/mahdi/Projects/FairnessLens/FERET/colorferet/dvd1/colored/00193_940928_fa_converted_final.png',\n '/home/mahdi/Projects/FairnessLens/FERET/colorferet/dvd1/colored/00165_931230_fa_a_converted_final.png',\n '/home/mahdi/Projects/FairnessLens/FERET/colorferet/dvd1/colored/00505_960627_fa_converted_final.png',\n '/home/mahdi/Projects/FairnessLens/FERET/colorferet/dvd1/colored/00332_940422_fa_converted_final.png',\n '/home/mahdi/Projects/FairnessLens/FERET/colorferet/dvd1/colored/00151_931230_fa_a_converted_final.png',\n '/home/mahdi/Projects/FairnessLens/FERET/colorferet/dvd1/colored/00401_940422_fa_converted_final.png',\n '/home/mahdi/Projects/FairnessLens/FERET/colorferet/dvd1/colored/00212_940128_fa_a_converted_final.png',\n '/home/mahdi/Projects/FairnessLens/FERET/colorferet/dvd1/colored/00389_940422_fa_converted_final.png',\n '/home/mahdi/Projects/FairnessLens/FERET/colorferet/dvd1/colored/00092_931230_fa_converted_final.png',\n '/home/mahdi/Projects/FairnessLens/FERET/colorferet/dvd1/colored/00478_940519_fa_converted_final.png',\n '/home/mahdi/Projects/FairnessLens/FERET/colorferet/dvd1/colored/00265_940128_fa_converted_final.png',\n '/home/mahdi/Projects/FairnessLens/FERET/colorferet/dvd1/colored/00325_940422_fa_a_converted_final.png',\n '/home/mahdi/Projects/FairnessLens/FERET/colorferet/dvd1/colored/00052_931230_fa_converted_final.png',\n '/home/mahdi/Projects/FairnessLens/FERET/colorferet/dvd1/colored/00538_940519_fa_converted_final.png',\n '/home/mahdi/Projects/FairnessLens/FERET/colorferet/dvd1/colored/00367_940422_fa_converted_final.png',\n '/home/mahdi/Projects/FairnessLens/FERET/colorferet/dvd1/colored/00300_940422_fa_converted_final.png',\n '/home/mahdi/Projects/FairnessLens/FERET/colorferet/dvd1/colored/00584_941031_fa_converted_final.png',\n '/home/mahdi/Projects/FairnessLens/FERET/colorferet/dvd1/colored/00710_960620_fa_converted_final.png',\n '/home/mahdi/Projects/FairnessLens/FERET/colorferet/dvd1/colored/00230_940128_fa_converted_final.png',\n '/home/mahdi/Projects/FairnessLens/FERET/colorferet/dvd1/colored/00474_960627_fa_converted_final.png',\n '/home/mahdi/Projects/FairnessLens/FERET/colorferet/dvd1/colored/00654_941031_fa_converted_final.png',\n '/home/mahdi/Projects/FairnessLens/FERET/colorferet/dvd1/colored/00404_940422_fa_converted_final.png',\n '/home/mahdi/Projects/FairnessLens/FERET/colorferet/dvd1/colored/00131_931230_fa_converted_final.png',\n '/home/mahdi/Projects/FairnessLens/FERET/colorferet/dvd1/colored/00219_940128_fa_a_converted_final.png',\n '/home/mahdi/Projects/FairnessLens/FERET/colorferet/dvd1/colored/00346_940422_fa_converted_final.png',\n '/home/mahdi/Projects/FairnessLens/FERET/colorferet/dvd1/colored/00461_940422_fa_converted_final.png',\n '/home/mahdi/Projects/FairnessLens/FERET/colorferet/dvd1/colored/00652_941031_fa_converted_final.png',\n '/home/mahdi/Projects/FairnessLens/FERET/colorferet/dvd1/colored/00489_940519_fa_converted_final.png',\n '/home/mahdi/Projects/FairnessLens/FERET/colorferet/dvd1/colored/00486_940519_fa_a_converted_final.png',\n '/home/mahdi/Projects/FairnessLens/FERET/colorferet/dvd1/colored/00718_941201_fa_converted_final.png',\n '/home/mahdi/Projects/FairnessLens/FERET/colorferet/dvd1/colored/00020_931230_fa_converted_final.png',\n '/home/mahdi/Projects/FairnessLens/FERET/colorferet/dvd1/colored/00080_931230_fa_converted_final.png',\n '/home/mahdi/Projects/FairnessLens/FERET/colorferet/dvd1/colored/00574_940928_fa_converted_final.png',\n '/home/mahdi/Projects/FairnessLens/FERET/colorferet/dvd1/colored/00565_941121_fa_converted_final.png',\n '/home/mahdi/Projects/FairnessLens/FERET/colorferet/dvd1/colored/00558_940519_fa_converted_final.png',\n '/home/mahdi/Projects/FairnessLens/FERET/colorferet/dvd1/colored/00051_931230_fa_converted_final.png',\n '/home/mahdi/Projects/FairnessLens/FERET/colorferet/dvd1/colored/00083_931230_fa_a_converted_final.png',\n '/home/mahdi/Projects/FairnessLens/FERET/colorferet/dvd1/colored/00716_941201_fa_converted_final.png',\n '/home/mahdi/Projects/FairnessLens/FERET/colorferet/dvd1/colored/00677_941121_fa_converted_final.png',\n '/home/mahdi/Projects/FairnessLens/FERET/colorferet/dvd1/colored/00013_931230_fa_converted_final.png',\n '/home/mahdi/Projects/FairnessLens/FERET/colorferet/dvd1/colored/00484_940519_fa_converted_final.png',\n '/home/mahdi/Projects/FairnessLens/FERET/colorferet/dvd1/colored/00446_940422_fa_converted_final.png',\n '/home/mahdi/Projects/FairnessLens/FERET/colorferet/dvd1/colored/00361_940422_fa_converted_final.png',\n '/home/mahdi/Projects/FairnessLens/FERET/colorferet/dvd1/colored/00681_941121_fa_converted_final.png',\n '/home/mahdi/Projects/FairnessLens/FERET/colorferet/dvd1/colored/00328_940422_fa_converted_final.png',\n '/home/mahdi/Projects/FairnessLens/FERET/colorferet/dvd1/colored/00535_940519_fa_converted_final.png',\n '/home/mahdi/Projects/FairnessLens/FERET/colorferet/dvd1/colored/00330_940422_fa_converted_final.png',\n '/home/mahdi/Projects/FairnessLens/FERET/colorferet/dvd1/colored/00448_940422_fa_converted_final.png',\n '/home/mahdi/Projects/FairnessLens/FERET/colorferet/dvd1/colored/00268_940422_fa_converted_final.png',\n '/home/mahdi/Projects/FairnessLens/FERET/colorferet/dvd1/colored/00061_931230_fa_converted_final.png',\n '/home/mahdi/Projects/FairnessLens/FERET/colorferet/dvd1/colored/00588_940307_fa_converted_final.png',\n '/home/mahdi/Projects/FairnessLens/FERET/colorferet/dvd1/colored/00308_940422_fa_converted_final.png',\n '/home/mahdi/Projects/FairnessLens/FERET/colorferet/dvd1/colored/00085_931230_fa_converted_final.png',\n '/home/mahdi/Projects/FairnessLens/FERET/colorferet/dvd1/colored/00411_940422_fa_converted_final.png',\n '/home/mahdi/Projects/FairnessLens/FERET/colorferet/dvd1/colored/00272_940422_fa_converted_final.png',\n '/home/mahdi/Projects/FairnessLens/FERET/colorferet/dvd1/colored/00072_931230_fa_converted_final.png',\n '/home/mahdi/Projects/FairnessLens/FERET/colorferet/dvd1/colored/00196_940128_fa_converted_final.png',\n '/home/mahdi/Projects/FairnessLens/FERET/colorferet/dvd1/colored/00282_940422_fa_converted_final.png',\n '/home/mahdi/Projects/FairnessLens/FERET/colorferet/dvd1/colored/00711_960530_fa_converted_final.png',\n '/home/mahdi/Projects/FairnessLens/FERET/colorferet/dvd1/colored/00421_940422_fa_converted_final.png',\n '/home/mahdi/Projects/FairnessLens/FERET/colorferet/dvd1/colored/00417_940422_fa_converted_final.png',\n '/home/mahdi/Projects/FairnessLens/FERET/colorferet/dvd1/colored/00214_940128_fa_converted_final.png',\n '/home/mahdi/Projects/FairnessLens/FERET/colorferet/dvd1/colored/00628_940928_fa_converted_final.png',\n '/home/mahdi/Projects/FairnessLens/FERET/colorferet/dvd1/colored/00622_940928_fa_converted_final.png',\n '/home/mahdi/Projects/FairnessLens/FERET/colorferet/dvd1/colored/00235_940128_fa_converted_final.png',\n '/home/mahdi/Projects/FairnessLens/FERET/colorferet/dvd1/colored/00630_941031_fa_converted_final.png',\n '/home/mahdi/Projects/FairnessLens/FERET/colorferet/dvd1/colored/00638_941031_fa_converted_final.png',\n '/home/mahdi/Projects/FairnessLens/FERET/colorferet/dvd1/colored/00459_940422_fa_converted_final.png',\n '/home/mahdi/Projects/FairnessLens/FERET/colorferet/dvd1/colored/00483_940519_fa_converted_final.png',\n '/home/mahdi/Projects/FairnessLens/FERET/colorferet/dvd1/colored/00715_941205_fa_converted_final.png',\n '/home/mahdi/Projects/FairnessLens/FERET/colorferet/dvd1/colored/00684_941121_fa_converted_final.png',\n '/home/mahdi/Projects/FairnessLens/FERET/colorferet/dvd1/colored/00636_941031_fa_converted_final.png',\n '/home/mahdi/Projects/FairnessLens/FERET/colorferet/dvd1/colored/00103_931230_fa_a_converted_final.png',\n '/home/mahdi/Projects/FairnessLens/FERET/colorferet/dvd1/colored/00476_940519_fa_a_converted_final.png',\n '/home/mahdi/Projects/FairnessLens/FERET/colorferet/dvd1/colored/00207_940128_fa_converted_final.png',\n '/home/mahdi/Projects/FairnessLens/FERET/colorferet/dvd1/colored/00482_940519_fa_converted_final.png',\n '/home/mahdi/Projects/FairnessLens/FERET/colorferet/dvd1/colored/00201_940128_fa_converted_final.png',\n '/home/mahdi/Projects/FairnessLens/FERET/colorferet/dvd1/colored/00354_940422_fa_converted_final.png',\n '/home/mahdi/Projects/FairnessLens/FERET/colorferet/dvd1/colored/00234_940128_fa_converted_final.png',\n '/home/mahdi/Projects/FairnessLens/FERET/colorferet/dvd1/colored/00713_960627_fa_converted_final.png',\n '/home/mahdi/Projects/FairnessLens/FERET/colorferet/dvd1/colored/00412_940422_fa_converted_final.png',\n '/home/mahdi/Projects/FairnessLens/FERET/colorferet/dvd1/colored/00430_940422_fa_converted_final.png',\n '/home/mahdi/Projects/FairnessLens/FERET/colorferet/dvd1/colored/00667_941121_fa_converted_final.png',\n '/home/mahdi/Projects/FairnessLens/FERET/colorferet/dvd1/colored/00529_940519_fa_converted_final.png',\n '/home/mahdi/Projects/FairnessLens/FERET/colorferet/dvd1/colored/00191_940128_fa_converted_final.png',\n '/home/mahdi/Projects/FairnessLens/FERET/colorferet/dvd1/colored/00680_941121_fa_converted_final.png',\n '/home/mahdi/Projects/FairnessLens/FERET/colorferet/dvd1/colored/00497_940519_fa_a_converted_final.png',\n '/home/mahdi/Projects/FairnessLens/FERET/colorferet/dvd1/colored/00269_940422_fa_a_converted_final.png',\n '/home/mahdi/Projects/FairnessLens/FERET/colorferet/dvd1/colored/00491_960627_fa_converted_final.png',\n '/home/mahdi/Projects/FairnessLens/FERET/colorferet/dvd1/colored/00598_941031_fa_converted_final.png',\n '/home/mahdi/Projects/FairnessLens/FERET/colorferet/dvd1/colored/00140_941121_fa_converted_final.png',\n '/home/mahdi/Projects/FairnessLens/FERET/colorferet/dvd1/colored/00594_941121_fa_converted_final.png',\n '/home/mahdi/Projects/FairnessLens/FERET/colorferet/dvd1/colored/00567_940928_fa_converted_final.png',\n '/home/mahdi/Projects/FairnessLens/FERET/colorferet/dvd1/colored/00110_931230_fa_converted_final.png',\n '/home/mahdi/Projects/FairnessLens/FERET/colorferet/dvd1/colored/00153_931230_fa_converted_final.png',\n '/home/mahdi/Projects/FairnessLens/FERET/colorferet/dvd1/colored/00457_940422_fa_converted_final.png',\n '/home/mahdi/Projects/FairnessLens/FERET/colorferet/dvd1/colored/00714_960620_fa_converted_final.png',\n '/home/mahdi/Projects/FairnessLens/FERET/colorferet/dvd1/colored/00158_931230_fa_converted_final.png',\n '/home/mahdi/Projects/FairnessLens/FERET/colorferet/dvd1/colored/00088_931230_fa_a_converted_final.png',\n '/home/mahdi/Projects/FairnessLens/FERET/colorferet/dvd1/colored/00190_940128_fa_converted_final.png',\n '/home/mahdi/Projects/FairnessLens/FERET/colorferet/dvd1/colored/00453_940422_fa_a_converted_final.png',\n '/home/mahdi/Projects/FairnessLens/FERET/colorferet/dvd1/colored/00697_941121_fa_converted_final.png',\n '/home/mahdi/Projects/FairnessLens/FERET/colorferet/dvd1/colored/00249_940128_fa_a_converted_final.png',\n '/home/mahdi/Projects/FairnessLens/FERET/colorferet/dvd1/colored/00585_940928_fa_converted_final.png',\n '/home/mahdi/Projects/FairnessLens/FERET/colorferet/dvd1/colored/00520_940519_fa_a_converted_final.png',\n '/home/mahdi/Projects/FairnessLens/FERET/colorferet/dvd1/colored/00539_940519_fa_converted_final.png',\n '/home/mahdi/Projects/FairnessLens/FERET/colorferet/dvd1/colored/00577_940928_fa_converted_final.png',\n '/home/mahdi/Projects/FairnessLens/FERET/colorferet/dvd1/colored/00043_931230_fa_converted_final.png',\n '/home/mahdi/Projects/FairnessLens/FERET/colorferet/dvd1/colored/00698_941121_fa_converted_final.png',\n '/home/mahdi/Projects/FairnessLens/FERET/colorferet/dvd1/colored/00071_931230_fa_converted_final.png',\n '/home/mahdi/Projects/FairnessLens/FERET/colorferet/dvd1/colored/00178_931230_fa_converted_final.png',\n '/home/mahdi/Projects/FairnessLens/FERET/colorferet/dvd1/colored/00298_940422_fa_a_converted_final.png',\n '/home/mahdi/Projects/FairnessLens/FERET/colorferet/dvd1/colored/00348_940422_fa_converted_final.png',\n '/home/mahdi/Projects/FairnessLens/FERET/colorferet/dvd1/colored/00563_940928_fa_converted_final.png',\n '/home/mahdi/Projects/FairnessLens/FERET/colorferet/dvd1/colored/00566_940928_fa_converted_final.png',\n '/home/mahdi/Projects/FairnessLens/FERET/colorferet/dvd1/colored/00415_940422_fa_converted_final.png',\n '/home/mahdi/Projects/FairnessLens/FERET/colorferet/dvd1/colored/00094_931230_fa_a_converted_final.png',\n '/home/mahdi/Projects/FairnessLens/FERET/colorferet/dvd1/colored/00148_931230_fa_converted_final.png',\n '/home/mahdi/Projects/FairnessLens/FERET/colorferet/dvd1/colored/00522_960627_fa_converted_final.png',\n '/home/mahdi/Projects/FairnessLens/FERET/colorferet/dvd1/colored/00609_940928_fa_converted_final.png',\n '/home/mahdi/Projects/FairnessLens/FERET/colorferet/dvd1/colored/00708_941201_fa_converted_final.png',\n '/home/mahdi/Projects/FairnessLens/FERET/colorferet/dvd1/colored/00307_940422_fa_converted_final.png',\n '/home/mahdi/Projects/FairnessLens/FERET/colorferet/dvd1/colored/00624_940928_fa_converted_final.png',\n '/home/mahdi/Projects/FairnessLens/FERET/colorferet/dvd1/colored/00342_940422_fa_converted_final.png',\n '/home/mahdi/Projects/FairnessLens/FERET/colorferet/dvd1/colored/00466_940519_fa_converted_final.png',\n '/home/mahdi/Projects/FairnessLens/FERET/colorferet/dvd1/colored/00189_940128_fa_a_converted_final.png',\n '/home/mahdi/Projects/FairnessLens/FERET/colorferet/dvd1/colored/00485_940519_fa_a_converted_final.png',\n '/home/mahdi/Projects/FairnessLens/FERET/colorferet/dvd1/colored/00492_940519_fa_a_converted_final.png',\n '/home/mahdi/Projects/FairnessLens/FERET/colorferet/dvd1/colored/00311_940422_fa_converted_final.png',\n '/home/mahdi/Projects/FairnessLens/FERET/colorferet/dvd1/colored/00643_941031_fa_converted_final.png',\n '/home/mahdi/Projects/FairnessLens/FERET/colorferet/dvd1/colored/00406_940422_fa_converted_final.png',\n '/home/mahdi/Projects/FairnessLens/FERET/colorferet/dvd1/colored/00657_941121_fa_converted_final.png',\n '/home/mahdi/Projects/FairnessLens/FERET/colorferet/dvd1/colored/00073_931230_fa_converted_final.png',\n '/home/mahdi/Projects/FairnessLens/FERET/colorferet/dvd1/colored/00166_931230_fa_converted_final.png',\n '/home/mahdi/Projects/FairnessLens/FERET/colorferet/dvd1/colored/00475_940519_fa_converted_final.png',\n '/home/mahdi/Projects/FairnessLens/FERET/colorferet/dvd1/colored/00468_960620_fa_converted_final.png',\n '/home/mahdi/Projects/FairnessLens/FERET/colorferet/dvd1/colored/00352_940422_fa_converted_final.png',\n '/home/mahdi/Projects/FairnessLens/FERET/colorferet/dvd1/colored/00239_940128_fa_converted_final.png',\n '/home/mahdi/Projects/FairnessLens/FERET/colorferet/dvd1/colored/00398_940422_fa_converted_final.png',\n '/home/mahdi/Projects/FairnessLens/FERET/colorferet/dvd1/colored/00705_941205_fa_converted_final.png',\n '/home/mahdi/Projects/FairnessLens/FERET/colorferet/dvd1/colored/00185_940128_fa_converted_final.png',\n '/home/mahdi/Projects/FairnessLens/FERET/colorferet/dvd1/colored/00502_940519_fa_converted_final.png',\n '/home/mahdi/Projects/FairnessLens/FERET/colorferet/dvd1/colored/00685_941121_fa_converted_final.png',\n '/home/mahdi/Projects/FairnessLens/FERET/colorferet/dvd1/colored/00706_941201_fa_converted_final.png',\n '/home/mahdi/Projects/FairnessLens/FERET/colorferet/dvd1/colored/00471_940519_fa_converted_final.png',\n '/home/mahdi/Projects/FairnessLens/FERET/colorferet/dvd1/colored/00494_940519_fa_converted_final.png',\n '/home/mahdi/Projects/FairnessLens/FERET/colorferet/dvd1/colored/00659_941121_fa_converted_final.png',\n '/home/mahdi/Projects/FairnessLens/FERET/colorferet/dvd1/colored/00186_940128_fa_a_converted_final.png',\n '/home/mahdi/Projects/FairnessLens/FERET/colorferet/dvd1/colored/00587_940928_fa_converted_final.png',\n '/home/mahdi/Projects/FairnessLens/FERET/colorferet/dvd1/colored/00395_940422_fa_converted_final.png',\n '/home/mahdi/Projects/FairnessLens/FERET/colorferet/dvd1/colored/00515_940519_fa_converted_final.png',\n '/home/mahdi/Projects/FairnessLens/FERET/colorferet/dvd1/colored/00370_940422_fa_converted_final.png',\n '/home/mahdi/Projects/FairnessLens/FERET/colorferet/dvd1/colored/00225_940128_fa_a_converted_final.png',\n '/home/mahdi/Projects/FairnessLens/FERET/colorferet/dvd1/colored/00162_940128_fa_converted_final.png',\n '/home/mahdi/Projects/FairnessLens/FERET/colorferet/dvd1/colored/00629_940928_fa_converted_final.png',\n '/home/mahdi/Projects/FairnessLens/FERET/colorferet/dvd1/colored/00133_931230_fa_converted_final.png',\n '/home/mahdi/Projects/FairnessLens/FERET/colorferet/dvd1/colored/00182_931230_fa_converted_final.png',\n '/home/mahdi/Projects/FairnessLens/FERET/colorferet/dvd1/colored/00284_940422_fa_converted_final.png',\n '/home/mahdi/Projects/FairnessLens/FERET/colorferet/dvd1/colored/00443_940422_fa_converted_final.png',\n '/home/mahdi/Projects/FairnessLens/FERET/colorferet/dvd1/colored/00521_940519_fa_a_converted_final.png',\n '/home/mahdi/Projects/FairnessLens/FERET/colorferet/dvd1/colored/00555_940519_fa_converted_final.png',\n '/home/mahdi/Projects/FairnessLens/FERET/colorferet/dvd1/colored/00134_931230_fa_a_converted_final.png',\n '/home/mahdi/Projects/FairnessLens/FERET/colorferet/dvd1/colored/00418_940422_fa_converted_final.png',\n '/home/mahdi/Projects/FairnessLens/FERET/colorferet/dvd1/colored/00369_940422_fa_converted_final.png',\n '/home/mahdi/Projects/FairnessLens/FERET/colorferet/dvd1/colored/00324_940422_fa_converted_final.png',\n '/home/mahdi/Projects/FairnessLens/FERET/colorferet/dvd1/colored/00338_940422_fa_converted_final.png',\n '/home/mahdi/Projects/FairnessLens/FERET/colorferet/dvd1/colored/00299_940422_fa_converted_final.png',\n '/home/mahdi/Projects/FairnessLens/FERET/colorferet/dvd1/colored/00450_940422_fa_converted_final.png',\n '/home/mahdi/Projects/FairnessLens/FERET/colorferet/dvd1/colored/00161_931230_fa_a_converted_final.png',\n '/home/mahdi/Projects/FairnessLens/FERET/colorferet/dvd1/colored/00222_940128_fa_converted_final.png',\n '/home/mahdi/Projects/FairnessLens/FERET/colorferet/dvd1/colored/00244_940128_fa_converted_final.png',\n '/home/mahdi/Projects/FairnessLens/FERET/colorferet/dvd1/colored/00490_940519_fa_converted_final.png',\n '/home/mahdi/Projects/FairnessLens/FERET/colorferet/dvd1/colored/00368_940422_fa_a_converted_final.png',\n '/home/mahdi/Projects/FairnessLens/FERET/colorferet/dvd1/colored/00291_940422_fa_converted_final.png',\n '/home/mahdi/Projects/FairnessLens/FERET/colorferet/dvd1/colored/00467_940519_fa_converted_final.png',\n '/home/mahdi/Projects/FairnessLens/FERET/colorferet/dvd1/colored/00238_940128_fa_converted_final.png',\n '/home/mahdi/Projects/FairnessLens/FERET/colorferet/dvd1/colored/00602_940928_fa_converted_final.png',\n '/home/mahdi/Projects/FairnessLens/FERET/colorferet/dvd1/colored/00701_941201_fa_converted_final.png',\n '/home/mahdi/Projects/FairnessLens/FERET/colorferet/dvd1/colored/00210_940128_fa_converted_final.png',\n '/home/mahdi/Projects/FairnessLens/FERET/colorferet/dvd1/colored/00689_941121_fa_converted_final.png',\n '/home/mahdi/Projects/FairnessLens/FERET/colorferet/dvd1/colored/00168_931230_fa_a_converted_final.png',\n '/home/mahdi/Projects/FairnessLens/FERET/colorferet/dvd1/colored/00164_931230_fa_a_converted_final.png',\n '/home/mahdi/Projects/FairnessLens/FERET/colorferet/dvd1/colored/00452_940422_fa_converted_final.png',\n '/home/mahdi/Projects/FairnessLens/FERET/colorferet/dvd1/colored/00590_940928_fa_converted_final.png',\n '/home/mahdi/Projects/FairnessLens/FERET/colorferet/dvd1/colored/00582_940928_fa_converted_final.png',\n '/home/mahdi/Projects/FairnessLens/FERET/colorferet/dvd1/colored/00262_940128_fa_converted_final.png',\n '/home/mahdi/Projects/FairnessLens/FERET/colorferet/dvd1/colored/00672_941121_fa_converted_final.png',\n '/home/mahdi/Projects/FairnessLens/FERET/colorferet/dvd1/colored/00569_940928_fa_converted_final.png',\n '/home/mahdi/Projects/FairnessLens/FERET/colorferet/dvd1/colored/00675_941121_fa_converted_final.png',\n '/home/mahdi/Projects/FairnessLens/FERET/colorferet/dvd1/colored/00603_940928_fa_converted_final.png',\n '/home/mahdi/Projects/FairnessLens/FERET/colorferet/dvd1/colored/00433_940422_fa_converted_final.png',\n '/home/mahdi/Projects/FairnessLens/FERET/colorferet/dvd1/colored/00717_941205_fa_converted_final.png',\n '/home/mahdi/Projects/FairnessLens/FERET/colorferet/dvd1/colored/00561_940519_fa_a_converted_final.png',\n '/home/mahdi/Projects/FairnessLens/FERET/colorferet/dvd1/colored/00312_940422_fa_converted_final.png',\n '/home/mahdi/Projects/FairnessLens/FERET/colorferet/dvd1/colored/00493_940519_fa_converted_final.png',\n '/home/mahdi/Projects/FairnessLens/FERET/colorferet/dvd1/colored/00548_940519_fa_a_converted_final.png',\n '/home/mahdi/Projects/FairnessLens/FERET/colorferet/dvd1/colored/00150_931230_fa_a_converted_final.png',\n '/home/mahdi/Projects/FairnessLens/FERET/colorferet/dvd1/colored/00276_940422_fa_a_converted_final.png',\n '/home/mahdi/Projects/FairnessLens/FERET/colorferet/dvd1/colored/00642_941121_fa_converted_final.png',\n '/home/mahdi/Projects/FairnessLens/FERET/colorferet/dvd1/colored/00420_940422_fa_converted_final.png',\n '/home/mahdi/Projects/FairnessLens/FERET/colorferet/dvd1/colored/00278_940422_fa_converted_final.png',\n '/home/mahdi/Projects/FairnessLens/FERET/colorferet/dvd1/colored/00591_940928_fa_converted_final.png',\n '/home/mahdi/Projects/FairnessLens/FERET/colorferet/dvd1/colored/00362_940422_fa_converted_final.png',\n '/home/mahdi/Projects/FairnessLens/FERET/colorferet/dvd1/colored/00460_940422_fa_converted_final.png',\n '/home/mahdi/Projects/FairnessLens/FERET/colorferet/dvd1/colored/00661_941121_fa_converted_final.png',\n '/home/mahdi/Projects/FairnessLens/FERET/colorferet/dvd1/colored/00405_940422_fa_converted_final.png',\n '/home/mahdi/Projects/FairnessLens/FERET/colorferet/dvd1/colored/00303_940422_fa_converted_final.png',\n '/home/mahdi/Projects/FairnessLens/FERET/colorferet/dvd1/colored/00327_940422_fa_converted_final.png',\n '/home/mahdi/Projects/FairnessLens/FERET/colorferet/dvd1/colored/00423_940422_fa_converted_final.png',\n '/home/mahdi/Projects/FairnessLens/FERET/colorferet/dvd1/colored/00431_940422_fa_a_converted_final.png',\n '/home/mahdi/Projects/FairnessLens/FERET/colorferet/dvd1/colored/00267_940128_fa_converted_final.png',\n '/home/mahdi/Projects/FairnessLens/FERET/colorferet/dvd1/colored/00704_941201_fa_converted_final.png',\n '/home/mahdi/Projects/FairnessLens/FERET/colorferet/dvd1/colored/00607_940928_fa_converted_final.png',\n '/home/mahdi/Projects/FairnessLens/FERET/colorferet/dvd1/colored/00524_940519_fa_a_converted_final.png',\n '/home/mahdi/Projects/FairnessLens/FERET/colorferet/dvd1/colored/00394_940422_fa_converted_final.png',\n '/home/mahdi/Projects/FairnessLens/FERET/colorferet/dvd1/colored/00557_940519_fa_converted_final.png',\n '/home/mahdi/Projects/FairnessLens/FERET/colorferet/dvd1/colored/00729_941205_fa_converted_final.png',\n '/home/mahdi/Projects/FairnessLens/FERET/colorferet/dvd1/colored/00683_941121_fa_converted_final.png',\n '/home/mahdi/Projects/FairnessLens/FERET/colorferet/dvd1/colored/00631_940928_fa_converted_final.png',\n '/home/mahdi/Projects/FairnessLens/FERET/colorferet/dvd1/colored/00122_931230_fa_converted_final.png',\n '/home/mahdi/Projects/FairnessLens/FERET/colorferet/dvd1/colored/00287_940422_fa_converted_final.png',\n '/home/mahdi/Projects/FairnessLens/FERET/colorferet/dvd1/colored/00198_940128_fa_converted_final.png',\n '/home/mahdi/Projects/FairnessLens/FERET/colorferet/dvd1/colored/00576_941031_fa_converted_final.png',\n '/home/mahdi/Projects/FairnessLens/FERET/colorferet/dvd1/colored/00070_940307_fa_converted_final.png',\n '/home/mahdi/Projects/FairnessLens/FERET/colorferet/dvd1/colored/00593_941031_fa_converted_final.png',\n '/home/mahdi/Projects/FairnessLens/FERET/colorferet/dvd1/colored/00209_940128_fa_converted_final.png',\n '/home/mahdi/Projects/FairnessLens/FERET/colorferet/dvd1/colored/00633_940928_fa_converted_final.png',\n '/home/mahdi/Projects/FairnessLens/FERET/colorferet/dvd1/colored/00625_940928_fa_converted_final.png',\n '/home/mahdi/Projects/FairnessLens/FERET/colorferet/dvd1/colored/00695_941121_fa_converted_final.png',\n '/home/mahdi/Projects/FairnessLens/FERET/colorferet/dvd1/colored/00132_931230_fa_converted_final.png',\n '/home/mahdi/Projects/FairnessLens/FERET/colorferet/dvd1/colored/00285_940422_fa_converted_final.png',\n '/home/mahdi/Projects/FairnessLens/FERET/colorferet/dvd1/colored/00512_940519_fa_a_converted_final.png',\n '/home/mahdi/Projects/FairnessLens/FERET/colorferet/dvd1/colored/00606_940928_fa_converted_final.png',\n '/home/mahdi/Projects/FairnessLens/FERET/colorferet/dvd1/colored/00647_941031_fa_converted_final.png',\n '/home/mahdi/Projects/FairnessLens/FERET/colorferet/dvd1/colored/00248_940128_fa_converted_final.png',\n '/home/mahdi/Projects/FairnessLens/FERET/colorferet/dvd1/colored/00441_940422_fa_converted_final.png',\n '/home/mahdi/Projects/FairnessLens/FERET/colorferet/dvd1/colored/00447_940422_fa_converted_final.png',\n '/home/mahdi/Projects/FairnessLens/FERET/colorferet/dvd1/colored/00626_941031_fa_converted_final.png',\n '/home/mahdi/Projects/FairnessLens/FERET/colorferet/dvd1/colored/00260_940128_fa_converted_final.png',\n '/home/mahdi/Projects/FairnessLens/FERET/colorferet/dvd1/colored/00019_940422_fa_converted_final.png',\n '/home/mahdi/Projects/FairnessLens/FERET/colorferet/dvd1/colored/00660_960620_fa_converted_final.png',\n '/home/mahdi/Projects/FairnessLens/FERET/colorferet/dvd1/colored/00599_940928_fa_converted_final.png',\n '/home/mahdi/Projects/FairnessLens/FERET/colorferet/dvd1/colored/00135_931230_fa_a_converted_final.png',\n '/home/mahdi/Projects/FairnessLens/FERET/colorferet/dvd1/colored/00456_940422_fa_converted_final.png',\n '/home/mahdi/Projects/FairnessLens/FERET/colorferet/dvd1/colored/00554_940519_fa_converted_final.png',\n '/home/mahdi/Projects/FairnessLens/FERET/colorferet/dvd1/colored/00082_931230_fa_converted_final.png',\n '/home/mahdi/Projects/FairnessLens/FERET/colorferet/dvd1/colored/00067_931230_fa_a_converted_final.png',\n '/home/mahdi/Projects/FairnessLens/FERET/colorferet/dvd1/colored/00242_940128_fa_converted_final.png',\n '/home/mahdi/Projects/FairnessLens/FERET/colorferet/dvd1/colored/00173_931230_fa_a_converted_final.png',\n '/home/mahdi/Projects/FairnessLens/FERET/colorferet/dvd1/colored/00062_931230_fa_converted_final.png',\n '/home/mahdi/Projects/FairnessLens/FERET/colorferet/dvd1/colored/00650_941031_fa_converted_final.png',\n '/home/mahdi/Projects/FairnessLens/FERET/colorferet/dvd1/colored/00273_940422_fa_converted_final.png',\n '/home/mahdi/Projects/FairnessLens/FERET/colorferet/dvd1/colored/00541_940519_fa_converted_final.png',\n '/home/mahdi/Projects/FairnessLens/FERET/colorferet/dvd1/colored/00425_940422_fa_converted_final.png',\n '/home/mahdi/Projects/FairnessLens/FERET/colorferet/dvd1/colored/00333_940422_fa_converted_final.png',\n '/home/mahdi/Projects/FairnessLens/FERET/colorferet/dvd1/colored/00470_940519_fa_converted_final.png',\n '/home/mahdi/Projects/FairnessLens/FERET/colorferet/dvd1/colored/00439_940422_fa_converted_final.png',\n '/home/mahdi/Projects/FairnessLens/FERET/colorferet/dvd1/colored/00550_940519_fa_converted_final.png',\n '/home/mahdi/Projects/FairnessLens/FERET/colorferet/dvd1/colored/00177_931230_fa_a_converted_final.png',\n '/home/mahdi/Projects/FairnessLens/FERET/colorferet/dvd1/colored/00098_931230_fa_converted_final.png',\n '/home/mahdi/Projects/FairnessLens/FERET/colorferet/dvd1/colored/00523_940519_fa_a_converted_final.png',\n '/home/mahdi/Projects/FairnessLens/FERET/colorferet/dvd1/colored/00167_931230_fa_converted_final.png',\n '/home/mahdi/Projects/FairnessLens/FERET/colorferet/dvd1/colored/00720_941205_fa_converted_final.png',\n '/home/mahdi/Projects/FairnessLens/FERET/colorferet/dvd1/colored/00572_940928_fa_converted_final.png',\n '/home/mahdi/Projects/FairnessLens/FERET/colorferet/dvd1/colored/00100_931230_fa_a_converted_final.png',\n '/home/mahdi/Projects/FairnessLens/FERET/colorferet/dvd1/colored/00049_931230_fa_converted_final.png',\n '/home/mahdi/Projects/FairnessLens/FERET/colorferet/dvd1/colored/00195_940128_fa_converted_final.png',\n '/home/mahdi/Projects/FairnessLens/FERET/colorferet/dvd1/colored/00075_931230_fa_converted_final.png',\n '/home/mahdi/Projects/FairnessLens/FERET/colorferet/dvd1/colored/00544_940519_fa_a_converted_final.png',\n '/home/mahdi/Projects/FairnessLens/FERET/colorferet/dvd1/colored/00426_940422_fa_converted_final.png',\n '/home/mahdi/Projects/FairnessLens/FERET/colorferet/dvd1/colored/00227_940128_fa_converted_final.png',\n '/home/mahdi/Projects/FairnessLens/FERET/colorferet/dvd1/colored/00259_940128_fa_converted_final.png',\n '/home/mahdi/Projects/FairnessLens/FERET/colorferet/dvd1/colored/00087_931230_fa_a_converted_final.png',\n '/home/mahdi/Projects/FairnessLens/FERET/colorferet/dvd1/colored/00384_940422_fa_converted_final.png',\n '/home/mahdi/Projects/FairnessLens/FERET/colorferet/dvd1/colored/00340_940422_fa_a_converted_final.png',\n '/home/mahdi/Projects/FairnessLens/FERET/colorferet/dvd1/colored/00296_940422_fa_converted_final.png',\n '/home/mahdi/Projects/FairnessLens/FERET/colorferet/dvd1/colored/00513_940519_fa_converted_final.png',\n '/home/mahdi/Projects/FairnessLens/FERET/colorferet/dvd1/colored/00507_940519_fa_a_converted_final.png',\n '/home/mahdi/Projects/FairnessLens/FERET/colorferet/dvd1/colored/00737_960530_fa_converted_final.png',\n '/home/mahdi/Projects/FairnessLens/FERET/colorferet/dvd1/colored/00314_940422_fa_converted_final.png',\n '/home/mahdi/Projects/FairnessLens/FERET/colorferet/dvd1/colored/00243_940128_fa_converted_final.png',\n '/home/mahdi/Projects/FairnessLens/FERET/colorferet/dvd1/colored/00200_940128_fa_converted_final.png',\n '/home/mahdi/Projects/FairnessLens/FERET/colorferet/dvd1/colored/00608_940928_fa_converted_final.png',\n '/home/mahdi/Projects/FairnessLens/FERET/colorferet/dvd1/colored/00451_940422_fa_converted_final.png',\n '/home/mahdi/Projects/FairnessLens/FERET/colorferet/dvd1/colored/00528_940519_fa_converted_final.png',\n '/home/mahdi/Projects/FairnessLens/FERET/colorferet/dvd1/colored/00142_931230_fa_converted_final.png',\n '/home/mahdi/Projects/FairnessLens/FERET/colorferet/dvd1/colored/00618_940928_fa_converted_final.png',\n '/home/mahdi/Projects/FairnessLens/FERET/colorferet/dvd1/colored/00437_940422_fa_converted_final.png',\n '/home/mahdi/Projects/FairnessLens/FERET/colorferet/dvd1/colored/00003_941121_fa_converted_final.png',\n '/home/mahdi/Projects/FairnessLens/FERET/colorferet/dvd1/colored/00690_941121_fa_converted_final.png',\n '/home/mahdi/Projects/FairnessLens/FERET/colorferet/dvd1/colored/00614_941031_fa_converted_final.png',\n '/home/mahdi/Projects/FairnessLens/FERET/colorferet/dvd1/colored/00116_931230_fa_converted_final.png',\n '/home/mahdi/Projects/FairnessLens/FERET/colorferet/dvd1/colored/00247_940128_fa_converted_final.png',\n '/home/mahdi/Projects/FairnessLens/FERET/colorferet/dvd1/colored/00069_931230_fa_converted_final.png',\n '/home/mahdi/Projects/FairnessLens/FERET/colorferet/dvd1/colored/00560_940519_fa_converted_final.png',\n '/home/mahdi/Projects/FairnessLens/FERET/colorferet/dvd1/colored/00479_940519_fa_converted_final.png',\n '/home/mahdi/Projects/FairnessLens/FERET/colorferet/dvd1/colored/00506_940519_fa_converted_final.png',\n '/home/mahdi/Projects/FairnessLens/FERET/colorferet/dvd1/colored/00413_940422_fa_converted_final.png',\n '/home/mahdi/Projects/FairnessLens/FERET/colorferet/dvd1/colored/00128_931230_fa_a_converted_final.png',\n '/home/mahdi/Projects/FairnessLens/FERET/colorferet/dvd1/colored/00386_940422_fa_converted_final.png',\n '/home/mahdi/Projects/FairnessLens/FERET/colorferet/dvd1/colored/00617_940928_fa_converted_final.png',\n '/home/mahdi/Projects/FairnessLens/FERET/colorferet/dvd1/colored/00392_940422_fa_a_converted_final.png',\n '/home/mahdi/Projects/FairnessLens/FERET/colorferet/dvd1/colored/00286_940422_fa_converted_final.png',\n '/home/mahdi/Projects/FairnessLens/FERET/colorferet/dvd1/colored/00048_931230_fa_a_converted_final.png',\n '/home/mahdi/Projects/FairnessLens/FERET/colorferet/dvd1/colored/00360_940422_fa_converted_final.png',\n '/home/mahdi/Projects/FairnessLens/FERET/colorferet/dvd1/colored/00656_941121_fa_converted_final.png',\n '/home/mahdi/Projects/FairnessLens/FERET/colorferet/dvd1/colored/00434_940422_fa_converted_final.png',\n '/home/mahdi/Projects/FairnessLens/FERET/colorferet/dvd1/colored/00318_940422_fa_converted_final.png',\n '/home/mahdi/Projects/FairnessLens/FERET/colorferet/dvd1/colored/00205_940128_fa_converted_final.png',\n '/home/mahdi/Projects/FairnessLens/FERET/colorferet/dvd1/colored/00734_941201_fa_converted_final.png',\n '/home/mahdi/Projects/FairnessLens/FERET/colorferet/dvd1/colored/00536_940519_fa_converted_final.png',\n '/home/mahdi/Projects/FairnessLens/FERET/colorferet/dvd1/colored/00724_960620_fa_converted_final.png',\n '/home/mahdi/Projects/FairnessLens/FERET/colorferet/dvd1/colored/00556_940519_fa_converted_final.png',\n '/home/mahdi/Projects/FairnessLens/FERET/colorferet/dvd1/colored/00288_940422_fa_converted_final.png',\n '/home/mahdi/Projects/FairnessLens/FERET/colorferet/dvd1/colored/00620_940928_fa_converted_final.png',\n '/home/mahdi/Projects/FairnessLens/FERET/colorferet/dvd1/colored/00615_941031_fa_converted_final.png',\n '/home/mahdi/Projects/FairnessLens/FERET/colorferet/dvd1/colored/00229_940128_fa_converted_final.png',\n '/home/mahdi/Projects/FairnessLens/FERET/colorferet/dvd1/colored/00527_940519_fa_converted_final.png',\n '/home/mahdi/Projects/FairnessLens/FERET/colorferet/dvd1/colored/00562_941031_fa_converted_final.png',\n '/home/mahdi/Projects/FairnessLens/FERET/colorferet/dvd1/colored/00093_931230_fa_converted_final.png',\n '/home/mahdi/Projects/FairnessLens/FERET/colorferet/dvd1/colored/00526_940519_fa_converted_final.png',\n '/home/mahdi/Projects/FairnessLens/FERET/colorferet/dvd1/colored/00613_940928_fa_converted_final.png',\n '/home/mahdi/Projects/FairnessLens/FERET/colorferet/dvd1/colored/00297_940422_fa_converted_final.png',\n '/home/mahdi/Projects/FairnessLens/FERET/colorferet/dvd1/colored/00056_931230_fa_converted_final.png',\n '/home/mahdi/Projects/FairnessLens/FERET/colorferet/dvd1/colored/00358_940422_fa_converted_final.png',\n '/home/mahdi/Projects/FairnessLens/FERET/colorferet/dvd1/colored/00511_940519_fa_converted_final.png',\n '/home/mahdi/Projects/FairnessLens/FERET/colorferet/dvd1/colored/00199_940128_fa_converted_final.png',\n '/home/mahdi/Projects/FairnessLens/FERET/colorferet/dvd1/colored/00321_940422_fa_converted_final.png',\n '/home/mahdi/Projects/FairnessLens/FERET/colorferet/dvd1/colored/00231_940128_fa_converted_final.png',\n '/home/mahdi/Projects/FairnessLens/FERET/colorferet/dvd1/colored/00432_940422_fa_converted_final.png',\n '/home/mahdi/Projects/FairnessLens/FERET/colorferet/dvd1/colored/00465_940519_fa_converted_final.png',\n '/home/mahdi/Projects/FairnessLens/FERET/colorferet/dvd1/colored/00543_940519_fa_converted_final.png',\n '/home/mahdi/Projects/FairnessLens/FERET/colorferet/dvd1/colored/00390_940422_fa_converted_final.png',\n '/home/mahdi/Projects/FairnessLens/FERET/colorferet/dvd1/colored/00353_940422_fa_converted_final.png',\n '/home/mahdi/Projects/FairnessLens/FERET/colorferet/dvd1/colored/00721_941201_fa_converted_final.png',\n '/home/mahdi/Projects/FairnessLens/FERET/colorferet/dvd1/colored/00169_931230_fa_a_converted_final.png',\n '/home/mahdi/Projects/FairnessLens/FERET/colorferet/dvd1/colored/00723_941201_fa_converted_final.png',\n '/home/mahdi/Projects/FairnessLens/FERET/colorferet/dvd1/colored/00136_931230_fa_converted_final.png',\n '/home/mahdi/Projects/FairnessLens/FERET/colorferet/dvd1/colored/00419_940422_fa_converted_final.png',\n '/home/mahdi/Projects/FairnessLens/FERET/colorferet/dvd1/colored/00124_931230_fa_converted_final.png',\n '/home/mahdi/Projects/FairnessLens/FERET/colorferet/dvd1/colored/00510_940519_fa_converted_final.png',\n '/home/mahdi/Projects/FairnessLens/FERET/colorferet/dvd1/colored/00376_940422_fa_converted_final.png',\n '/home/mahdi/Projects/FairnessLens/FERET/colorferet/dvd1/colored/00257_940128_fa_converted_final.png',\n '/home/mahdi/Projects/FairnessLens/FERET/colorferet/dvd1/colored/00518_940519_fa_converted_final.png',\n '/home/mahdi/Projects/FairnessLens/FERET/colorferet/dvd1/colored/00160_931230_fa_a_converted_final.png',\n '/home/mahdi/Projects/FairnessLens/FERET/colorferet/dvd1/colored/00670_941121_fa_converted_final.png',\n '/home/mahdi/Projects/FairnessLens/FERET/colorferet/dvd1/colored/00055_931230_fa_a_converted_final.png',\n '/home/mahdi/Projects/FairnessLens/FERET/colorferet/dvd1/colored/00107_941121_fa_converted_final.png',\n '/home/mahdi/Projects/FairnessLens/FERET/colorferet/dvd1/colored/00143_931230_fa_a_converted_final.png',\n '/home/mahdi/Projects/FairnessLens/FERET/colorferet/dvd1/colored/00315_940422_fa_converted_final.png',\n '/home/mahdi/Projects/FairnessLens/FERET/colorferet/dvd1/colored/00487_940519_fa_converted_final.png',\n '/home/mahdi/Projects/FairnessLens/FERET/colorferet/dvd1/colored/00139_931230_fa_converted_final.png',\n '/home/mahdi/Projects/FairnessLens/Gateway/results/feret/1_1_20231227203804877311.png',\n '/home/mahdi/Projects/FairnessLens/Gateway/results/feret/1_1_20231227203831994305.png',\n '/home/mahdi/Projects/FairnessLens/Gateway/results/feret/1_1_20231227203911961765.png',\n '/home/mahdi/Projects/FairnessLens/Gateway/results/feret/1_1_20231227204107851277.png',\n '/home/mahdi/Projects/FairnessLens/Gateway/results/feret/1_1_20231227204130368021.png',\n '/home/mahdi/Projects/FairnessLens/Gateway/results/feret/1_1_20231227204148284042.png',\n '/home/mahdi/Projects/FairnessLens/Gateway/results/feret/1_1_20231227204208217943.png',\n '/home/mahdi/Projects/FairnessLens/Gateway/results/feret/1_1_20231227204353752757.png',\n '/home/mahdi/Projects/FairnessLens/Gateway/results/feret/1_1_20231227204412274179.png',\n '/home/mahdi/Projects/FairnessLens/Gateway/results/feret/1_1_20231227204440076540.png',\n '/home/mahdi/Projects/FairnessLens/Gateway/results/feret/1_1_20231227204502874431.png',\n '/home/mahdi/Projects/FairnessLens/Gateway/results/feret/1_1_20231227204524202626.png',\n '/home/mahdi/Projects/FairnessLens/Gateway/results/feret/1_1_20231227204543537507.png',\n '/home/mahdi/Projects/FairnessLens/Gateway/results/feret/1_1_20231227204614273261.png',\n '/home/mahdi/Projects/FairnessLens/Gateway/results/feret/1_1_20231227204635423403.png',\n '/home/mahdi/Projects/FairnessLens/Gateway/results/feret/1_1_20231227204704804526.png',\n '/home/mahdi/Projects/FairnessLens/Gateway/results/feret/1_1_20231227204754071777.png',\n '/home/mahdi/Projects/FairnessLens/Gateway/results/feret/1_1_20231227204826442737.png',\n '/home/mahdi/Projects/FairnessLens/Gateway/results/feret/1_1_20231227204950811662.png',\n '/home/mahdi/Projects/FairnessLens/Gateway/results/feret/1_1_20231227205009472824.png',\n '/home/mahdi/Projects/FairnessLens/Gateway/results/feret/1_1_20231227205257642063.png',\n '/home/mahdi/Projects/FairnessLens/Gateway/results/feret/1_1_20231227205328279302.png',\n '/home/mahdi/Projects/FairnessLens/Gateway/results/feret/1_1_20231227205347033004.png',\n '/home/mahdi/Projects/FairnessLens/Gateway/results/feret/1_1_20231227205502324180.png',\n '/home/mahdi/Projects/FairnessLens/Gateway/results/feret/1_1_20231227205547457480.png',\n '/home/mahdi/Projects/FairnessLens/Gateway/results/feret/1_1_20231227205619812233.png',\n '/home/mahdi/Projects/FairnessLens/Gateway/results/feret/1_1_20231227205639808850.png',\n '/home/mahdi/Projects/FairnessLens/Gateway/results/feret/1_1_20231227205700886895.png',\n '/home/mahdi/Projects/FairnessLens/Gateway/results/feret/1_1_20231227205800577685.png',\n '/home/mahdi/Projects/FairnessLens/Gateway/results/feret/1_1_20231227205821214092.png',\n '/home/mahdi/Projects/FairnessLens/Gateway/results/feret/1_1_20231227205842865103.png',\n '/home/mahdi/Projects/FairnessLens/Gateway/results/feret/1_1_20231227205902980736.png',\n '/home/mahdi/Projects/FairnessLens/Gateway/results/feret/1_1_20231227205926897980.png',\n '/home/mahdi/Projects/FairnessLens/Gateway/results/feret/1_1_20231227205945220232.png',\n '/home/mahdi/Projects/FairnessLens/Gateway/results/feret/1_1_20231227210007100636.png',\n '/home/mahdi/Projects/FairnessLens/Gateway/results/feret/1_1_20231227210029678536.png',\n '/home/mahdi/Projects/FairnessLens/Gateway/results/feret/1_1_20231227210053721418.png',\n '/home/mahdi/Projects/FairnessLens/Gateway/results/feret/1_1_20231227210122651887.png',\n '/home/mahdi/Projects/FairnessLens/Gateway/results/feret/1_1_20231227210147311233.png',\n '/home/mahdi/Projects/FairnessLens/Gateway/results/feret/1_1_20231227210206926565.png',\n '/home/mahdi/Projects/FairnessLens/Gateway/results/feret/1_1_20231227210226426667.png',\n '/home/mahdi/Projects/FairnessLens/Gateway/results/feret/1_1_20231227210244481895.png',\n '/home/mahdi/Projects/FairnessLens/Gateway/results/feret/1_1_20231227210304365786.png',\n '/home/mahdi/Projects/FairnessLens/Gateway/results/feret/1_3_20231227210326421096.png',\n '/home/mahdi/Projects/FairnessLens/Gateway/results/feret/1_3_20231227210434016375.png',\n '/home/mahdi/Projects/FairnessLens/Gateway/results/feret/1_3_20231227210450725303.png',\n '/home/mahdi/Projects/FairnessLens/Gateway/results/feret/1_3_20231227210523174949.png',\n '/home/mahdi/Projects/FairnessLens/Gateway/results/feret/1_3_20231227210551828657.png',\n '/home/mahdi/Projects/FairnessLens/Gateway/results/feret/1_3_20231227210614143128.png',\n '/home/mahdi/Projects/FairnessLens/Gateway/results/feret/1_3_20231227210347996291.png',\n '/home/mahdi/Projects/FairnessLens/Gateway/results/feret/1_3_20231227210641408246.png',\n '/home/mahdi/Projects/FairnessLens/Gateway/results/feret/1_3_20231227210740236654.png',\n '/home/mahdi/Projects/FairnessLens/Gateway/results/feret/1_3_20231227210809140190.png',\n '/home/mahdi/Projects/FairnessLens/Gateway/results/feret/1_3_20231227210826897793.png',\n '/home/mahdi/Projects/FairnessLens/Gateway/results/feret/1_3_20231227210956593869.png',\n '/home/mahdi/Projects/FairnessLens/Gateway/results/feret/1_3_20231227211050639243.png',\n '/home/mahdi/Projects/FairnessLens/Gateway/results/feret/1_3_20231227211147931957.png',\n '/home/mahdi/Projects/FairnessLens/Gateway/results/feret/1_3_20231227211207957813.png',\n '/home/mahdi/Projects/FairnessLens/Gateway/results/feret/1_3_20231227211301990681.png',\n '/home/mahdi/Projects/FairnessLens/Gateway/results/feret/1_3_20231227211324122859.png',\n '/home/mahdi/Projects/FairnessLens/Gateway/results/feret/1_3_20231227211357819031.png',\n '/home/mahdi/Projects/FairnessLens/Gateway/results/feret/1_3_20231227211421527924.png',\n '/home/mahdi/Projects/FairnessLens/Gateway/results/feret/1_3_20231227211452170834.png',\n '/home/mahdi/Projects/FairnessLens/Gateway/results/feret/1_3_20231227211510890485.png',\n '/home/mahdi/Projects/FairnessLens/Gateway/results/feret/1_3_20231227211802390437.png',\n '/home/mahdi/Projects/FairnessLens/Gateway/results/feret/1_3_20231227211854136765.png',\n '/home/mahdi/Projects/FairnessLens/Gateway/results/feret/1_4_20231227211914296737.png',\n '/home/mahdi/Projects/FairnessLens/Gateway/results/feret/1_4_20231227211945054664.png',\n '/home/mahdi/Projects/FairnessLens/Gateway/results/feret/1_4_20231227212007592997.png',\n '/home/mahdi/Projects/FairnessLens/Gateway/results/feret/1_4_20231227212143839029.png',\n '/home/mahdi/Projects/FairnessLens/Gateway/results/feret/1_4_20231227212235429078.png']"
     },
     "execution_count": 7,
     "metadata": {},
     "output_type": "execute_result"
    }
   ],
   "source": [
    "train_image_paths = train_df['image_path'].tolist()\n",
    "test_image_paths = test_df['image_path'].tolist()\n",
    "train_image_paths"
   ]
  },
  {
   "cell_type": "code",
   "execution_count": 2,
   "id": "3f63ca66714ef6",
   "metadata": {
    "collapsed": false,
    "ExecuteTime": {
     "end_time": "2024-01-25T23:21:39.493209483Z",
     "start_time": "2024-01-25T23:21:39.465020966Z"
    }
   },
   "outputs": [],
   "source": [
    "# Read and resize images\n",
    "def preprocess_image(file_path, target_size=(512, 768)):\n",
    "    img = cv2.imread(file_path) \n",
    "    img = cv2.resize(img, (512,512))\n",
    "    x, y = 85, 0\n",
    "    crop_img = img[y:y+512, x:x+342]\n",
    "    resized_img = cv2.resize(crop_img, target_size)\n",
    "    final_img = resized_img.astype(\"float\") / 255.0  # Normalize pixel values\n",
    "    cv2.imshow(\"test\", resized_img)\n",
    "    cv2.waitKey(0)\n",
    "    return final_img"
   ]
  },
  {
   "cell_type": "code",
   "execution_count": null,
   "outputs": [
    {
     "name": "stderr",
     "output_type": "stream",
     "text": [
      "Warning: Ignoring XDG_SESSION_TYPE=wayland on Gnome. Use QT_QPA_PLATFORM=wayland to run on Wayland anyway.\n"
     ]
    }
   ],
   "source": [
    "preprocess_image(\"/home/mahdi/Projects/FairnessLens/FERET/colorferet/dvd1/colored/00006_931230_fa_converted_final.png\")"
   ],
   "metadata": {
    "collapsed": false,
    "is_executing": true,
    "ExecuteTime": {
     "start_time": "2024-01-25T23:22:23.416090434Z"
    }
   },
   "id": "b0874588f1812964"
  },
  {
   "cell_type": "code",
   "execution_count": 9,
   "id": "1841ed40-418a-406f-8f33-e808a45ccd8c",
   "metadata": {
    "ExecuteTime": {
     "end_time": "2024-01-13T18:45:50.810891980Z",
     "start_time": "2024-01-13T18:45:42.431807524Z"
    }
   },
   "outputs": [],
   "source": [
    "# Apply preprocessing to the entire dataset\n",
    "X_train = [preprocess_image(file_path) for file_path in train_image_paths]\n",
    "X_test = [preprocess_image(file_path) for file_path in test_image_paths]\n",
    "\n",
    "X_train = np.array(X_train)\n",
    "X_test = np.array(X_test)"
   ]
  },
  {
   "cell_type": "code",
   "execution_count": 10,
   "id": "130f6bb7d07335a3",
   "metadata": {
    "collapsed": false,
    "ExecuteTime": {
     "start_time": "2024-01-13T18:45:50.812277839Z"
    }
   },
   "outputs": [
    {
     "data": {
      "text/plain": "(615, 384, 256, 3)"
     },
     "execution_count": 10,
     "metadata": {},
     "output_type": "execute_result"
    }
   ],
   "source": [
    "X_train.shape"
   ]
  },
  {
   "cell_type": "code",
   "execution_count": 11,
   "id": "d46fe18ebe1276e6",
   "metadata": {
    "collapsed": false,
    "ExecuteTime": {
     "end_time": "2024-01-13T18:45:50.818315320Z",
     "start_time": "2024-01-13T18:45:50.816808491Z"
    }
   },
   "outputs": [],
   "source": [
    "train_gender_labels = train_df['gender'].tolist()\n",
    "test_gender_labels = test_df['gender'].tolist()\n",
    "train_race_labels = train_df['race'].tolist()\n",
    "test_race_labels = test_df['race'].tolist()"
   ]
  },
  {
   "cell_type": "code",
   "execution_count": 12,
   "id": "52cb9189b2983751",
   "metadata": {
    "collapsed": false,
    "ExecuteTime": {
     "end_time": "2024-01-13T18:45:50.835873913Z",
     "start_time": "2024-01-13T18:45:50.821176787Z"
    }
   },
   "outputs": [],
   "source": [
    "from sklearn.preprocessing import LabelEncoder\n",
    "\n",
    "# Create label encoders for gender and race\n",
    "gender_encoder = LabelEncoder()\n",
    "race_encoder = LabelEncoder()\n",
    "\n",
    "# Apply label encoding to gender\n",
    "y_train_gender_encoded = gender_encoder.fit_transform(train_gender_labels)\n",
    "y_test_gender_encoded = gender_encoder.transform(test_gender_labels)\n",
    "\n",
    "# Apply label encoding to race\n",
    "y_train_race_encoded = race_encoder.fit_transform(train_race_labels)\n",
    "y_test_race_encoded = race_encoder.transform(test_race_labels)\n"
   ]
  },
  {
   "cell_type": "code",
   "execution_count": 13,
   "id": "54bafbacded47492",
   "metadata": {
    "collapsed": false,
    "ExecuteTime": {
     "end_time": "2024-01-13T18:45:53.223267438Z",
     "start_time": "2024-01-13T18:45:50.826982783Z"
    }
   },
   "outputs": [
    {
     "name": "stderr",
     "output_type": "stream",
     "text": [
      "2024-01-13 12:45:51.215442: I external/local_tsl/tsl/cuda/cudart_stub.cc:31] Could not find cuda drivers on your machine, GPU will not be used.\n",
      "2024-01-13 12:45:51.430729: E external/local_xla/xla/stream_executor/cuda/cuda_dnn.cc:9261] Unable to register cuDNN factory: Attempting to register factory for plugin cuDNN when one has already been registered\n",
      "2024-01-13 12:45:51.430788: E external/local_xla/xla/stream_executor/cuda/cuda_fft.cc:607] Unable to register cuFFT factory: Attempting to register factory for plugin cuFFT when one has already been registered\n",
      "2024-01-13 12:45:51.445854: E external/local_xla/xla/stream_executor/cuda/cuda_blas.cc:1515] Unable to register cuBLAS factory: Attempting to register factory for plugin cuBLAS when one has already been registered\n",
      "2024-01-13 12:45:51.479587: I external/local_tsl/tsl/cuda/cudart_stub.cc:31] Could not find cuda drivers on your machine, GPU will not be used.\n",
      "2024-01-13 12:45:51.480111: I tensorflow/core/platform/cpu_feature_guard.cc:182] This TensorFlow binary is optimized to use available CPU instructions in performance-critical operations.\n",
      "To enable the following instructions: AVX2 FMA, in other operations, rebuild TensorFlow with the appropriate compiler flags.\n",
      "2024-01-13 12:45:52.486314: W tensorflow/compiler/tf2tensorrt/utils/py_utils.cc:38] TF-TRT Warning: Could not find TensorRT\n"
     ]
    }
   ],
   "source": [
    "from tensorflow.keras.models import Sequential\n",
    "from tensorflow.keras.layers import Conv2D, MaxPooling2D, Flatten, Dense"
   ]
  },
  {
   "cell_type": "code",
   "execution_count": 14,
   "id": "d994955b4fad2d20",
   "metadata": {
    "collapsed": false,
    "ExecuteTime": {
     "end_time": "2024-01-13T18:45:53.593155508Z",
     "start_time": "2024-01-13T18:45:53.225545651Z"
    }
   },
   "outputs": [
    {
     "name": "stderr",
     "output_type": "stream",
     "text": [
      "2024-01-13 12:45:53.281704: W external/local_tsl/tsl/framework/cpu_allocator_impl.cc:83] Allocation of 397426688 exceeds 10% of free system memory.\n",
      "2024-01-13 12:45:53.370714: W external/local_tsl/tsl/framework/cpu_allocator_impl.cc:83] Allocation of 397426688 exceeds 10% of free system memory.\n",
      "2024-01-13 12:45:53.408664: W external/local_tsl/tsl/framework/cpu_allocator_impl.cc:83] Allocation of 397426688 exceeds 10% of free system memory.\n"
     ]
    }
   ],
   "source": [
    "# Assuming RGB images with dimensions 100x150 pixels\n",
    "input_shape = (384,256, 3)\n",
    "num_classes_gender = 2 \n",
    "\n",
    "model = Sequential()\n",
    "model.add(Conv2D(32, (3, 3), activation='relu', input_shape=input_shape))\n",
    "model.add(MaxPooling2D((2, 2)))\n",
    "model.add(Flatten())\n",
    "model.add(Dense(128, activation='relu'))\n",
    "model.add(Dense(num_classes_gender, activation='softmax'))  # For gender classification\n",
    "\n",
    "model.compile(optimizer='adam', loss='sparse_categorical_crossentropy', metrics=['accuracy'])"
   ]
  },
  {
   "cell_type": "code",
   "execution_count": 15,
   "id": "3df6c20cd76a2d25",
   "metadata": {
    "collapsed": false,
    "ExecuteTime": {
     "end_time": "2024-01-13T18:53:36.795191221Z",
     "start_time": "2024-01-13T18:45:53.595209527Z"
    }
   },
   "outputs": [
    {
     "name": "stdout",
     "output_type": "stream",
     "text": [
      "Epoch 1/5\n"
     ]
    },
    {
     "name": "stderr",
     "output_type": "stream",
     "text": [
      "2024-01-13 12:45:56.269743: W external/local_tsl/tsl/framework/cpu_allocator_impl.cc:83] Allocation of 725483520 exceeds 10% of free system memory.\n",
      "2024-01-13 12:45:56.847308: W external/local_tsl/tsl/framework/cpu_allocator_impl.cc:83] Allocation of 397426688 exceeds 10% of free system memory.\n"
     ]
    },
    {
     "name": "stdout",
     "output_type": "stream",
     "text": [
      "123/123 [==============================] - 108s 873ms/step - loss: 3.7241 - accuracy: 0.6748 - val_loss: 0.6636 - val_accuracy: 0.6912\n",
      "Epoch 2/5\n",
      "123/123 [==============================] - 92s 746ms/step - loss: 0.3981 - accuracy: 0.8537 - val_loss: 0.5239 - val_accuracy: 0.7647\n",
      "Epoch 3/5\n",
      "123/123 [==============================] - 88s 716ms/step - loss: 0.1641 - accuracy: 0.9561 - val_loss: 0.5248 - val_accuracy: 0.7426\n",
      "Epoch 4/5\n",
      "123/123 [==============================] - 86s 700ms/step - loss: 0.0547 - accuracy: 0.9902 - val_loss: 0.4682 - val_accuracy: 0.7647\n",
      "Epoch 5/5\n",
      "123/123 [==============================] - 87s 704ms/step - loss: 0.0063 - accuracy: 1.0000 - val_loss: 0.4777 - val_accuracy: 0.8015\n"
     ]
    },
    {
     "data": {
      "text/plain": "<keras.src.callbacks.History at 0x7f5a3c67dae0>"
     },
     "execution_count": 15,
     "metadata": {},
     "output_type": "execute_result"
    }
   ],
   "source": [
    "# Example training code\n",
    "model.fit(X_train, y_train_gender_encoded, epochs=5, batch_size=5, validation_data=(X_test, y_test_gender_encoded))"
   ]
  },
  {
   "cell_type": "code",
   "execution_count": 23,
   "id": "ca538bf18331f6ea",
   "metadata": {
    "collapsed": false,
    "ExecuteTime": {
     "end_time": "2023-12-28T04:24:48.259880652Z",
     "start_time": "2023-12-28T04:24:47.079991745Z"
    }
   },
   "outputs": [
    {
     "name": "stdout",
     "output_type": "stream",
     "text": [
      "5/5 [==============================] - 1s 141ms/step - loss: 0.5771 - accuracy: 0.8603\n",
      "Test Accuracy: 0.8602941036224365\n"
     ]
    }
   ],
   "source": [
    "loss, accuracy = model.evaluate(X_test, y_test_gender_encoded)\n",
    "print(f\"Test Accuracy: {accuracy}\")"
   ]
  },
  {
   "cell_type": "code",
   "execution_count": 24,
   "id": "8a5f371d10a8b0f2",
   "metadata": {
    "collapsed": false,
    "ExecuteTime": {
     "end_time": "2023-12-28T04:24:53.790199512Z",
     "start_time": "2023-12-28T04:24:53.532834384Z"
    }
   },
   "outputs": [],
   "source": [
    "input_shape = (384,256, 3)\n",
    "num_classes_race = 5 \n",
    "\n",
    "race_model = Sequential()\n",
    "race_model.add(Conv2D(32, (3, 3), activation='relu', input_shape=input_shape))\n",
    "race_model.add(MaxPooling2D((2, 2)))\n",
    "race_model.add(Flatten())\n",
    "race_model.add(Dense(128, activation='relu'))\n",
    "race_model.add(Dense(num_classes_race, activation='softmax'))\n",
    "\n",
    "race_model.compile(optimizer='adam', loss='sparse_categorical_crossentropy', metrics=['accuracy'])"
   ]
  },
  {
   "cell_type": "code",
   "execution_count": 25,
   "id": "4f73ae79b2cbc410",
   "metadata": {
    "collapsed": false,
    "ExecuteTime": {
     "end_time": "2023-12-28T04:32:45.222262449Z",
     "start_time": "2023-12-28T04:25:00.855870436Z"
    }
   },
   "outputs": [
    {
     "name": "stdout",
     "output_type": "stream",
     "text": [
      "Epoch 1/5\n",
      "123/123 [==============================] - 92s 746ms/step - loss: 12.7348 - accuracy: 0.4081 - val_loss: 1.4176 - val_accuracy: 0.5441\n",
      "Epoch 2/5\n",
      "123/123 [==============================] - 92s 746ms/step - loss: 1.0992 - accuracy: 0.5951 - val_loss: 1.1637 - val_accuracy: 0.6397\n",
      "Epoch 3/5\n",
      "123/123 [==============================] - 92s 746ms/step - loss: 0.6174 - accuracy: 0.8000 - val_loss: 1.2359 - val_accuracy: 0.6176\n",
      "Epoch 4/5\n",
      "123/123 [==============================] - 92s 749ms/step - loss: 0.2786 - accuracy: 0.9431 - val_loss: 1.3919 - val_accuracy: 0.5000\n",
      "Epoch 5/5\n",
      "123/123 [==============================] - 92s 749ms/step - loss: 0.0779 - accuracy: 0.9967 - val_loss: 1.3098 - val_accuracy: 0.5588\n"
     ]
    },
    {
     "data": {
      "text/plain": "<keras.src.callbacks.History at 0x7f57b07aae90>"
     },
     "execution_count": 25,
     "metadata": {},
     "output_type": "execute_result"
    }
   ],
   "source": [
    "race_model.fit(X_train, y_train_race_encoded, epochs=5, batch_size=5, validation_data=(X_test, y_test_race_encoded))"
   ]
  },
  {
   "cell_type": "code",
   "execution_count": 26,
   "id": "c43ea903fc8e83e0",
   "metadata": {
    "collapsed": false,
    "ExecuteTime": {
     "end_time": "2023-12-28T04:32:52.210265751Z",
     "start_time": "2023-12-28T04:32:51.125694937Z"
    }
   },
   "outputs": [
    {
     "name": "stdout",
     "output_type": "stream",
     "text": [
      "5/5 [==============================] - 1s 139ms/step - loss: 1.3098 - accuracy: 0.5588\n",
      "Test Accuracy: 0.5588235259056091\n"
     ]
    }
   ],
   "source": [
    "loss, accuracy = race_model.evaluate(X_test, y_test_race_encoded)\n",
    "print(f\"Test Accuracy: {accuracy}\")"
   ]
  },
  {
   "cell_type": "code",
   "execution_count": 25,
   "id": "0200cf1b-e7c9-4b66-957f-8051bf579868",
   "metadata": {},
   "outputs": [
    {
     "data": {
      "text/html": [
       "<div>\n",
       "<style scoped>\n",
       "    .dataframe tbody tr th:only-of-type {\n",
       "        vertical-align: middle;\n",
       "    }\n",
       "\n",
       "    .dataframe tbody tr th {\n",
       "        vertical-align: top;\n",
       "    }\n",
       "\n",
       "    .dataframe thead th {\n",
       "        text-align: right;\n",
       "    }\n",
       "</style>\n",
       "<table border=\"1\" class=\"dataframe\">\n",
       "  <thead>\n",
       "    <tr style=\"text-align: right;\">\n",
       "      <th></th>\n",
       "      <th>filename</th>\n",
       "      <th>gender</th>\n",
       "      <th>yob</th>\n",
       "      <th>race</th>\n",
       "      <th>image_path</th>\n",
       "    </tr>\n",
       "  </thead>\n",
       "  <tbody>\n",
       "    <tr>\n",
       "      <th>678</th>\n",
       "      <td>00738_941201_fa_converted_final.png</td>\n",
       "      <td>Male</td>\n",
       "      <td>1954</td>\n",
       "      <td>White</td>\n",
       "      <td>/home/mahdi/Projects/FairnessLens/FERET/colorf...</td>\n",
       "    </tr>\n",
       "    <tr>\n",
       "      <th>448</th>\n",
       "      <td>00500_940519_fa_converted_final.png</td>\n",
       "      <td>Female</td>\n",
       "      <td>1944</td>\n",
       "      <td>White</td>\n",
       "      <td>/home/mahdi/Projects/FairnessLens/FERET/colorf...</td>\n",
       "    </tr>\n",
       "    <tr>\n",
       "      <th>673</th>\n",
       "      <td>00733_941201_fa_converted_final.png</td>\n",
       "      <td>Male</td>\n",
       "      <td>1954</td>\n",
       "      <td>Asian-Middle-Eastern</td>\n",
       "      <td>/home/mahdi/Projects/FairnessLens/FERET/colorf...</td>\n",
       "    </tr>\n",
       "    <tr>\n",
       "      <th>18</th>\n",
       "      <td>00053_931230_fa_converted_final.png</td>\n",
       "      <td>Female</td>\n",
       "      <td>1963</td>\n",
       "      <td>White</td>\n",
       "      <td>/home/mahdi/Projects/FairnessLens/FERET/colorf...</td>\n",
       "    </tr>\n",
       "    <tr>\n",
       "      <th>478</th>\n",
       "      <td>00530_940519_fa_converted_final.png</td>\n",
       "      <td>Female</td>\n",
       "      <td>1954</td>\n",
       "      <td>White</td>\n",
       "      <td>/home/mahdi/Projects/FairnessLens/FERET/colorf...</td>\n",
       "    </tr>\n",
       "    <tr>\n",
       "      <th>...</th>\n",
       "      <td>...</td>\n",
       "      <td>...</td>\n",
       "      <td>...</td>\n",
       "      <td>...</td>\n",
       "      <td>...</td>\n",
       "    </tr>\n",
       "    <tr>\n",
       "      <th>71</th>\n",
       "      <td>00107_941121_fa_converted_final.png</td>\n",
       "      <td>Female</td>\n",
       "      <td>1953</td>\n",
       "      <td>White</td>\n",
       "      <td>/home/mahdi/Projects/FairnessLens/FERET/colorf...</td>\n",
       "    </tr>\n",
       "    <tr>\n",
       "      <th>106</th>\n",
       "      <td>00143_931230_fa_a_converted_final.png</td>\n",
       "      <td>Male</td>\n",
       "      <td>1963</td>\n",
       "      <td>White</td>\n",
       "      <td>/home/mahdi/Projects/FairnessLens/FERET/colorf...</td>\n",
       "    </tr>\n",
       "    <tr>\n",
       "      <th>270</th>\n",
       "      <td>00315_940422_fa_converted_final.png</td>\n",
       "      <td>Female</td>\n",
       "      <td>1974</td>\n",
       "      <td>White</td>\n",
       "      <td>/home/mahdi/Projects/FairnessLens/FERET/colorf...</td>\n",
       "    </tr>\n",
       "    <tr>\n",
       "      <th>435</th>\n",
       "      <td>00487_940519_fa_converted_final.png</td>\n",
       "      <td>Female</td>\n",
       "      <td>1954</td>\n",
       "      <td>White</td>\n",
       "      <td>/home/mahdi/Projects/FairnessLens/FERET/colorf...</td>\n",
       "    </tr>\n",
       "    <tr>\n",
       "      <th>102</th>\n",
       "      <td>00139_931230_fa_converted_final.png</td>\n",
       "      <td>Male</td>\n",
       "      <td>1973</td>\n",
       "      <td>Asian-Middle-Eastern</td>\n",
       "      <td>/home/mahdi/Projects/FairnessLens/FERET/colorf...</td>\n",
       "    </tr>\n",
       "  </tbody>\n",
       "</table>\n",
       "<p>544 rows × 5 columns</p>\n",
       "</div>"
      ],
      "text/plain": [
       "                                  filename  gender   yob  \\\n",
       "678    00738_941201_fa_converted_final.png    Male  1954   \n",
       "448    00500_940519_fa_converted_final.png  Female  1944   \n",
       "673    00733_941201_fa_converted_final.png    Male  1954   \n",
       "18     00053_931230_fa_converted_final.png  Female  1963   \n",
       "478    00530_940519_fa_converted_final.png  Female  1954   \n",
       "..                                     ...     ...   ...   \n",
       "71     00107_941121_fa_converted_final.png  Female  1953   \n",
       "106  00143_931230_fa_a_converted_final.png    Male  1963   \n",
       "270    00315_940422_fa_converted_final.png  Female  1974   \n",
       "435    00487_940519_fa_converted_final.png  Female  1954   \n",
       "102    00139_931230_fa_converted_final.png    Male  1973   \n",
       "\n",
       "                     race                                         image_path  \n",
       "678                 White  /home/mahdi/Projects/FairnessLens/FERET/colorf...  \n",
       "448                 White  /home/mahdi/Projects/FairnessLens/FERET/colorf...  \n",
       "673  Asian-Middle-Eastern  /home/mahdi/Projects/FairnessLens/FERET/colorf...  \n",
       "18                  White  /home/mahdi/Projects/FairnessLens/FERET/colorf...  \n",
       "478                 White  /home/mahdi/Projects/FairnessLens/FERET/colorf...  \n",
       "..                    ...                                                ...  \n",
       "71                  White  /home/mahdi/Projects/FairnessLens/FERET/colorf...  \n",
       "106                 White  /home/mahdi/Projects/FairnessLens/FERET/colorf...  \n",
       "270                 White  /home/mahdi/Projects/FairnessLens/FERET/colorf...  \n",
       "435                 White  /home/mahdi/Projects/FairnessLens/FERET/colorf...  \n",
       "102  Asian-Middle-Eastern  /home/mahdi/Projects/FairnessLens/FERET/colorf...  \n",
       "\n",
       "[544 rows x 5 columns]"
      ]
     },
     "execution_count": 25,
     "metadata": {},
     "output_type": "execute_result"
    }
   ],
   "source": [
    "train_df"
   ]
  },
  {
   "cell_type": "code",
   "execution_count": 26,
   "id": "30e4d298-aa6b-4d7d-8ecb-9264b41d4858",
   "metadata": {},
   "outputs": [
    {
     "data": {
      "text/html": [
       "<div>\n",
       "<style scoped>\n",
       "    .dataframe tbody tr th:only-of-type {\n",
       "        vertical-align: middle;\n",
       "    }\n",
       "\n",
       "    .dataframe tbody tr th {\n",
       "        vertical-align: top;\n",
       "    }\n",
       "\n",
       "    .dataframe thead th {\n",
       "        text-align: right;\n",
       "    }\n",
       "</style>\n",
       "<table border=\"1\" class=\"dataframe\">\n",
       "  <thead>\n",
       "    <tr style=\"text-align: right;\">\n",
       "      <th></th>\n",
       "      <th>filename</th>\n",
       "      <th>gender</th>\n",
       "      <th>yob</th>\n",
       "      <th>race</th>\n",
       "      <th>image_path</th>\n",
       "    </tr>\n",
       "  </thead>\n",
       "  <tbody>\n",
       "    <tr>\n",
       "      <th>647</th>\n",
       "      <td>00707_941205_fa_converted_final.png</td>\n",
       "      <td>Male</td>\n",
       "      <td>1954</td>\n",
       "      <td>White</td>\n",
       "      <td>/home/mahdi/Projects/FairnessLens/FERET/colorf...</td>\n",
       "    </tr>\n",
       "    <tr>\n",
       "      <th>607</th>\n",
       "      <td>00663_941121_fa_converted_final.png</td>\n",
       "      <td>Female</td>\n",
       "      <td>1974</td>\n",
       "      <td>White</td>\n",
       "      <td>/home/mahdi/Projects/FairnessLens/FERET/colorf...</td>\n",
       "    </tr>\n",
       "    <tr>\n",
       "      <th>63</th>\n",
       "      <td>00099_931230_fa_a_converted_final.png</td>\n",
       "      <td>Male</td>\n",
       "      <td>1963</td>\n",
       "      <td>Asian</td>\n",
       "      <td>/home/mahdi/Projects/FairnessLens/FERET/colorf...</td>\n",
       "    </tr>\n",
       "    <tr>\n",
       "      <th>319</th>\n",
       "      <td>00364_940422_fa_converted_final.png</td>\n",
       "      <td>Male</td>\n",
       "      <td>1974</td>\n",
       "      <td>White</td>\n",
       "      <td>/home/mahdi/Projects/FairnessLens/FERET/colorf...</td>\n",
       "    </tr>\n",
       "    <tr>\n",
       "      <th>101</th>\n",
       "      <td>00138_931230_fa_converted_final.png</td>\n",
       "      <td>Male</td>\n",
       "      <td>1973</td>\n",
       "      <td>White</td>\n",
       "      <td>/home/mahdi/Projects/FairnessLens/FERET/colorf...</td>\n",
       "    </tr>\n",
       "    <tr>\n",
       "      <th>...</th>\n",
       "      <td>...</td>\n",
       "      <td>...</td>\n",
       "      <td>...</td>\n",
       "      <td>...</td>\n",
       "      <td>...</td>\n",
       "    </tr>\n",
       "    <tr>\n",
       "      <th>110</th>\n",
       "      <td>00147_931230_fa_converted_final.png</td>\n",
       "      <td>Female</td>\n",
       "      <td>1963</td>\n",
       "      <td>Asian</td>\n",
       "      <td>/home/mahdi/Projects/FairnessLens/FERET/colorf...</td>\n",
       "    </tr>\n",
       "    <tr>\n",
       "      <th>82</th>\n",
       "      <td>00118_931230_fa_a_converted_final.png</td>\n",
       "      <td>Male</td>\n",
       "      <td>1953</td>\n",
       "      <td>White</td>\n",
       "      <td>/home/mahdi/Projects/FairnessLens/FERET/colorf...</td>\n",
       "    </tr>\n",
       "    <tr>\n",
       "      <th>51</th>\n",
       "      <td>00086_931230_fa_converted_final.png</td>\n",
       "      <td>Male</td>\n",
       "      <td>1963</td>\n",
       "      <td>White</td>\n",
       "      <td>/home/mahdi/Projects/FairnessLens/FERET/colorf...</td>\n",
       "    </tr>\n",
       "    <tr>\n",
       "      <th>428</th>\n",
       "      <td>00480_940519_fa_converted_final.png</td>\n",
       "      <td>Female</td>\n",
       "      <td>1954</td>\n",
       "      <td>White</td>\n",
       "      <td>/home/mahdi/Projects/FairnessLens/FERET/colorf...</td>\n",
       "    </tr>\n",
       "    <tr>\n",
       "      <th>569</th>\n",
       "      <td>00623_940928_fa_converted_final.png</td>\n",
       "      <td>Male</td>\n",
       "      <td>1974</td>\n",
       "      <td>White</td>\n",
       "      <td>/home/mahdi/Projects/FairnessLens/FERET/colorf...</td>\n",
       "    </tr>\n",
       "  </tbody>\n",
       "</table>\n",
       "<p>136 rows × 5 columns</p>\n",
       "</div>"
      ],
      "text/plain": [
       "                                  filename  gender   yob   race  \\\n",
       "647    00707_941205_fa_converted_final.png    Male  1954  White   \n",
       "607    00663_941121_fa_converted_final.png  Female  1974  White   \n",
       "63   00099_931230_fa_a_converted_final.png    Male  1963  Asian   \n",
       "319    00364_940422_fa_converted_final.png    Male  1974  White   \n",
       "101    00138_931230_fa_converted_final.png    Male  1973  White   \n",
       "..                                     ...     ...   ...    ...   \n",
       "110    00147_931230_fa_converted_final.png  Female  1963  Asian   \n",
       "82   00118_931230_fa_a_converted_final.png    Male  1953  White   \n",
       "51     00086_931230_fa_converted_final.png    Male  1963  White   \n",
       "428    00480_940519_fa_converted_final.png  Female  1954  White   \n",
       "569    00623_940928_fa_converted_final.png    Male  1974  White   \n",
       "\n",
       "                                            image_path  \n",
       "647  /home/mahdi/Projects/FairnessLens/FERET/colorf...  \n",
       "607  /home/mahdi/Projects/FairnessLens/FERET/colorf...  \n",
       "63   /home/mahdi/Projects/FairnessLens/FERET/colorf...  \n",
       "319  /home/mahdi/Projects/FairnessLens/FERET/colorf...  \n",
       "101  /home/mahdi/Projects/FairnessLens/FERET/colorf...  \n",
       "..                                                 ...  \n",
       "110  /home/mahdi/Projects/FairnessLens/FERET/colorf...  \n",
       "82   /home/mahdi/Projects/FairnessLens/FERET/colorf...  \n",
       "51   /home/mahdi/Projects/FairnessLens/FERET/colorf...  \n",
       "428  /home/mahdi/Projects/FairnessLens/FERET/colorf...  \n",
       "569  /home/mahdi/Projects/FairnessLens/FERET/colorf...  \n",
       "\n",
       "[136 rows x 5 columns]"
      ]
     },
     "execution_count": 26,
     "metadata": {},
     "output_type": "execute_result"
    }
   ],
   "source": [
    "test_df"
   ]
  },
  {
   "cell_type": "code",
   "execution_count": null,
   "id": "4678338e-0115-4114-af2b-330714763943",
   "metadata": {},
   "outputs": [],
   "source": []
  }
 ],
 "metadata": {
  "kernelspec": {
   "display_name": "Python 3 (ipykernel)",
   "language": "python",
   "name": "python3"
  },
  "language_info": {
   "codemirror_mode": {
    "name": "ipython",
    "version": 3
   },
   "file_extension": ".py",
   "mimetype": "text/x-python",
   "name": "python",
   "nbconvert_exporter": "python",
   "pygments_lexer": "ipython3",
   "version": "3.10.13"
  }
 },
 "nbformat": 4,
 "nbformat_minor": 5
}
