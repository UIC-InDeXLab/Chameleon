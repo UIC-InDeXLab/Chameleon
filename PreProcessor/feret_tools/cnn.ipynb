{
 "cells": [
  {
   "cell_type": "code",
   "execution_count": 1,
   "id": "e1edf63d",
   "metadata": {
    "ExecuteTime": {
     "end_time": "2024-01-13T18:45:36.553260662Z",
     "start_time": "2024-01-13T18:45:36.354249321Z"
    }
   },
   "outputs": [
    {
     "name": "stderr",
     "output_type": "stream",
     "text": [
      "2024-01-25 21:06:27.051191: I tensorflow/core/platform/cpu_feature_guard.cc:182] This TensorFlow binary is optimized to use available CPU instructions in performance-critical operations.\n",
      "To enable the following instructions: AVX2 AVX512F FMA, in other operations, rebuild TensorFlow with the appropriate compiler flags.\n",
      "2024-01-25 21:06:27.726756: W tensorflow/compiler/tf2tensorrt/utils/py_utils.cc:38] TF-TRT Warning: Could not find TensorRT\n"
     ]
    }
   ],
   "source": [
    "import pandas as pd\n",
    "import cv2\n",
    "import numpy as np\n",
    "from sklearn.model_selection import train_test_split\n",
    "import matplotlib.pyplot as plt\n",
    "import os \n",
    "import tensorflow as tf\n",
    "import random\n",
    "import keras\n",
    "from keras import layers\n",
    "from sklearn.model_selection import train_test_split\n",
    "from tensorflow.keras.callbacks import EarlyStopping"
   ]
  },
  {
   "cell_type": "code",
   "execution_count": 2,
   "id": "1dd68aa5",
   "metadata": {
    "ExecuteTime": {
     "end_time": "2024-01-13T18:45:38.861097906Z",
     "start_time": "2024-01-13T18:45:38.840973422Z"
    }
   },
   "outputs": [],
   "source": [
    "train_csv_filename = '../merged_feret_train.csv' \n",
    "test_csv_filename = '../merged_feret_test.csv'\n",
    "train_df = pd.read_csv(train_csv_filename)\n",
    "test_df = pd.read_csv(test_csv_filename)"
   ]
  },
  {
   "cell_type": "code",
   "execution_count": 3,
   "id": "bc24e50f",
   "metadata": {
    "ExecuteTime": {
     "end_time": "2024-01-13T18:45:39.451608808Z",
     "start_time": "2024-01-13T18:45:39.443174560Z"
    }
   },
   "outputs": [],
   "source": [
    "train_df = train_df.sample(frac = 1)\n",
    "test_df = test_df.sample(frac = 1)"
   ]
  },
  {
   "cell_type": "code",
   "execution_count": 5,
   "id": "8224e50c",
   "metadata": {
    "ExecuteTime": {
     "end_time": "2024-01-13T18:45:40.478949250Z",
     "start_time": "2024-01-13T18:45:40.466194421Z"
    }
   },
   "outputs": [],
   "source": [
    "generated_df = pd.read_csv(\"../feret_generated.csv\")\n",
    "train_df = pd.concat([train_df, generated_df], ignore_index=True)"
   ]
  },
  {
   "cell_type": "code",
   "execution_count": 5,
   "id": "d3859e7e",
   "metadata": {
    "ExecuteTime": {
     "end_time": "2024-01-13T18:45:40.998183231Z",
     "start_time": "2024-01-13T18:45:40.982158705Z"
    }
   },
   "outputs": [],
   "source": [
    "root_path = \"../colored/\"\n",
    "generation_path = \"../accepted/\"\n",
    "train_df['image_path'] = train_df['filename'].apply(lambda x: os.path.join(root_path if \"final\" in x else generation_path, x))\n",
    "test_df['image_path'] = test_df['filename'].apply(lambda x: os.path.join(root_path, x))"
   ]
  },
  {
   "cell_type": "code",
   "execution_count": 6,
   "id": "4c370910-583d-4914-af73-72f531ce65ec",
   "metadata": {},
   "outputs": [],
   "source": [
    "race_four_test = test_df[test_df['race'] == 4]\n",
    "race_three_test = test_df[test_df['race'] == 3]\n",
    "race_two_test = test_df[test_df['race'] == 2]\n",
    "race_one_test = test_df[test_df['race'] == 1]\n",
    "race_zero_test = test_df[test_df['race'] == 0]\n",
    "\n",
    "chosen_race = test_df"
   ]
  },
  {
   "cell_type": "code",
   "execution_count": 8,
   "id": "dc3fb791",
   "metadata": {
    "ExecuteTime": {
     "end_time": "2024-01-13T18:45:41.411571801Z",
     "start_time": "2024-01-13T18:45:41.400879425Z"
    }
   },
   "outputs": [],
   "source": [
    "train_image_paths = train_df['image_path'].tolist()\n",
    "test_image_paths = chosen_race['image_path'].tolist()"
   ]
  },
  {
   "cell_type": "code",
   "execution_count": 10,
   "id": "d7fd1f6d",
   "metadata": {
    "ExecuteTime": {
     "end_time": "2024-01-13T18:45:41.873848529Z",
     "start_time": "2024-01-13T18:45:41.869415976Z"
    }
   },
   "outputs": [],
   "source": [
    "# Read and resize images\n",
    "def preprocess_image(file_path, target_size=(512, 768)):\n",
    "    img = cv2.imread(file_path) \n",
    "    img = cv2.resize(img, (512,512))\n",
    "    x, y = 85, 0\n",
    "    crop_img = img[y:y+512, x:x+342]\n",
    "    resized_img = cv2.resize(crop_img, target_size)\n",
    "    final_img = resized_img.astype(\"float\") / 255.0  # Normalize pixel values\n",
    "    # cv2.imshow(\"test\", resized_img)\n",
    "    # cv2.waitKey(0)\n",
    "    return final_img"
   ]
  },
  {
   "cell_type": "code",
   "execution_count": 11,
   "id": "088f404f",
   "metadata": {
    "ExecuteTime": {
     "end_time": "2024-01-13T18:45:50.810891980Z",
     "start_time": "2024-01-13T18:45:42.431807524Z"
    }
   },
   "outputs": [],
   "source": [
    "# Apply preprocessing to the entire dataset\n",
    "X_train = [preprocess_image(file_path) for file_path in train_image_paths]\n",
    "X_test = [preprocess_image(file_path) for file_path in test_image_paths]\n",
    "\n",
    "X_train = np.array(X_train)\n",
    "X_test = np.array(X_test)"
   ]
  },
  {
   "cell_type": "code",
   "execution_count": 12,
   "id": "dd8cec66",
   "metadata": {
    "ExecuteTime": {
     "start_time": "2024-01-13T18:45:50.812277839Z"
    }
   },
   "outputs": [
    {
     "data": {
      "text/plain": [
       "(38, 768, 512, 3)"
      ]
     },
     "execution_count": 12,
     "metadata": {},
     "output_type": "execute_result"
    }
   ],
   "source": [
    "X_test.shape"
   ]
  },
  {
   "cell_type": "code",
   "execution_count": 13,
   "id": "6d3fb03b",
   "metadata": {
    "ExecuteTime": {
     "end_time": "2024-01-13T18:45:50.818315320Z",
     "start_time": "2024-01-13T18:45:50.816808491Z"
    }
   },
   "outputs": [],
   "source": [
    "train_gender_labels = train_df['gender'].tolist()\n",
    "test_gender_labels = test_df['gender'].tolist()\n",
    "train_race_labels = train_df['race'].tolist()\n",
    "test_race_labels = chosen_race['race'].tolist()"
   ]
  },
  {
   "cell_type": "code",
   "execution_count": 14,
   "id": "ab0f5052",
   "metadata": {
    "ExecuteTime": {
     "end_time": "2024-01-13T18:45:50.835873913Z",
     "start_time": "2024-01-13T18:45:50.821176787Z"
    }
   },
   "outputs": [],
   "source": [
    "from sklearn.preprocessing import LabelEncoder\n",
    "\n",
    "# Create label encoders for gender and race\n",
    "gender_encoder = LabelEncoder()\n",
    "race_encoder = LabelEncoder()\n",
    "\n",
    "# Apply label encoding to gender\n",
    "y_train_gender_encoded = gender_encoder.fit_transform(train_gender_labels)\n",
    "y_test_gender_encoded = gender_encoder.transform(test_gender_labels)\n",
    "\n",
    "# Apply label encoding to race\n",
    "y_train_race_encoded = race_encoder.fit_transform(train_race_labels)\n",
    "y_test_race_encoded = race_encoder.transform(test_race_labels)\n"
   ]
  },
  {
   "cell_type": "code",
   "execution_count": 16,
   "id": "78e576c4",
   "metadata": {
    "ExecuteTime": {
     "end_time": "2023-12-28T04:24:53.790199512Z",
     "start_time": "2023-12-28T04:24:53.532834384Z"
    }
   },
   "outputs": [
    {
     "name": "stderr",
     "output_type": "stream",
     "text": [
      "2024-01-25 17:27:43.222524: W tensorflow/core/common_runtime/gpu/gpu_device.cc:1960] Cannot dlopen some GPU libraries. Please make sure the missing libraries mentioned above are installed properly if you would like to use GPU. Follow the guide at https://www.tensorflow.org/install/gpu for how to download and setup the required libraries for your platform.\n",
      "Skipping registering GPU devices...\n"
     ]
    }
   ],
   "source": [
    "input_shape = (768,512, 3)\n",
    "num_classes_race = 5 \n",
    "\n",
    "# race_model = Sequential()\n",
    "# race_model.add(Conv2D(32, (3, 3), activation='relu', input_shape=input_shape))\n",
    "# race_model.add(MaxPooling2D((2, 2)))\n",
    "# race_model.add(Flatten())\n",
    "# race_model.add(Dense(128, activation='relu'))\n",
    "# race_model.add(Dense(num_classes_race, activation='softmax'))\n",
    "\n",
    "\n",
    "\n",
    "input_layer = keras.Input(shape=input_shape, name=\"Input image\")\n",
    "x = layers.Conv2D(16, 3, activation=\"relu\")(input_layer)\n",
    "x = layers.Conv2D(32, 3, activation=\"relu\")(x)\n",
    "x = layers.MaxPooling2D(3)(x)\n",
    "x = layers.Conv2D(64, 3, activation=\"relu\")(x)\n",
    "x = layers.Conv2D(64, 3, activation=\"relu\")(x)\n",
    "x = layers.Flatten()(x)\n",
    "x = layers.Dense(128, activation='relu')(x)\n",
    "x = layers.Dense(32, activation='relu')(x)\n",
    "\n",
    "out_a = keras.layers.Dense(1, activation='sigmoid', name='g_clf')(x)\n",
    "out_b = keras.layers.Dense(1, activation='linear', name='a_reg')(x)\n",
    " \n",
    "model = keras.Model( inputs = input_layer, outputs = [out_a, out_b], name=\"age_gender_model\")\n",
    "\n",
    "race_model.compile(optimizer='adam', loss='sparse_categorical_crossentropy', metrics=['accuracy'])"
   ]
  },
  {
   "cell_type": "code",
   "execution_count": 17,
   "id": "5510a049",
   "metadata": {
    "ExecuteTime": {
     "end_time": "2023-12-28T04:32:45.222262449Z",
     "start_time": "2023-12-28T04:25:00.855870436Z"
    }
   },
   "outputs": [
    {
     "name": "stdout",
     "output_type": "stream",
     "text": [
      "Epoch 1/5\n"
     ]
    },
    {
     "name": "stderr",
     "output_type": "stream",
     "text": [
      "2024-01-25 17:27:56.474483: W tensorflow/tsl/framework/cpu_allocator_impl.cc:83] Allocation of 4303355904 exceeds 10% of free system memory.\n"
     ]
    },
    {
     "name": "stdout",
     "output_type": "stream",
     "text": [
      "57/57 [==============================] - 100s 2s/step - loss: 60.4733 - accuracy: 0.5110 - val_loss: 4.0435 - val_accuracy: 0.0000e+00\n",
      "Epoch 2/5\n",
      "57/57 [==============================] - 100s 2s/step - loss: 0.9631 - accuracy: 0.6886 - val_loss: 4.4184 - val_accuracy: 0.0789\n",
      "Epoch 3/5\n",
      "57/57 [==============================] - 99s 2s/step - loss: 0.5835 - accuracy: 0.8015 - val_loss: 6.9892 - val_accuracy: 0.0789\n",
      "Epoch 4/5\n",
      "57/57 [==============================] - 100s 2s/step - loss: 0.3076 - accuracy: 0.9035 - val_loss: 5.6808 - val_accuracy: 0.1053\n",
      "Epoch 5/5\n",
      "57/57 [==============================] - 99s 2s/step - loss: 0.1191 - accuracy: 0.9770 - val_loss: 9.4427 - val_accuracy: 0.0526\n"
     ]
    },
    {
     "data": {
      "text/plain": [
       "<keras.src.callbacks.History at 0x7fbdc030d130>"
      ]
     },
     "execution_count": 17,
     "metadata": {},
     "output_type": "execute_result"
    }
   ],
   "source": [
    "race_model.fit(X_train, y_train_race_encoded, epochs=5, batch_size=16, validation_data=(X_test, y_test_race_encoded))"
   ]
  },
  {
   "cell_type": "code",
   "execution_count": 18,
   "id": "dc4d7691",
   "metadata": {
    "ExecuteTime": {
     "end_time": "2023-12-28T04:32:52.210265751Z",
     "start_time": "2023-12-28T04:32:51.125694937Z"
    }
   },
   "outputs": [
    {
     "name": "stdout",
     "output_type": "stream",
     "text": [
      "2/2 [==============================] - 1s 127ms/step - loss: 9.4427 - accuracy: 0.0526\n",
      "Test Accuracy: 0.05263157933950424\n"
     ]
    }
   ],
   "source": [
    "loss, accuracy = race_model.evaluate(X_test, y_test_race_encoded)\n",
    "print(f\"Test Accuracy: {accuracy}\")"
   ]
  },
  {
   "cell_type": "code",
   "execution_count": null,
   "id": "226076da",
   "metadata": {},
   "outputs": [],
   "source": [
    "from keras.layers import Input, Dense, BatchNormalization, Conv2D, MaxPool2D, MaxPooling2D, GlobalMaxPool2D, Dropout, Flatten\n",
    "from keras.optimizers import SGD\n",
    "from keras.models import Model\n",
    "from keras.regularizers import l2\n",
    "from keras.layers import Activation\n",
    "\n",
    "input = Input(shape = (100,100,1))\n",
    "conv1 = Conv2D(32,(3, 3), padding = 'same', strides=(1, 1), kernel_regularizer=l2(0.001))(input)\n",
    "conv1 = Dropout(0.1)(conv1)\n",
    "conv1 = Activation('relu')(conv1)\n",
    "pool1 = MaxPooling2D(pool_size = (2,2)) (conv1)\n",
    "conv2 = Conv2D(64,(3, 3), padding = 'same', strides=(1, 1), kernel_regularizer=l2(0.001))(pool1)\n",
    "conv2 = Dropout(0.1)(conv2)\n",
    "conv2 = Activation('relu')(conv2)\n",
    "pool2 = MaxPooling2D(pool_size = (2,2)) (conv2)\n",
    "conv3 = Conv2D(128,(3, 3), padding = 'same', strides=(1, 1), kernel_regularizer=l2(0.001))(pool2)\n",
    "conv3 = Dropout(0.1)(conv3)\n",
    "conv3 = Activation('relu')(conv3)\n",
    "pool3 = MaxPooling2D(pool_size = (2,2)) (conv3)\n",
    "conv4 = Conv2D(256,(3, 3), padding = 'same', strides=(1, 1), kernel_regularizer=l2(0.001))(pool3)\n",
    "conv4 = Dropout(0.1)(conv4)\n",
    "conv4 = Activation('relu')(conv4)\n",
    "pool4 = MaxPooling2D(pool_size = (2,2)) (conv4)\n",
    "flatten = Flatten()(pool4)\n",
    "dense_1 = Dense(128,activation='relu')(flatten)\n",
    "drop_1 = Dropout(0.2)(dense_1)\n",
    "\n",
    "# for race prediction\n",
    "_ = Dense(units=512, activation='relu')(bottleneck)\n",
    "race_output = Dense(units=len(RACE_ID_MAP), activation='softmax', name='race_output')(_)\n",
    "\n",
    "# Model compile\n",
    "model = Model(inputs=input,outputs=output)\n",
    "model.compile(optimizer=\"adam\",loss=[\"sparse_categorical_crossentropy\"],metrics=['accuracy'])\n",
    "\n",
    "model_path='./output/gender_model.h5'\n",
    "checkpointer = ModelCheckpoint(model_path, monitor='loss',verbose=1,save_best_only=True,\n",
    "                               save_weights_only=False, mode='auto',save_freq='epoch')\n",
    "callback_list=[checkpointer]"
   ]
  }
 ],
 "metadata": {
  "kernelspec": {
   "display_name": "Python 3 (ipykernel)",
   "language": "python",
   "name": "python3"
  },
  "language_info": {
   "codemirror_mode": {
    "name": "ipython",
    "version": 3
   },
   "file_extension": ".py",
   "mimetype": "text/x-python",
   "name": "python",
   "nbconvert_exporter": "python",
   "pygments_lexer": "ipython3",
   "version": "3.8.0"
  }
 },
 "nbformat": 4,
 "nbformat_minor": 5
}
