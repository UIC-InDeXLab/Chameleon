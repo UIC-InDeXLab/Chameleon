{
 "cells": [
  {
   "cell_type": "code",
   "execution_count": 7,
   "metadata": {},
   "outputs": [],
   "source": [
    "import pandas as pd\n",
    "import numpy as np\n",
    "from sklearn.model_selection import train_test_split\n",
    "from sklearn.metrics import accuracy_score, precision_score\n",
    "from tensorflow.keras.models import Sequential\n",
    "from tensorflow.keras.layers import Dense, Flatten\n",
    "from deepface import DeepFace"
   ]
  },
  {
   "cell_type": "code",
   "execution_count": 8,
   "metadata": {},
   "outputs": [],
   "source": [
    "def load_and_preprocess_images(image_paths):\n",
    "    preprocessed_images = []\n",
    "    for image_path in image_paths:\n",
    "        img = DeepFace.detectFace(image_path, enforce_detection=False)\n",
    "        preprocessed_images.append(img)\n",
    "    return np.array(preprocessed_images)"
   ]
  },
  {
   "cell_type": "code",
   "execution_count": 9,
   "metadata": {},
   "outputs": [
    {
     "ename": "KeyError",
     "evalue": "'image_path'",
     "output_type": "error",
     "traceback": [
      "\u001b[0;31m---------------------------------------------------------------------------\u001b[0m",
      "\u001b[0;31mKeyError\u001b[0m                                  Traceback (most recent call last)",
      "File \u001b[0;32m~/FairnessLens/PreProcessor/venv/lib/python3.8/site-packages/pandas/core/indexes/base.py:3653\u001b[0m, in \u001b[0;36mIndex.get_loc\u001b[0;34m(self, key)\u001b[0m\n\u001b[1;32m   3652\u001b[0m \u001b[38;5;28;01mtry\u001b[39;00m:\n\u001b[0;32m-> 3653\u001b[0m     \u001b[38;5;28;01mreturn\u001b[39;00m \u001b[38;5;28;43mself\u001b[39;49m\u001b[38;5;241;43m.\u001b[39;49m\u001b[43m_engine\u001b[49m\u001b[38;5;241;43m.\u001b[39;49m\u001b[43mget_loc\u001b[49m\u001b[43m(\u001b[49m\u001b[43mcasted_key\u001b[49m\u001b[43m)\u001b[49m\n\u001b[1;32m   3654\u001b[0m \u001b[38;5;28;01mexcept\u001b[39;00m \u001b[38;5;167;01mKeyError\u001b[39;00m \u001b[38;5;28;01mas\u001b[39;00m err:\n",
      "File \u001b[0;32m~/FairnessLens/PreProcessor/venv/lib/python3.8/site-packages/pandas/_libs/index.pyx:147\u001b[0m, in \u001b[0;36mpandas._libs.index.IndexEngine.get_loc\u001b[0;34m()\u001b[0m\n",
      "File \u001b[0;32m~/FairnessLens/PreProcessor/venv/lib/python3.8/site-packages/pandas/_libs/index.pyx:176\u001b[0m, in \u001b[0;36mpandas._libs.index.IndexEngine.get_loc\u001b[0;34m()\u001b[0m\n",
      "File \u001b[0;32mpandas/_libs/hashtable_class_helper.pxi:7080\u001b[0m, in \u001b[0;36mpandas._libs.hashtable.PyObjectHashTable.get_item\u001b[0;34m()\u001b[0m\n",
      "File \u001b[0;32mpandas/_libs/hashtable_class_helper.pxi:7088\u001b[0m, in \u001b[0;36mpandas._libs.hashtable.PyObjectHashTable.get_item\u001b[0;34m()\u001b[0m\n",
      "\u001b[0;31mKeyError\u001b[0m: 'image_path'",
      "\nThe above exception was the direct cause of the following exception:\n",
      "\u001b[0;31mKeyError\u001b[0m                                  Traceback (most recent call last)",
      "Cell \u001b[0;32mIn[9], line 10\u001b[0m\n\u001b[1;32m      6\u001b[0m train_df, test_df \u001b[38;5;241m=\u001b[39m train_test_split(df, test_size\u001b[38;5;241m=\u001b[39m\u001b[38;5;241m0.2\u001b[39m, random_state\u001b[38;5;241m=\u001b[39m\u001b[38;5;241m42\u001b[39m)\n\u001b[1;32m      9\u001b[0m \u001b[38;5;66;03m# Preprocess training and testing images\u001b[39;00m\n\u001b[0;32m---> 10\u001b[0m X_train \u001b[38;5;241m=\u001b[39m load_and_preprocess_images(\u001b[43mtrain_df\u001b[49m\u001b[43m[\u001b[49m\u001b[38;5;124;43m'\u001b[39;49m\u001b[38;5;124;43mimage_path\u001b[39;49m\u001b[38;5;124;43m'\u001b[39;49m\u001b[43m]\u001b[49m\u001b[38;5;241m.\u001b[39mvalues)\n\u001b[1;32m     11\u001b[0m X_test \u001b[38;5;241m=\u001b[39m load_and_preprocess_images(test_df[\u001b[38;5;124m'\u001b[39m\u001b[38;5;124mimage_path\u001b[39m\u001b[38;5;124m'\u001b[39m]\u001b[38;5;241m.\u001b[39mvalues)\n\u001b[1;32m     13\u001b[0m \u001b[38;5;66;03m# Define the model architectures\u001b[39;00m\n\u001b[1;32m     14\u001b[0m \n\u001b[1;32m     15\u001b[0m \u001b[38;5;66;03m# DeepFace with OpenCV\u001b[39;00m\n",
      "File \u001b[0;32m~/FairnessLens/PreProcessor/venv/lib/python3.8/site-packages/pandas/core/frame.py:3761\u001b[0m, in \u001b[0;36mDataFrame.__getitem__\u001b[0;34m(self, key)\u001b[0m\n\u001b[1;32m   3759\u001b[0m \u001b[38;5;28;01mif\u001b[39;00m \u001b[38;5;28mself\u001b[39m\u001b[38;5;241m.\u001b[39mcolumns\u001b[38;5;241m.\u001b[39mnlevels \u001b[38;5;241m>\u001b[39m \u001b[38;5;241m1\u001b[39m:\n\u001b[1;32m   3760\u001b[0m     \u001b[38;5;28;01mreturn\u001b[39;00m \u001b[38;5;28mself\u001b[39m\u001b[38;5;241m.\u001b[39m_getitem_multilevel(key)\n\u001b[0;32m-> 3761\u001b[0m indexer \u001b[38;5;241m=\u001b[39m \u001b[38;5;28;43mself\u001b[39;49m\u001b[38;5;241;43m.\u001b[39;49m\u001b[43mcolumns\u001b[49m\u001b[38;5;241;43m.\u001b[39;49m\u001b[43mget_loc\u001b[49m\u001b[43m(\u001b[49m\u001b[43mkey\u001b[49m\u001b[43m)\u001b[49m\n\u001b[1;32m   3762\u001b[0m \u001b[38;5;28;01mif\u001b[39;00m is_integer(indexer):\n\u001b[1;32m   3763\u001b[0m     indexer \u001b[38;5;241m=\u001b[39m [indexer]\n",
      "File \u001b[0;32m~/FairnessLens/PreProcessor/venv/lib/python3.8/site-packages/pandas/core/indexes/base.py:3655\u001b[0m, in \u001b[0;36mIndex.get_loc\u001b[0;34m(self, key)\u001b[0m\n\u001b[1;32m   3653\u001b[0m     \u001b[38;5;28;01mreturn\u001b[39;00m \u001b[38;5;28mself\u001b[39m\u001b[38;5;241m.\u001b[39m_engine\u001b[38;5;241m.\u001b[39mget_loc(casted_key)\n\u001b[1;32m   3654\u001b[0m \u001b[38;5;28;01mexcept\u001b[39;00m \u001b[38;5;167;01mKeyError\u001b[39;00m \u001b[38;5;28;01mas\u001b[39;00m err:\n\u001b[0;32m-> 3655\u001b[0m     \u001b[38;5;28;01mraise\u001b[39;00m \u001b[38;5;167;01mKeyError\u001b[39;00m(key) \u001b[38;5;28;01mfrom\u001b[39;00m \u001b[38;5;21;01merr\u001b[39;00m\n\u001b[1;32m   3656\u001b[0m \u001b[38;5;28;01mexcept\u001b[39;00m \u001b[38;5;167;01mTypeError\u001b[39;00m:\n\u001b[1;32m   3657\u001b[0m     \u001b[38;5;66;03m# If we have a listlike key, _check_indexing_error will raise\u001b[39;00m\n\u001b[1;32m   3658\u001b[0m     \u001b[38;5;66;03m#  InvalidIndexError. Otherwise we fall through and re-raise\u001b[39;00m\n\u001b[1;32m   3659\u001b[0m     \u001b[38;5;66;03m#  the TypeError.\u001b[39;00m\n\u001b[1;32m   3660\u001b[0m     \u001b[38;5;28mself\u001b[39m\u001b[38;5;241m.\u001b[39m_check_indexing_error(key)\n",
      "\u001b[0;31mKeyError\u001b[0m: 'image_path'"
     ]
    }
   ],
   "source": [
    "\n",
    "# Load your dataset from the CSV file\n",
    "# Assume the CSV file has columns: \"image_path\", \"race\", \"gender\"\n",
    "df = pd.read_csv('merged_feret_original.csv')\n",
    "\n",
    "# Split the dataset into training and testing sets\n",
    "train_df, test_df = train_test_split(df, test_size=0.2, random_state=42)\n",
    "\n",
    "\n",
    "# Preprocess training and testing images\n",
    "X_train = load_and_preprocess_images(train_df['image_path'].values)\n",
    "X_test = load_and_preprocess_images(test_df['filename'].values)\n",
    "\n",
    "# Define the model architectures\n",
    "\n",
    "# DeepFace with OpenCV\n",
    "model_deepface_opencv = DeepFace.build_model('opencv')\n",
    "\n",
    "# DeepFace with RetinaFace\n",
    "model_deepface_retinaface = DeepFace.build_model('retinaface')\n",
    "\n",
    "# BaseCNN model\n",
    "model_base_cnn = Sequential([\n",
    "    Flatten(input_shape=(224, 224, 3)),\n",
    "    Dense(128, activation='relu'),\n",
    "    Dense(1, activation='sigmoid')\n",
    "])\n",
    "\n",
    "# Compile the models\n",
    "model_deepface_opencv.compile(optimizer='adam', loss='binary_crossentropy', metrics=['accuracy'])\n",
    "model_deepface_retinaface.compile(optimizer='adam', loss='binary_crossentropy', metrics=['accuracy'])\n",
    "model_base_cnn.compile(optimizer='adam', loss='binary_crossentropy', metrics=['accuracy'])\n",
    "\n",
    "# Train the models\n",
    "model_deepface_opencv.fit(X_train, train_df['gender'].values, epochs=10, batch_size=32, verbose=1)\n",
    "model_deepface_retinaface.fit(X_train, train_df['gender'].values, epochs=10, batch_size=32, verbose=1)\n",
    "model_base_cnn.fit(X_train, train_df['gender'].values, epochs=10, batch_size=32, verbose=1)\n",
    "\n",
    "# Evaluate the models on the test set\n",
    "y_pred_deepface_opencv = model_deepface_opencv.predict(X_test)\n",
    "y_pred_deepface_retinaface = model_deepface_retinaface.predict(X_test)\n",
    "y_pred_base_cnn = model_base_cnn.predict(X_test)\n",
    "\n",
    "# Convert probabilities to binary predictions\n",
    "y_pred_deepface_opencv = (y_pred_deepface_opencv > 0.5).astype(int)\n",
    "y_pred_deepface_retinaface = (y_pred_deepface_retinaface > 0.5).astype(int)\n",
    "y_pred_base_cnn = (y_pred_base_cnn > 0.5).astype(int)\n",
    "\n",
    "# Calculate accuracy and precision for the \"Female\" group\n",
    "accuracy_deepface_opencv = accuracy_score(test_df['gender'].values, y_pred_deepface_opencv)\n",
    "precision_deepface_opencv = precision_score(test_df['gender'].values, y_pred_deepface_opencv)\n",
    "\n",
    "accuracy_deepface_retinaface = accuracy_score(test_df['gender'].values, y_pred_deepface_retinaface)\n",
    "precision_deepface_retinaface = precision_score(test_df['gender'].values, y_pred_deepface_retinaface)\n",
    "\n",
    "accuracy_base_cnn = accuracy_score(test_df['gender'].values, y_pred_base_cnn)\n",
    "precision_base_cnn = precision_score(test_df['gender'].values, y_pred_base_cnn)\n",
    "\n",
    "# Print results\n",
    "print(f\"DeepFace (OpenCV) - Accuracy: {accuracy_deepface_opencv}, Precision: {precision_deepface_opencv}\")\n",
    "print(f\"DeepFace (RetinaFace) - Accuracy: {accuracy_deepface_retinaface}, Precision: {precision_deepface_retinaface}\")\n",
    "print(f\"BaseCNN - Accuracy: {accuracy_base_cnn}, Precision: {precision_base_cnn}\")\n"
   ]
  },
  {
   "cell_type": "code",
   "execution_count": null,
   "metadata": {},
   "outputs": [],
   "source": []
  }
 ],
 "metadata": {
  "kernelspec": {
   "display_name": "Python 3 (ipykernel)",
   "language": "python",
   "name": "python3"
  },
  "language_info": {
   "codemirror_mode": {
    "name": "ipython",
    "version": 3
   },
   "file_extension": ".py",
   "mimetype": "text/x-python",
   "name": "python",
   "nbconvert_exporter": "python",
   "pygments_lexer": "ipython3",
   "version": "3.8.0"
  }
 },
 "nbformat": 4,
 "nbformat_minor": 4
}
