{
 "cells": [
  {
   "cell_type": "code",
   "execution_count": 6,
   "id": "initial_id",
   "metadata": {
    "collapsed": true,
    "ExecuteTime": {
     "end_time": "2024-01-26T18:25:57.579841586Z",
     "start_time": "2024-01-26T18:25:57.576178536Z"
    }
   },
   "outputs": [],
   "source": [
    "import pandas as pd\n",
    "import numpy as np\n",
    "import seaborn as sns"
   ]
  },
  {
   "cell_type": "code",
   "execution_count": 10,
   "outputs": [],
   "source": [
    "csv_filename = 'feret_generated_final.csv' \n",
    "df = pd.read_csv(csv_filename)"
   ],
   "metadata": {
    "collapsed": false,
    "ExecuteTime": {
     "end_time": "2024-01-26T18:28:23.301220836Z",
     "start_time": "2024-01-26T18:28:23.260878298Z"
    }
   },
   "id": "7d50354d83d712d"
  },
  {
   "cell_type": "code",
   "execution_count": 11,
   "outputs": [
    {
     "data": {
      "text/plain": "                       filename  gender  race  is_generated\n0  1_4_20240125135432972113.png       1     4          True\n1  1_4_20240125135457902968.png       1     4          True\n2  1_4_20240125135518872306.png       1     4          True\n3  1_4_20240125135627845807.png       1     4          True\n4  1_4_20240125135906820732.png       1     4          True",
      "text/html": "<div>\n<style scoped>\n    .dataframe tbody tr th:only-of-type {\n        vertical-align: middle;\n    }\n\n    .dataframe tbody tr th {\n        vertical-align: top;\n    }\n\n    .dataframe thead th {\n        text-align: right;\n    }\n</style>\n<table border=\"1\" class=\"dataframe\">\n  <thead>\n    <tr style=\"text-align: right;\">\n      <th></th>\n      <th>filename</th>\n      <th>gender</th>\n      <th>race</th>\n      <th>is_generated</th>\n    </tr>\n  </thead>\n  <tbody>\n    <tr>\n      <th>0</th>\n      <td>1_4_20240125135432972113.png</td>\n      <td>1</td>\n      <td>4</td>\n      <td>True</td>\n    </tr>\n    <tr>\n      <th>1</th>\n      <td>1_4_20240125135457902968.png</td>\n      <td>1</td>\n      <td>4</td>\n      <td>True</td>\n    </tr>\n    <tr>\n      <th>2</th>\n      <td>1_4_20240125135518872306.png</td>\n      <td>1</td>\n      <td>4</td>\n      <td>True</td>\n    </tr>\n    <tr>\n      <th>3</th>\n      <td>1_4_20240125135627845807.png</td>\n      <td>1</td>\n      <td>4</td>\n      <td>True</td>\n    </tr>\n    <tr>\n      <th>4</th>\n      <td>1_4_20240125135906820732.png</td>\n      <td>1</td>\n      <td>4</td>\n      <td>True</td>\n    </tr>\n  </tbody>\n</table>\n</div>"
     },
     "execution_count": 11,
     "metadata": {},
     "output_type": "execute_result"
    }
   ],
   "source": [
    "df.head()"
   ],
   "metadata": {
    "collapsed": false,
    "ExecuteTime": {
     "end_time": "2024-01-26T18:28:23.774155082Z",
     "start_time": "2024-01-26T18:28:23.769604206Z"
    }
   },
   "id": "3a718061e276f1ea"
  },
  {
   "cell_type": "code",
   "execution_count": 12,
   "outputs": [
    {
     "name": "stdout",
     "output_type": "stream",
     "text": [
      "Number of races: 3\n",
      "Race distribution:\n",
      "race\n",
      "3    66\n",
      "1    65\n",
      "4    58\n",
      "Name: count, dtype: int64\n"
     ]
    }
   ],
   "source": [
    "race_counts = df['race'].value_counts()\n",
    "print(\"Number of races:\", len(race_counts))\n",
    "print(\"Race distribution:\")\n",
    "print(race_counts)"
   ],
   "metadata": {
    "collapsed": false,
    "ExecuteTime": {
     "end_time": "2024-01-26T18:28:25.786430190Z",
     "start_time": "2024-01-26T18:28:25.781547259Z"
    }
   },
   "id": "df01e1a2903ca48f"
  },
  {
   "cell_type": "code",
   "execution_count": 6,
   "outputs": [
    {
     "name": "stdout",
     "output_type": "stream",
     "text": [
      "\n",
      "YOB distribution:\n",
      "yob\n",
      "1974    376\n",
      "1964    132\n",
      "1954     96\n",
      "1963     71\n",
      "1966     48\n",
      "1973     46\n",
      "1944     44\n",
      "1956     35\n",
      "1946     26\n",
      "1953     23\n",
      "1976     18\n",
      "1984     16\n",
      "1934     12\n",
      "1936      7\n",
      "1943      4\n",
      "1933      3\n",
      "1924      2\n",
      "1983      1\n",
      "1986      1\n",
      "Name: count, dtype: int64\n"
     ]
    }
   ],
   "source": [
    "yob_distribution = df['yob'].value_counts()\n",
    "print(\"\\nYOB distribution:\")\n",
    "print(yob_distribution)"
   ],
   "metadata": {
    "collapsed": false,
    "ExecuteTime": {
     "end_time": "2024-01-24T21:12:35.006865710Z",
     "start_time": "2024-01-24T21:12:34.966210063Z"
    }
   },
   "id": "42c8a701b46d7431"
  },
  {
   "cell_type": "code",
   "execution_count": 7,
   "outputs": [
    {
     "name": "stdout",
     "output_type": "stream",
     "text": [
      "\n",
      "Min YOB: 1924\n",
      "Max YOB: 1986\n"
     ]
    }
   ],
   "source": [
    "min_yob = df['yob'].min()\n",
    "max_yob = df['yob'].max()\n",
    "print(\"\\nMin YOB:\", min_yob)\n",
    "print(\"Max YOB:\", max_yob)"
   ],
   "metadata": {
    "collapsed": false,
    "ExecuteTime": {
     "end_time": "2024-01-24T21:12:45.760719353Z",
     "start_time": "2024-01-24T21:12:45.719118399Z"
    }
   },
   "id": "214ca7bd12532330"
  },
  {
   "cell_type": "code",
   "execution_count": 8,
   "outputs": [
    {
     "data": {
      "text/plain": "<Figure size 640x480 with 1 Axes>",
      "image/png": "[encoded data removed]"
     },
     "metadata": {},
     "output_type": "display_data"
    }
   ],
   "source": [
    "sns.barplot(yob_distribution);"
   ],
   "metadata": {
    "collapsed": false,
    "ExecuteTime": {
     "end_time": "2024-01-24T21:12:47.332431870Z",
     "start_time": "2024-01-24T21:12:47.028970795Z"
    }
   },
   "id": "9f4579210e1b1559"
  },
  {
   "cell_type": "code",
   "execution_count": 9,
   "outputs": [
    {
     "name": "stdout",
     "output_type": "stream",
     "text": [
      "Gender distribution:\n",
      "gender\n",
      "Male      566\n",
      "Female    395\n",
      "Name: count, dtype: int64\n"
     ]
    }
   ],
   "source": [
    "gender_count = df['gender'].value_counts()\n",
    "print(\"Gender distribution:\")\n",
    "print(gender_count)"
   ],
   "metadata": {
    "collapsed": false,
    "ExecuteTime": {
     "end_time": "2024-01-24T21:12:52.950274629Z",
     "start_time": "2024-01-24T21:12:52.946817121Z"
    }
   },
   "id": "20050e90f68d7f52"
  },
  {
   "cell_type": "code",
   "execution_count": null,
   "outputs": [],
   "source": [],
   "metadata": {
    "collapsed": false
   },
   "id": "4abd470509f8a50a"
  }
 ],
 "metadata": {
  "kernelspec": {
   "display_name": "Python 3",
   "language": "python",
   "name": "python3"
  },
  "language_info": {
   "codemirror_mode": {
    "name": "ipython",
    "version": 2
   },
   "file_extension": ".py",
   "mimetype": "text/x-python",
   "name": "python",
   "nbconvert_exporter": "python",
   "pygments_lexer": "ipython2",
   "version": "2.7.6"
  }
 },
 "nbformat": 4,
 "nbformat_minor": 5
}
