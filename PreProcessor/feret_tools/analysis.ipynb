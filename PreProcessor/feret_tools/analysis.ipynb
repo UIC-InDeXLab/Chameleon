{
 "cells": [
  {
   "cell_type": "code",
   "execution_count": 10,
   "id": "initial_id",
   "metadata": {
    "collapsed": true,
    "ExecuteTime": {
     "end_time": "2023-12-23T20:08:01.910205155Z",
     "start_time": "2023-12-23T20:08:01.289969466Z"
    }
   },
   "outputs": [],
   "source": [
    "import pandas as pd\n",
    "import numpy as np\n",
    "import seaborn as sns"
   ]
  },
  {
   "cell_type": "code",
   "execution_count": 4,
   "outputs": [],
   "source": [
    "csv_filename = 'output.csv' \n",
    "df = pd.read_csv(csv_filename)"
   ],
   "metadata": {
    "collapsed": false,
    "ExecuteTime": {
     "end_time": "2023-12-23T20:05:53.236622878Z",
     "start_time": "2023-12-23T20:05:53.195431291Z"
    }
   },
   "id": "7d50354d83d712d"
  },
  {
   "cell_type": "code",
   "execution_count": 5,
   "outputs": [
    {
     "data": {
      "text/plain": "                              filename  gender   yob  \\\n0  00002_940928_fa_converted_final.png    Male  1963   \n1  00003_941121_fa_converted_final.png    Male  1963   \n2  00006_931230_fa_converted_final.png    Male  1943   \n3  00013_931230_fa_converted_final.png  Female  1963   \n4  00019_940422_fa_converted_final.png    Male  1953   \n\n                        race  \n0                      White  \n1  Black-or-African-American  \n2                      White  \n3                      White  \n4                      White  ",
      "text/html": "<div>\n<style scoped>\n    .dataframe tbody tr th:only-of-type {\n        vertical-align: middle;\n    }\n\n    .dataframe tbody tr th {\n        vertical-align: top;\n    }\n\n    .dataframe thead th {\n        text-align: right;\n    }\n</style>\n<table border=\"1\" class=\"dataframe\">\n  <thead>\n    <tr style=\"text-align: right;\">\n      <th></th>\n      <th>filename</th>\n      <th>gender</th>\n      <th>yob</th>\n      <th>race</th>\n    </tr>\n  </thead>\n  <tbody>\n    <tr>\n      <th>0</th>\n      <td>00002_940928_fa_converted_final.png</td>\n      <td>Male</td>\n      <td>1963</td>\n      <td>White</td>\n    </tr>\n    <tr>\n      <th>1</th>\n      <td>00003_941121_fa_converted_final.png</td>\n      <td>Male</td>\n      <td>1963</td>\n      <td>Black-or-African-American</td>\n    </tr>\n    <tr>\n      <th>2</th>\n      <td>00006_931230_fa_converted_final.png</td>\n      <td>Male</td>\n      <td>1943</td>\n      <td>White</td>\n    </tr>\n    <tr>\n      <th>3</th>\n      <td>00013_931230_fa_converted_final.png</td>\n      <td>Female</td>\n      <td>1963</td>\n      <td>White</td>\n    </tr>\n    <tr>\n      <th>4</th>\n      <td>00019_940422_fa_converted_final.png</td>\n      <td>Male</td>\n      <td>1953</td>\n      <td>White</td>\n    </tr>\n  </tbody>\n</table>\n</div>"
     },
     "execution_count": 5,
     "metadata": {},
     "output_type": "execute_result"
    }
   ],
   "source": [
    "df.head()"
   ],
   "metadata": {
    "collapsed": false,
    "ExecuteTime": {
     "end_time": "2023-12-23T20:05:59.903944888Z",
     "start_time": "2023-12-23T20:05:59.856446848Z"
    }
   },
   "id": "3a718061e276f1ea"
  },
  {
   "cell_type": "code",
   "execution_count": 6,
   "outputs": [
    {
     "name": "stdout",
     "output_type": "stream",
     "text": [
      "Number of races: 8\n",
      "Race distribution:\n",
      "race\n",
      "White                        406\n",
      "Asian                        135\n",
      "Black-or-African-American     57\n",
      "Hispanic                      47\n",
      "Asian-Middle-Eastern          35\n",
      "Pacific-Islander               8\n",
      "Other                          2\n",
      "Native-American                2\n",
      "Name: count, dtype: int64\n"
     ]
    }
   ],
   "source": [
    "race_counts = df['race'].value_counts()\n",
    "print(\"Number of races:\", len(race_counts))\n",
    "print(\"Race distribution:\")\n",
    "print(race_counts)"
   ],
   "metadata": {
    "collapsed": false,
    "ExecuteTime": {
     "end_time": "2023-12-23T20:06:10.305700920Z",
     "start_time": "2023-12-23T20:06:10.299401034Z"
    }
   },
   "id": "df01e1a2903ca48f"
  },
  {
   "cell_type": "code",
   "execution_count": 8,
   "outputs": [
    {
     "name": "stdout",
     "output_type": "stream",
     "text": [
      "\n",
      "YOB distribution:\n",
      "yob\n",
      "1974    322\n",
      "1964     94\n",
      "1963     71\n",
      "1954     70\n",
      "1973     46\n",
      "1944     32\n",
      "1953     23\n",
      "1984     16\n",
      "1934      8\n",
      "1943      4\n",
      "1933      3\n",
      "1924      2\n",
      "1983      1\n",
      "Name: count, dtype: int64\n"
     ]
    }
   ],
   "source": [
    "yob_distribution = df['yob'].value_counts()\n",
    "print(\"\\nYOB distribution:\")\n",
    "print(yob_distribution)"
   ],
   "metadata": {
    "collapsed": false,
    "ExecuteTime": {
     "end_time": "2023-12-23T20:07:00.556490147Z",
     "start_time": "2023-12-23T20:07:00.514934788Z"
    }
   },
   "id": "42c8a701b46d7431"
  },
  {
   "cell_type": "code",
   "execution_count": 9,
   "outputs": [
    {
     "name": "stdout",
     "output_type": "stream",
     "text": [
      "\n",
      "Min YOB: 1924\n",
      "Max YOB: 1984\n"
     ]
    }
   ],
   "source": [
    "min_yob = df['yob'].min()\n",
    "max_yob = df['yob'].max()\n",
    "print(\"\\nMin YOB:\", min_yob)\n",
    "print(\"Max YOB:\", max_yob)"
   ],
   "metadata": {
    "collapsed": false,
    "ExecuteTime": {
     "end_time": "2023-12-23T20:07:13.257282423Z",
     "start_time": "2023-12-23T20:07:13.248492809Z"
    }
   },
   "id": "214ca7bd12532330"
  },
  {
   "cell_type": "code",
   "execution_count": 12,
   "outputs": [
    {
     "data": {
      "text/plain": "<Figure size 640x480 with 1 Axes>",
      "image/png": "[encoded data removed]"
     },
     "metadata": {},
     "output_type": "display_data"
    }
   ],
   "source": [
    "sns.barplot(yob_distribution);"
   ],
   "metadata": {
    "collapsed": false,
    "ExecuteTime": {
     "end_time": "2023-12-23T20:08:30.462076457Z",
     "start_time": "2023-12-23T20:08:30.313815621Z"
    }
   },
   "id": "9f4579210e1b1559"
  },
  {
   "cell_type": "code",
   "execution_count": 13,
   "outputs": [
    {
     "name": "stdout",
     "output_type": "stream",
     "text": [
      "Gender distribution:\n",
      "gender\n",
      "Male      376\n",
      "Female    316\n",
      "Name: count, dtype: int64\n"
     ]
    }
   ],
   "source": [
    "gender_count = df['gender'].value_counts()\n",
    "print(\"Gender distribution:\")\n",
    "print(gender_count)"
   ],
   "metadata": {
    "collapsed": false,
    "ExecuteTime": {
     "end_time": "2023-12-23T20:15:15.360314235Z",
     "start_time": "2023-12-23T20:15:15.319528942Z"
    }
   },
   "id": "20050e90f68d7f52"
  },
  {
   "cell_type": "code",
   "execution_count": null,
   "outputs": [],
   "source": [],
   "metadata": {
    "collapsed": false
   },
   "id": "4abd470509f8a50a"
  }
 ],
 "metadata": {
  "kernelspec": {
   "display_name": "Python 3",
   "language": "python",
   "name": "python3"
  },
  "language_info": {
   "codemirror_mode": {
    "name": "ipython",
    "version": 2
   },
   "file_extension": ".py",
   "mimetype": "text/x-python",
   "name": "python",
   "nbconvert_exporter": "python",
   "pygments_lexer": "ipython2",
   "version": "2.7.6"
  }
 },
 "nbformat": 4,
 "nbformat_minor": 5
}
