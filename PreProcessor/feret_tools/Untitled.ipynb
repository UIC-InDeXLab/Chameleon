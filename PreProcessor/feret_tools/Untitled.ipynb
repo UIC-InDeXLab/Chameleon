{
 "cells": [
  {
   "cell_type": "code",
   "execution_count": 10,
   "id": "678e47d9-f0ee-4085-9519-5b8cda1d44b1",
   "metadata": {},
   "outputs": [],
   "source": [
    "import pandas as pd\n",
    "import numpy as np\n",
    "from sklearn.model_selection import train_test_split\n",
    "from sklearn.metrics import accuracy_score, precision_score\n",
    "from tensorflow.keras.models import Sequential\n",
    "from tensorflow.keras.layers import Dense, Flatten\n",
    "from deepface import DeepFace\n",
    "\n",
    "import os"
   ]
  },
  {
   "cell_type": "code",
   "execution_count": 11,
   "id": "30f94d0f-0d7e-486d-82ce-0dfd2fa0b1f6",
   "metadata": {},
   "outputs": [],
   "source": [
    "df = pd.read_csv('merged_feret_original.csv')"
   ]
  },
  {
   "cell_type": "code",
   "execution_count": 12,
   "id": "bc865b37-f8c5-4ad6-9ac0-a4182df86560",
   "metadata": {},
   "outputs": [],
   "source": [
    "train_df, test_df = train_test_split(df, test_size=0.2, random_state=65)"
   ]
  },
  {
   "cell_type": "code",
   "execution_count": 13,
   "id": "df5d701d-f053-462f-a0c8-720508d9ab36",
   "metadata": {},
   "outputs": [
    {
     "data": {
      "text/html": [
       "<div>\n",
       "<style scoped>\n",
       "    .dataframe tbody tr th:only-of-type {\n",
       "        vertical-align: middle;\n",
       "    }\n",
       "\n",
       "    .dataframe tbody tr th {\n",
       "        vertical-align: top;\n",
       "    }\n",
       "\n",
       "    .dataframe thead th {\n",
       "        text-align: right;\n",
       "    }\n",
       "</style>\n",
       "<table border=\"1\" class=\"dataframe\">\n",
       "  <thead>\n",
       "    <tr style=\"text-align: right;\">\n",
       "      <th></th>\n",
       "      <th>filename</th>\n",
       "      <th>gender</th>\n",
       "      <th>race</th>\n",
       "      <th>is_generated</th>\n",
       "    </tr>\n",
       "  </thead>\n",
       "  <tbody>\n",
       "    <tr>\n",
       "      <th>507</th>\n",
       "      <td>00559_940519_fa_converted_final.png</td>\n",
       "      <td>1</td>\n",
       "      <td>0</td>\n",
       "      <td>False</td>\n",
       "    </tr>\n",
       "    <tr>\n",
       "      <th>565</th>\n",
       "      <td>00618_940928_fa_converted_final.png</td>\n",
       "      <td>0</td>\n",
       "      <td>4</td>\n",
       "      <td>False</td>\n",
       "    </tr>\n",
       "    <tr>\n",
       "      <th>55</th>\n",
       "      <td>00090_931230_fa_converted_final.png</td>\n",
       "      <td>1</td>\n",
       "      <td>0</td>\n",
       "      <td>False</td>\n",
       "    </tr>\n",
       "    <tr>\n",
       "      <th>546</th>\n",
       "      <td>00599_940928_fa_converted_final.png</td>\n",
       "      <td>1</td>\n",
       "      <td>2</td>\n",
       "      <td>False</td>\n",
       "    </tr>\n",
       "    <tr>\n",
       "      <th>104</th>\n",
       "      <td>00141_931230_fa_converted_final.png</td>\n",
       "      <td>1</td>\n",
       "      <td>2</td>\n",
       "      <td>False</td>\n",
       "    </tr>\n",
       "    <tr>\n",
       "      <th>...</th>\n",
       "      <td>...</td>\n",
       "      <td>...</td>\n",
       "      <td>...</td>\n",
       "      <td>...</td>\n",
       "    </tr>\n",
       "    <tr>\n",
       "      <th>725</th>\n",
       "      <td>00787_941205_fa_converted_final.png</td>\n",
       "      <td>1</td>\n",
       "      <td>2</td>\n",
       "      <td>False</td>\n",
       "    </tr>\n",
       "    <tr>\n",
       "      <th>296</th>\n",
       "      <td>00341_940422_fa_converted_final.png</td>\n",
       "      <td>0</td>\n",
       "      <td>0</td>\n",
       "      <td>False</td>\n",
       "    </tr>\n",
       "    <tr>\n",
       "      <th>575</th>\n",
       "      <td>00629_940928_fa_converted_final.png</td>\n",
       "      <td>0</td>\n",
       "      <td>2</td>\n",
       "      <td>False</td>\n",
       "    </tr>\n",
       "    <tr>\n",
       "      <th>117</th>\n",
       "      <td>00156_931230_fa_a_converted_final.png</td>\n",
       "      <td>0</td>\n",
       "      <td>2</td>\n",
       "      <td>False</td>\n",
       "    </tr>\n",
       "    <tr>\n",
       "      <th>814</th>\n",
       "      <td>00879_960530_fa_converted_final.png</td>\n",
       "      <td>0</td>\n",
       "      <td>0</td>\n",
       "      <td>False</td>\n",
       "    </tr>\n",
       "  </tbody>\n",
       "</table>\n",
       "<p>756 rows × 4 columns</p>\n",
       "</div>"
      ],
      "text/plain": [
       "                                  filename  gender  race  is_generated\n",
       "507    00559_940519_fa_converted_final.png       1     0         False\n",
       "565    00618_940928_fa_converted_final.png       0     4         False\n",
       "55     00090_931230_fa_converted_final.png       1     0         False\n",
       "546    00599_940928_fa_converted_final.png       1     2         False\n",
       "104    00141_931230_fa_converted_final.png       1     2         False\n",
       "..                                     ...     ...   ...           ...\n",
       "725    00787_941205_fa_converted_final.png       1     2         False\n",
       "296    00341_940422_fa_converted_final.png       0     0         False\n",
       "575    00629_940928_fa_converted_final.png       0     2         False\n",
       "117  00156_931230_fa_a_converted_final.png       0     2         False\n",
       "814    00879_960530_fa_converted_final.png       0     0         False\n",
       "\n",
       "[756 rows x 4 columns]"
      ]
     },
     "execution_count": 13,
     "metadata": {},
     "output_type": "execute_result"
    }
   ],
   "source": [
    "train_df"
   ]
  },
  {
   "cell_type": "code",
   "execution_count": 14,
   "id": "4946d81c-459a-411e-ad9f-eaf949e4a37c",
   "metadata": {},
   "outputs": [],
   "source": [
    "root_path = \"../colored/\"\n",
    "generation_path = \"../accepted/\"\n",
    "train_df['image_path'] = train_df['filename'].apply(lambda x: os.path.join(root_path if \"final\" in x else generation_path, x))\n",
    "test_df['image_path'] = test_df['filename'].apply(lambda x: os.path.join(root_path, x))"
   ]
  },
  {
   "cell_type": "code",
   "execution_count": 19,
   "id": "665dba22-5954-43bc-b069-d48bdc868c03",
   "metadata": {},
   "outputs": [
    {
     "data": {
      "text/plain": [
       "'../colored/00559_940519_fa_converted_final.png'"
      ]
     },
     "execution_count": 19,
     "metadata": {},
     "output_type": "execute_result"
    }
   ],
   "source": [
    "train_df.iloc[0].image_path"
   ]
  },
  {
   "cell_type": "code",
   "execution_count": 20,
   "id": "4d55bebd-436f-479f-88bb-4722bf026113",
   "metadata": {},
   "outputs": [
    {
     "name": "stderr",
     "output_type": "stream",
     "text": [
      "Action: gender:   0%|                                   | 0/2 [00:00<?, ?it/s]2024-01-25 15:58:08.972312: W tensorflow/core/common_runtime/gpu/gpu_device.cc:1960] Cannot dlopen some GPU libraries. Please make sure the missing libraries mentioned above are installed properly if you would like to use GPU. Follow the guide at https://www.tensorflow.org/install/gpu for how to download and setup the required libraries for your platform.\n",
      "Skipping registering GPU devices...\n"
     ]
    },
    {
     "name": "stdout",
     "output_type": "stream",
     "text": [
      "24-01-25 15:58:09 - gender_model_weights.h5 will be downloaded...\n"
     ]
    },
    {
     "name": "stderr",
     "output_type": "stream",
     "text": [
      "Downloading...\n",
      "From: https://github.com/serengil/deepface_models/releases/download/v1.0/gender_model_weights.h5\n",
      "To: /home/mahdi/.deepface/weights/gender_model_weights.h5\n",
      "\n",
      "  0%|                                              | 0.00/537M [00:00<?, ?B/s]\u001b[A\n",
      "  1%|▌                                    | 7.34M/537M [00:00<00:07, 72.8MB/s]\u001b[A\n",
      "  3%|█▏                                   | 17.3M/537M [00:00<00:05, 87.5MB/s]\u001b[A\n",
      "  5%|█▊                                   | 26.2M/537M [00:00<00:06, 84.6MB/s]\u001b[A\n",
      "  7%|██▍                                  | 35.1M/537M [00:00<00:06, 78.3MB/s]\u001b[A\n",
      "  8%|███                                  | 44.6M/537M [00:00<00:06, 82.1MB/s]\u001b[A\n",
      " 10%|███▋                                 | 53.0M/537M [00:00<00:05, 81.0MB/s]\u001b[A\n",
      " 11%|████▏                                | 61.3M/537M [00:00<00:05, 80.4MB/s]\u001b[A\n",
      " 13%|████▉                                | 70.8M/537M [00:00<00:05, 81.3MB/s]\u001b[A\n",
      " 15%|█████▍                               | 79.2M/537M [00:00<00:05, 78.6MB/s]\u001b[A\n",
      " 16%|██████                               | 88.6M/537M [00:01<00:05, 82.7MB/s]\u001b[A\n",
      " 18%|██████▊                              | 98.6M/537M [00:01<00:05, 86.1MB/s]\u001b[A\n",
      " 20%|███████▌                              | 107M/537M [00:01<00:05, 85.7MB/s]\u001b[A\n",
      " 22%|████████▎                             | 117M/537M [00:01<00:04, 88.0MB/s]\u001b[A\n",
      " 24%|████████▉                             | 127M/537M [00:01<00:04, 91.2MB/s]\u001b[A\n",
      " 25%|█████████▋                            | 136M/537M [00:01<00:04, 88.9MB/s]\u001b[A\n",
      " 27%|██████████▎                           | 146M/537M [00:01<00:04, 90.2MB/s]\u001b[A\n",
      " 29%|██████████▉                           | 155M/537M [00:01<00:04, 90.0MB/s]\u001b[A\n",
      " 31%|███████████▋                          | 165M/537M [00:01<00:04, 90.9MB/s]\u001b[A\n",
      " 33%|████████████▍                         | 175M/537M [00:02<00:03, 94.2MB/s]\u001b[A\n",
      " 34%|█████████████                         | 185M/537M [00:02<00:03, 91.1MB/s]\u001b[A\n",
      " 36%|█████████████▊                        | 195M/537M [00:02<00:03, 92.3MB/s]\u001b[A\n",
      " 38%|██████████████▍                       | 204M/537M [00:02<00:03, 94.1MB/s]\u001b[A\n",
      " 40%|███████████████▏                      | 214M/537M [00:02<00:03, 90.1MB/s]\u001b[A\n",
      " 42%|███████████████▊                      | 223M/537M [00:02<00:03, 91.0MB/s]\u001b[A\n",
      " 43%|████████████████▍                     | 233M/537M [00:02<00:03, 88.6MB/s]\u001b[A\n",
      " 45%|█████████████████                     | 242M/537M [00:02<00:03, 88.5MB/s]\u001b[A\n",
      " 47%|█████████████████▋                    | 251M/537M [00:02<00:03, 85.3MB/s]\u001b[A\n",
      " 48%|██████████████████▎                   | 260M/537M [00:02<00:03, 85.5MB/s]\u001b[A\n",
      " 50%|███████████████████                   | 269M/537M [00:03<00:03, 86.8MB/s]\u001b[A\n",
      " 52%|███████████████████▋                  | 278M/537M [00:03<00:03, 84.3MB/s]\u001b[A\n",
      " 53%|████████████████████▎                 | 287M/537M [00:03<00:02, 85.6MB/s]\u001b[A\n",
      " 55%|████████████████████▉                 | 296M/537M [00:03<00:02, 87.7MB/s]\u001b[A\n",
      " 57%|█████████████████████▌                | 305M/537M [00:03<00:02, 86.0MB/s]\u001b[A\n",
      " 58%|██████████████████████▏               | 314M/537M [00:03<00:02, 84.4MB/s]\u001b[A\n",
      " 60%|██████████████████████▊               | 323M/537M [00:03<00:02, 83.3MB/s]\u001b[A\n",
      " 62%|███████████████████████▍              | 332M/537M [00:03<00:02, 84.7MB/s]\u001b[A\n",
      " 64%|████████████████████████▏             | 341M/537M [00:03<00:02, 87.3MB/s]\u001b[A\n",
      " 65%|████████████████████████▊             | 350M/537M [00:04<00:02, 87.3MB/s]\u001b[A\n",
      " 67%|█████████████████████████▍            | 360M/537M [00:04<00:02, 88.0MB/s]\u001b[A\n",
      " 69%|██████████████████████████▏           | 370M/537M [00:04<00:01, 90.6MB/s]\u001b[A\n",
      " 71%|██████████████████████████▊           | 379M/537M [00:04<00:01, 89.0MB/s]\u001b[A\n",
      " 72%|███████████████████████████▍          | 388M/537M [00:04<00:01, 88.8MB/s]\u001b[A\n",
      " 74%|████████████████████████████▏         | 398M/537M [00:04<00:01, 88.8MB/s]\u001b[A\n",
      " 76%|████████████████████████████▊         | 407M/537M [00:04<00:01, 87.9MB/s]\u001b[A\n",
      " 77%|█████████████████████████████▍        | 416M/537M [00:04<00:01, 87.6MB/s]\u001b[A\n",
      " 79%|██████████████████████████████        | 425M/537M [00:04<00:01, 84.0MB/s]\u001b[A\n",
      " 81%|██████████████████████████████▋       | 434M/537M [00:05<00:01, 85.7MB/s]\u001b[A\n",
      " 83%|███████████████████████████████▍      | 444M/537M [00:05<00:01, 89.2MB/s]\u001b[A\n",
      " 84%|████████████████████████████████      | 454M/537M [00:05<00:00, 86.9MB/s]\u001b[A\n",
      " 86%|████████████████████████████████▊     | 463M/537M [00:05<00:00, 87.8MB/s]\u001b[A\n",
      " 88%|█████████████████████████████████▍    | 472M/537M [00:05<00:00, 86.7MB/s]\u001b[A\n",
      " 90%|██████████████████████████████████    | 481M/537M [00:05<00:00, 85.6MB/s]\u001b[A\n",
      " 91%|██████████████████████████████████▋   | 490M/537M [00:05<00:00, 87.7MB/s]\u001b[A\n",
      " 93%|███████████████████████████████████▎  | 499M/537M [00:05<00:00, 85.1MB/s]\u001b[A\n",
      " 95%|███████████████████████████████████▉  | 508M/537M [00:05<00:00, 85.2MB/s]\u001b[A\n",
      " 96%|████████████████████████████████████▋ | 518M/537M [00:05<00:00, 88.4MB/s]\u001b[A\n",
      " 98%|█████████████████████████████████████▎| 527M/537M [00:06<00:00, 86.7MB/s]\u001b[A\n",
      "100%|██████████████████████████████████████| 537M/537M [00:06<00:00, 86.8MB/s]\u001b[A\n",
      "Action: race:  50%|██████████████▌              | 1/2 [00:07<00:07,  7.91s/it]"
     ]
    },
    {
     "name": "stdout",
     "output_type": "stream",
     "text": [
      "24-01-25 15:58:17 - race_model_single_batch.h5 will be downloaded...\n"
     ]
    },
    {
     "name": "stderr",
     "output_type": "stream",
     "text": [
      "Downloading...\n",
      "From: https://github.com/serengil/deepface_models/releases/download/v1.0/race_model_single_batch.h5\n",
      "To: /home/mahdi/.deepface/weights/race_model_single_batch.h5\n",
      "\n",
      "  0%|                                              | 0.00/537M [00:00<?, ?B/s]\u001b[A\n",
      "  1%|▌                                    | 7.86M/537M [00:00<00:06, 76.2MB/s]\u001b[A\n",
      "  3%|█▏                                   | 17.8M/537M [00:00<00:05, 86.6MB/s]\u001b[A\n",
      "  5%|█▊                                   | 26.7M/537M [00:00<00:06, 83.7MB/s]\u001b[A\n",
      "  7%|██▌                                  | 36.7M/537M [00:00<00:05, 87.9MB/s]\u001b[A\n",
      "  9%|███▏                                 | 46.7M/537M [00:00<00:05, 91.4MB/s]\u001b[A\n",
      " 10%|███▊                                 | 56.1M/537M [00:00<00:05, 89.9MB/s]\u001b[A\n",
      " 12%|████▌                                | 66.1M/537M [00:00<00:05, 92.6MB/s]\u001b[A\n",
      " 14%|█████▏                               | 75.5M/537M [00:00<00:04, 92.8MB/s]\u001b[A\n",
      " 16%|█████▊                               | 84.9M/537M [00:00<00:04, 92.4MB/s]\u001b[A\n",
      " 18%|██████▌                              | 95.4M/537M [00:01<00:04, 96.1MB/s]\u001b[A\n",
      " 20%|███████▍                              | 105M/537M [00:01<00:04, 93.7MB/s]\u001b[A\n",
      " 21%|████████                              | 115M/537M [00:01<00:04, 93.4MB/s]\u001b[A\n",
      " 23%|████████▊                             | 124M/537M [00:01<00:04, 91.0MB/s]\u001b[A\n",
      " 25%|█████████▍                            | 134M/537M [00:01<00:04, 86.3MB/s]\u001b[A\n",
      " 27%|██████████                            | 143M/537M [00:01<00:04, 84.9MB/s]\u001b[A\n",
      " 28%|██████████▊                           | 152M/537M [00:01<00:04, 82.8MB/s]\u001b[A\n",
      " 30%|███████████▍                          | 161M/537M [00:01<00:04, 84.4MB/s]\u001b[A\n",
      " 32%|████████████                          | 170M/537M [00:01<00:04, 82.9MB/s]\u001b[A\n",
      " 33%|████████████▌                         | 178M/537M [00:02<00:04, 76.5MB/s]\u001b[A\n",
      " 35%|█████████████▏                        | 186M/537M [00:02<00:04, 77.0MB/s]\u001b[A\n",
      " 36%|█████████████▊                        | 196M/537M [00:02<00:04, 81.7MB/s]\u001b[A\n",
      " 38%|██████████████▌                       | 205M/537M [00:02<00:03, 84.8MB/s]\u001b[A\n",
      " 40%|███████████████▏                      | 214M/537M [00:02<00:03, 87.5MB/s]\u001b[A\n",
      " 42%|███████████████▊                      | 223M/537M [00:02<00:03, 87.9MB/s]\u001b[A\n",
      " 43%|████████████████▍                     | 232M/537M [00:02<00:03, 87.5MB/s]\u001b[A\n",
      " 45%|█████████████████                     | 241M/537M [00:02<00:03, 85.7MB/s]\u001b[A\n",
      " 47%|█████████████████▋                    | 250M/537M [00:02<00:03, 83.7MB/s]\u001b[A\n",
      " 48%|██████████████████▎                   | 260M/537M [00:02<00:03, 85.7MB/s]\u001b[A\n",
      " 50%|███████████████████                   | 269M/537M [00:03<00:03, 88.7MB/s]\u001b[A\n",
      " 52%|███████████████████▋                  | 278M/537M [00:03<00:02, 87.3MB/s]\u001b[A\n",
      " 54%|████████████████████▎                 | 288M/537M [00:03<00:02, 88.4MB/s]\u001b[A\n",
      " 55%|████████████████████▉                 | 297M/537M [00:03<00:02, 82.8MB/s]\u001b[A\n",
      " 57%|█████████████████████▌                | 305M/537M [00:03<00:02, 79.1MB/s]\u001b[A\n",
      " 58%|██████████████████████▏               | 314M/537M [00:03<00:02, 80.8MB/s]\u001b[A\n",
      " 60%|██████████████████████▉               | 324M/537M [00:03<00:02, 85.0MB/s]\u001b[A\n",
      " 62%|███████████████████████▌              | 333M/537M [00:03<00:02, 84.1MB/s]\u001b[A\n",
      " 64%|████████████████████████▏             | 342M/537M [00:03<00:02, 85.4MB/s]\u001b[A\n",
      " 65%|████████████████████████▊             | 351M/537M [00:04<00:02, 85.4MB/s]\u001b[A\n",
      " 67%|█████████████████████████▍            | 360M/537M [00:04<00:02, 84.1MB/s]\u001b[A\n",
      " 69%|██████████████████████████            | 369M/537M [00:04<00:01, 86.4MB/s]\u001b[A\n",
      " 70%|██████████████████████████▋           | 378M/537M [00:04<00:01, 87.1MB/s]\u001b[A\n",
      " 72%|███████████████████████████▍          | 387M/537M [00:04<00:01, 88.0MB/s]\u001b[A\n",
      " 74%|████████████████████████████          | 396M/537M [00:04<00:01, 84.1MB/s]\u001b[A\n",
      " 75%|████████████████████████████▋         | 405M/537M [00:04<00:01, 84.8MB/s]\u001b[A\n",
      " 77%|█████████████████████████████▎        | 415M/537M [00:04<00:01, 87.7MB/s]\u001b[A\n",
      " 79%|██████████████████████████████        | 424M/537M [00:04<00:01, 87.3MB/s]\u001b[A\n",
      " 81%|██████████████████████████████▋       | 433M/537M [00:05<00:01, 87.0MB/s]\u001b[A\n",
      " 82%|███████████████████████████████▎      | 443M/537M [00:05<00:01, 89.8MB/s]\u001b[A\n",
      " 84%|████████████████████████████████      | 452M/537M [00:05<00:00, 88.3MB/s]\u001b[A\n",
      " 86%|████████████████████████████████▋     | 462M/537M [00:05<00:00, 88.9MB/s]\u001b[A\n",
      " 88%|█████████████████████████████████▍    | 472M/537M [00:05<00:00, 91.9MB/s]\u001b[A\n",
      " 90%|██████████████████████████████████    | 481M/537M [00:05<00:00, 86.9MB/s]\u001b[A\n",
      " 91%|██████████████████████████████████▋   | 491M/537M [00:05<00:00, 87.9MB/s]\u001b[A\n",
      " 93%|███████████████████████████████████▎  | 500M/537M [00:05<00:00, 87.4MB/s]\u001b[A\n",
      " 95%|███████████████████████████████████▉  | 509M/537M [00:05<00:00, 85.8MB/s]\u001b[A\n",
      " 96%|████████████████████████████████████▌ | 517M/537M [00:05<00:00, 86.5MB/s]\u001b[A\n",
      " 98%|█████████████████████████████████████▎| 527M/537M [00:06<00:00, 87.9MB/s]\u001b[A\n",
      "100%|██████████████████████████████████████| 537M/537M [00:06<00:00, 86.6MB/s]\u001b[A\n",
      "Action: race: 100%|█████████████████████████████| 2/2 [00:15<00:00,  7.80s/it]\n"
     ]
    }
   ],
   "source": [
    "analysis = DeepFace.analyze(img_path = train_df.iloc[0].image_path, actions = [\"gender\", \"race\"])"
   ]
  },
  {
   "cell_type": "code",
   "execution_count": 21,
   "id": "e4c9be1b-a7a1-4f6d-8479-843c223b439d",
   "metadata": {},
   "outputs": [
    {
     "data": {
      "text/plain": [
       "[{'gender': {'Woman': 99.33331608772278, 'Man': 0.6666811648756266},\n",
       "  'dominant_gender': 'Woman',\n",
       "  'region': {'x': 155, 'y': 114, 'w': 202, 'h': 202},\n",
       "  'face_confidence': 11.29396505112527,\n",
       "  'race': {'asian': 0.005726602103095502,\n",
       "   'indian': 0.07436384912580252,\n",
       "   'black': 0.0004913247266813414,\n",
       "   'white': 77.48618125915527,\n",
       "   'middle eastern': 13.480477035045624,\n",
       "   'latino hispanic': 8.952762186527252},\n",
       "  'dominant_race': 'white'}]"
      ]
     },
     "execution_count": 21,
     "metadata": {},
     "output_type": "execute_result"
    }
   ],
   "source": [
    "analysis"
   ]
  },
  {
   "cell_type": "code",
   "execution_count": null,
   "id": "1186c8bf-7dc4-4ce3-9e5a-475b65f42983",
   "metadata": {},
   "outputs": [],
   "source": []
  }
 ],
 "metadata": {
  "kernelspec": {
   "display_name": "Python 3 (ipykernel)",
   "language": "python",
   "name": "python3"
  },
  "language_info": {
   "codemirror_mode": {
    "name": "ipython",
    "version": 3
   },
   "file_extension": ".py",
   "mimetype": "text/x-python",
   "name": "python",
   "nbconvert_exporter": "python",
   "pygments_lexer": "ipython3",
   "version": "3.8.0"
  }
 },
 "nbformat": 4,
 "nbformat_minor": 5
}
