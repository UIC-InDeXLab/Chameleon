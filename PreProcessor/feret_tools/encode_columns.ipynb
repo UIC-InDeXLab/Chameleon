{
 "cells": [
  {
   "cell_type": "code",
   "execution_count": 1,
   "id": "initial_id",
   "metadata": {
    "collapsed": true,
    "ExecuteTime": {
     "end_time": "2023-12-28T01:46:43.791000927Z",
     "start_time": "2023-12-28T01:46:43.778195931Z"
    }
   },
   "outputs": [
    {
     "name": "stdout",
     "output_type": "stream",
     "text": [
      "Encoding complete. Results saved to encoded_final.csv\n"
     ]
    }
   ],
   "source": [
    "import pandas as pd\n",
    "\n",
    "# Read the original CSV file\n",
    "input_csv_file = 'final.csv'\n",
    "df = pd.read_csv(input_csv_file)\n",
    "\n",
    "# Define encoding dictionaries\n",
    "gender_encoding = {'Male': 0, 'Female': 1}\n",
    "race_encoding = {'White': 0, 'Black-or-African-American': 1, 'Asian': 2, 'Hispanic': 3, 'Asian-Middle-Eastern': 4}\n",
    "\n",
    "# Apply encoding to the respective columns\n",
    "df['gender'] = df['gender'].map(gender_encoding)\n",
    "df['race'] = df['race'].map(race_encoding)\n",
    "\n",
    "# Save the encoded DataFrame to a new CSV file\n",
    "output_csv_file = 'encoded_final.csv'\n",
    "df.to_csv(output_csv_file, index=False)\n",
    "\n",
    "print(f\"Encoding complete. Results saved to {output_csv_file}\")\n"
   ]
  },
  {
   "cell_type": "code",
   "execution_count": null,
   "outputs": [],
   "source": [],
   "metadata": {
    "collapsed": false
   },
   "id": "910bc9e398b366cf"
  }
 ],
 "metadata": {
  "kernelspec": {
   "display_name": "Python 3",
   "language": "python",
   "name": "python3"
  },
  "language_info": {
   "codemirror_mode": {
    "name": "ipython",
    "version": 2
   },
   "file_extension": ".py",
   "mimetype": "text/x-python",
   "name": "python",
   "nbconvert_exporter": "python",
   "pygments_lexer": "ipython2",
   "version": "2.7.6"
  }
 },
 "nbformat": 4,
 "nbformat_minor": 5
}
