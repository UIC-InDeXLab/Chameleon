{
 "cells": [
  {
   "cell_type": "code",
   "execution_count": 1,
   "metadata": {
    "collapsed": true,
    "ExecuteTime": {
     "end_time": "2023-08-01T22:01:27.366601687Z",
     "start_time": "2023-08-01T22:01:27.328838443Z"
    }
   },
   "outputs": [],
   "source": [
    "import os\n",
    "import json\n",
    "from tqdm import tqdm"
   ]
  },
  {
   "cell_type": "code",
   "execution_count": 2,
   "outputs": [],
   "source": [
    "RESOURCES_PATH=\"../resources/\""
   ],
   "metadata": {
    "collapsed": false,
    "ExecuteTime": {
     "end_time": "2023-08-01T22:01:29.090839788Z",
     "start_time": "2023-08-01T22:01:29.053642868Z"
    }
   }
  },
  {
   "cell_type": "code",
   "execution_count": 3,
   "outputs": [],
   "source": [
    "with open(\"config.json\", 'r+') as f:\n",
    "    age_groups = json.load(f)[\"age_groups\"]"
   ],
   "metadata": {
    "collapsed": false,
    "ExecuteTime": {
     "end_time": "2023-08-01T22:01:29.690006488Z",
     "start_time": "2023-08-01T22:01:29.680654932Z"
    }
   }
  },
  {
   "cell_type": "code",
   "execution_count": 4,
   "outputs": [],
   "source": [
    "def is_image(file):\n",
    "    return file.endswith(\".jpg\") or file.endswith(\".png\")"
   ],
   "metadata": {
    "collapsed": false,
    "ExecuteTime": {
     "end_time": "2023-08-01T22:01:31.191305114Z",
     "start_time": "2023-08-01T22:01:31.164982364Z"
    }
   }
  },
  {
   "cell_type": "code",
   "execution_count": 5,
   "outputs": [],
   "source": [
    "def get_new_name(name):\n",
    "    age, gender, race, time = name.split(\"_\")\n",
    "\n",
    "    for age_group in age_groups:\n",
    "        if age_group[\"start_age\"] <= int(age) < age_group[\"end_age\"]:\n",
    "            age = age_group[\"id\"]\n",
    "    return \"_\".join([str(age), gender, race, time])"
   ],
   "metadata": {
    "collapsed": false,
    "ExecuteTime": {
     "end_time": "2023-08-01T22:01:34.221696151Z",
     "start_time": "2023-08-01T22:01:34.190205907Z"
    }
   }
  },
  {
   "cell_type": "code",
   "execution_count": 9,
   "outputs": [],
   "source": [
    "def rename_files(directory):\n",
    "    for file in tqdm(os.listdir(directory)):\n",
    "        if is_image(file):\n",
    "            try:\n",
    "                os.rename(os.path.join(RESOURCES_PATH, file), os.path.join(RESOURCES_PATH, get_new_name(file)))\n",
    "\n",
    "            except Exception as e:\n",
    "                print(f\"error in rename file: {file}\")\n",
    "                continue\n"
   ],
   "metadata": {
    "collapsed": false,
    "ExecuteTime": {
     "end_time": "2023-08-01T22:03:09.612192568Z",
     "start_time": "2023-08-01T22:03:09.568324654Z"
    }
   }
  },
  {
   "cell_type": "code",
   "execution_count": 10,
   "outputs": [
    {
     "name": "stderr",
     "output_type": "stream",
     "text": [
      " 60%|█████▉    | 12254/20451 [00:00<00:00, 25127.40it/s]"
     ]
    },
    {
     "name": "stdout",
     "output_type": "stream",
     "text": [
      "error in rename file: 61_3_20170109150557335.png\n",
      "error in rename file: 61_1_20170109142408075.png\n",
      "error in rename file: 39_1_20170116174525125.png\n"
     ]
    },
    {
     "name": "stderr",
     "output_type": "stream",
     "text": [
      "100%|██████████| 20451/20451 [00:00<00:00, 21754.64it/s]\n"
     ]
    }
   ],
   "source": [
    "rename_files(RESOURCES_PATH)"
   ],
   "metadata": {
    "collapsed": false,
    "ExecuteTime": {
     "end_time": "2023-08-01T22:03:11.307689861Z",
     "start_time": "2023-08-01T22:03:10.290139676Z"
    }
   }
  },
  {
   "cell_type": "code",
   "execution_count": null,
   "outputs": [],
   "source": [],
   "metadata": {
    "collapsed": false
   }
  }
 ],
 "metadata": {
  "kernelspec": {
   "display_name": "Python 3",
   "language": "python",
   "name": "python3"
  },
  "language_info": {
   "codemirror_mode": {
    "name": "ipython",
    "version": 2
   },
   "file_extension": ".py",
   "mimetype": "text/x-python",
   "name": "python",
   "nbconvert_exporter": "python",
   "pygments_lexer": "ipython2",
   "version": "2.7.6"
  }
 },
 "nbformat": 4,
 "nbformat_minor": 0
}
