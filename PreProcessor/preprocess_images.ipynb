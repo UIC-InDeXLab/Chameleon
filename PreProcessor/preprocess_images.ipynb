{
 "cells": [
  {
   "cell_type": "code",
   "execution_count": 1,
   "metadata": {
    "collapsed": true,
    "ExecuteTime": {
     "end_time": "2023-07-20T21:35:41.056115039Z",
     "start_time": "2023-07-20T21:35:41.055729270Z"
    }
   },
   "outputs": [],
   "source": [
    "import os\n",
    "from PIL import Image"
   ]
  },
  {
   "cell_type": "code",
   "execution_count": 2,
   "outputs": [],
   "source": [
    "MIN_IMAGE_WIDTH=256\n",
    "MIN_IMAGE_HEIGHT=256\n",
    "MAX_IMAGE_WIDTH=1280\n",
    "MAX_IMAGE_HEIGHT=1280\n",
    "RESOURCES_PATH=\"../resources/part1/\""
   ],
   "metadata": {
    "collapsed": false,
    "ExecuteTime": {
     "end_time": "2023-07-20T21:35:41.864357567Z",
     "start_time": "2023-07-20T21:35:41.842638588Z"
    }
   }
  },
  {
   "cell_type": "code",
   "execution_count": 3,
   "outputs": [],
   "source": [
    "def is_image(file):\n",
    "    return file.endswith(\".jpg\") or file.endswith(\".png\")"
   ],
   "metadata": {
    "collapsed": false,
    "ExecuteTime": {
     "end_time": "2023-07-20T21:35:42.669351722Z",
     "start_time": "2023-07-20T21:35:42.652568418Z"
    }
   }
  },
  {
   "cell_type": "markdown",
   "source": [
    "## Remove unacceptable (small or very large) files"
   ],
   "metadata": {
    "collapsed": false
   }
  },
  {
   "cell_type": "code",
   "execution_count": 4,
   "outputs": [],
   "source": [
    "def check_image_size(image_path):\n",
    "    image = Image.open(image_path)\n",
    "    width, height = image.size\n",
    "    return width < MIN_IMAGE_WIDTH or height < MIN_IMAGE_HEIGHT \\\n",
    "        or width > MAX_IMAGE_WIDTH or height > MAX_IMAGE_HEIGHT"
   ],
   "metadata": {
    "collapsed": false,
    "ExecuteTime": {
     "end_time": "2023-07-20T21:35:43.692224771Z",
     "start_time": "2023-07-20T21:35:43.687899378Z"
    }
   }
  },
  {
   "cell_type": "code",
   "execution_count": 5,
   "outputs": [],
   "source": [
    "def remove_unacceptable_images(directory):\n",
    "    counter = 0\n",
    "    for file in os.listdir(directory):\n",
    "        if is_image(file):\n",
    "            image_path = os.path.join(directory, file)\n",
    "            if check_image_size(image_path):\n",
    "                counter = counter + 1\n",
    "                os.remove(image_path)\n",
    "    print(f\"{counter} files removed.\")"
   ],
   "metadata": {
    "collapsed": false,
    "ExecuteTime": {
     "end_time": "2023-07-20T21:35:44.260318542Z",
     "start_time": "2023-07-20T21:35:44.243343624Z"
    }
   }
  },
  {
   "cell_type": "code",
   "execution_count": 6,
   "outputs": [
    {
     "name": "stdout",
     "output_type": "stream",
     "text": [
      "0 files removed.\n"
     ]
    }
   ],
   "source": [
    "remove_unacceptable_images(RESOURCES_PATH)"
   ],
   "metadata": {
    "collapsed": false,
    "ExecuteTime": {
     "end_time": "2023-07-20T21:35:45.301126826Z",
     "start_time": "2023-07-20T21:35:44.720413945Z"
    }
   }
  },
  {
   "cell_type": "markdown",
   "source": [
    "## Resize images"
   ],
   "metadata": {
    "collapsed": false
   }
  },
  {
   "cell_type": "code",
   "execution_count": 7,
   "outputs": [],
   "source": [
    "def resize_image(image_path):\n",
    "    image = Image.open(image_path)\n",
    "    width, height = image.size\n",
    "    if min(width, height) < 512:\n",
    "        convert_size = 256\n",
    "    elif min(width, height) < 1024:\n",
    "        convert_size = 512\n",
    "    else:\n",
    "        convert_size = 1024\n",
    "\n",
    "    scale = convert_size / min(width, height)\n",
    "    image = image.resize((int(width * scale), int(height * scale)))\n",
    "\n",
    "    image.save(image_path)"
   ],
   "metadata": {
    "collapsed": false,
    "ExecuteTime": {
     "end_time": "2023-07-20T21:35:45.700123034Z",
     "start_time": "2023-07-20T21:35:45.673053443Z"
    }
   }
  },
  {
   "cell_type": "code",
   "execution_count": 8,
   "outputs": [],
   "source": [
    "def resize_dir_images(directory):\n",
    "    for file in os.listdir(directory):\n",
    "        if is_image(file):\n",
    "            try:\n",
    "                resize_image(os.path.join(directory, file))\n",
    "            except Exception as e:\n",
    "                print(f\"error in resize file: {file}\")\n",
    "                continue\n",
    "    print(\"all images resized.\")"
   ],
   "metadata": {
    "collapsed": false,
    "ExecuteTime": {
     "end_time": "2023-07-20T21:35:46.163783202Z",
     "start_time": "2023-07-20T21:35:46.155215245Z"
    }
   }
  },
  {
   "cell_type": "code",
   "execution_count": 9,
   "outputs": [
    {
     "name": "stdout",
     "output_type": "stream",
     "text": [
      "all images resized.\n"
     ]
    }
   ],
   "source": [
    "resize_dir_images(RESOURCES_PATH)"
   ],
   "metadata": {
    "collapsed": false,
    "ExecuteTime": {
     "end_time": "2023-07-20T21:35:56.948165080Z",
     "start_time": "2023-07-20T21:35:46.530008054Z"
    }
   }
  },
  {
   "cell_type": "markdown",
   "source": [
    "## Square crop images"
   ],
   "metadata": {
    "collapsed": false
   }
  },
  {
   "cell_type": "code",
   "execution_count": 10,
   "outputs": [],
   "source": [
    "def square_crop_image(image_path):\n",
    "    image = Image.open(image_path)\n",
    "    width, height = image.size\n",
    "    crop_size = min(width, height)\n",
    "    crop_x = int(width / 2 - crop_size / 2)\n",
    "    crop_y = int(height / 2 - crop_size / 2)\n",
    "    cropped_image = image.crop((crop_x, crop_y, crop_x + crop_size, crop_y + crop_size))\n",
    "    cropped_image.save(image_path)"
   ],
   "metadata": {
    "collapsed": false,
    "ExecuteTime": {
     "end_time": "2023-07-20T21:35:56.953961072Z",
     "start_time": "2023-07-20T21:35:56.951497529Z"
    }
   }
  },
  {
   "cell_type": "code",
   "execution_count": 11,
   "outputs": [],
   "source": [
    "def square_crop_dir_images(directory):\n",
    "    for file in os.listdir(directory):\n",
    "        if is_image(file):\n",
    "            try:\n",
    "                square_crop_image(os.path.join(directory, file))\n",
    "            except Exception as e:\n",
    "                print(f\"error in crop file: {file}\")\n",
    "                continue\n",
    "    print(\"all images square cropped.\")"
   ],
   "metadata": {
    "collapsed": false,
    "ExecuteTime": {
     "end_time": "2023-07-20T21:35:57.000797216Z",
     "start_time": "2023-07-20T21:35:56.955788438Z"
    }
   }
  },
  {
   "cell_type": "code",
   "execution_count": 12,
   "outputs": [
    {
     "name": "stdout",
     "output_type": "stream",
     "text": [
      "all images square cropped.\n"
     ]
    }
   ],
   "source": [
    "square_crop_dir_images(RESOURCES_PATH)"
   ],
   "metadata": {
    "collapsed": false,
    "ExecuteTime": {
     "end_time": "2023-07-20T21:36:08.796996224Z",
     "start_time": "2023-07-20T21:35:57.001217377Z"
    }
   }
  },
  {
   "cell_type": "code",
   "execution_count": null,
   "outputs": [],
   "source": [],
   "metadata": {
    "collapsed": false
   }
  }
 ],
 "metadata": {
  "kernelspec": {
   "display_name": "Python 3",
   "language": "python",
   "name": "python3"
  },
  "language_info": {
   "codemirror_mode": {
    "name": "ipython",
    "version": 2
   },
   "file_extension": ".py",
   "mimetype": "text/x-python",
   "name": "python",
   "nbconvert_exporter": "python",
   "pygments_lexer": "ipython2",
   "version": "2.7.6"
  }
 },
 "nbformat": 4,
 "nbformat_minor": 0
}
