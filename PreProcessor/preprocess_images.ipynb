{
 "cells": [
  {
   "cell_type": "code",
   "execution_count": 10,
   "metadata": {
    "collapsed": true,
    "ExecuteTime": {
     "end_time": "2023-07-31T01:20:56.104700666Z",
     "start_time": "2023-07-31T01:20:56.057423382Z"
    }
   },
   "outputs": [],
   "source": [
    "import os\n",
    "from PIL import Image\n",
    "from tqdm import tqdm"
   ]
  },
  {
   "cell_type": "code",
   "execution_count": 2,
   "outputs": [],
   "source": [
    "MIN_IMAGE_WIDTH=256\n",
    "MIN_IMAGE_HEIGHT=256\n",
    "MAX_IMAGE_WIDTH=1280\n",
    "MAX_IMAGE_HEIGHT=1280\n",
    "RESOURCES_PATH=\"../resources/\""
   ],
   "metadata": {
    "collapsed": false,
    "ExecuteTime": {
     "end_time": "2023-07-31T00:31:48.312623951Z",
     "start_time": "2023-07-31T00:31:48.294677741Z"
    }
   }
  },
  {
   "cell_type": "code",
   "execution_count": 3,
   "outputs": [],
   "source": [
    "def is_image(file):\n",
    "    return file.endswith(\".jpg\") or file.endswith(\".png\")"
   ],
   "metadata": {
    "collapsed": false,
    "ExecuteTime": {
     "end_time": "2023-07-31T00:31:50.482816962Z",
     "start_time": "2023-07-31T00:31:50.470789853Z"
    }
   }
  },
  {
   "cell_type": "markdown",
   "source": [
    "## Remove unacceptable (small or very large) files"
   ],
   "metadata": {
    "collapsed": false
   }
  },
  {
   "cell_type": "code",
   "execution_count": 4,
   "outputs": [],
   "source": [
    "def check_image_size(image_path):\n",
    "    image = Image.open(image_path)\n",
    "    width, height = image.size\n",
    "    return width < MIN_IMAGE_WIDTH or height < MIN_IMAGE_HEIGHT \\\n",
    "        or width > MAX_IMAGE_WIDTH or height > MAX_IMAGE_HEIGHT"
   ],
   "metadata": {
    "collapsed": false,
    "ExecuteTime": {
     "end_time": "2023-07-31T00:31:51.900160978Z",
     "start_time": "2023-07-31T00:31:51.892859256Z"
    }
   }
  },
  {
   "cell_type": "code",
   "execution_count": 5,
   "outputs": [],
   "source": [
    "def remove_unacceptable_images(directory):\n",
    "    counter = 0\n",
    "    for file in tqdm(os.listdir(directory)):\n",
    "        if is_image(file):\n",
    "            image_path = os.path.join(directory, file)\n",
    "            if check_image_size(image_path):\n",
    "                counter = counter + 1\n",
    "                os.remove(image_path)\n",
    "    print(f\"{counter} files removed.\")"
   ],
   "metadata": {
    "collapsed": false,
    "ExecuteTime": {
     "end_time": "2023-07-31T00:31:52.767407462Z",
     "start_time": "2023-07-31T00:31:52.757589476Z"
    }
   }
  },
  {
   "cell_type": "code",
   "execution_count": 6,
   "outputs": [
    {
     "name": "stdout",
     "output_type": "stream",
     "text": [
      "3655 files removed.\n"
     ]
    }
   ],
   "source": [
    "remove_unacceptable_images(RESOURCES_PATH)"
   ],
   "metadata": {
    "collapsed": false,
    "ExecuteTime": {
     "end_time": "2023-07-31T00:32:07.922456066Z",
     "start_time": "2023-07-31T00:31:53.350331362Z"
    }
   }
  },
  {
   "cell_type": "markdown",
   "source": [
    "## Resize images"
   ],
   "metadata": {
    "collapsed": false
   }
  },
  {
   "cell_type": "code",
   "execution_count": 7,
   "outputs": [],
   "source": [
    "def resize_image(image_path):\n",
    "    image = Image.open(image_path)\n",
    "    width, height = image.size\n",
    "    if min(width, height) < 512:\n",
    "        convert_size = 256\n",
    "    elif min(width, height) < 1024:\n",
    "        convert_size = 512\n",
    "    else:\n",
    "        convert_size = 1024\n",
    "\n",
    "    scale = convert_size / min(width, height)\n",
    "    image = image.resize((int(width * scale), int(height * scale)))\n",
    "\n",
    "    image.save(image_path)"
   ],
   "metadata": {
    "collapsed": false,
    "ExecuteTime": {
     "end_time": "2023-07-31T00:32:12.217977307Z",
     "start_time": "2023-07-31T00:32:12.199643355Z"
    }
   }
  },
  {
   "cell_type": "code",
   "execution_count": 8,
   "outputs": [],
   "source": [
    "def resize_dir_images(directory):\n",
    "    for file in tqdm(os.listdir(directory)):\n",
    "        if is_image(file):\n",
    "            try:\n",
    "                resize_image(os.path.join(directory, file))\n",
    "            except Exception as e:\n",
    "                print(f\"error in resize file: {file}\")\n",
    "                continue\n",
    "    print(\"all images resized.\")"
   ],
   "metadata": {
    "collapsed": false,
    "ExecuteTime": {
     "end_time": "2023-07-31T00:32:12.813685574Z",
     "start_time": "2023-07-31T00:32:12.796956058Z"
    }
   }
  },
  {
   "cell_type": "code",
   "execution_count": 9,
   "outputs": [
    {
     "name": "stdout",
     "output_type": "stream",
     "text": [
      "all images resized.\n"
     ]
    }
   ],
   "source": [
    "resize_dir_images(RESOURCES_PATH)"
   ],
   "metadata": {
    "collapsed": false,
    "ExecuteTime": {
     "end_time": "2023-07-31T01:20:51.399181335Z",
     "start_time": "2023-07-31T00:32:13.982141709Z"
    }
   }
  },
  {
   "cell_type": "markdown",
   "source": [
    "## Square crop images"
   ],
   "metadata": {
    "collapsed": false
   }
  },
  {
   "cell_type": "code",
   "execution_count": 11,
   "outputs": [],
   "source": [
    "def square_crop_image(image_path):\n",
    "    image = Image.open(image_path)\n",
    "    width, height = image.size\n",
    "    crop_size = min(width, height)\n",
    "    crop_x = int(width / 2 - crop_size / 2)\n",
    "    crop_y = int(height / 2 - crop_size / 2)\n",
    "    cropped_image = image.crop((crop_x, crop_y, crop_x + crop_size, crop_y + crop_size))\n",
    "    cropped_image.save(image_path)"
   ],
   "metadata": {
    "collapsed": false,
    "ExecuteTime": {
     "end_time": "2023-07-31T01:21:00.936193574Z",
     "start_time": "2023-07-31T01:21:00.898092485Z"
    }
   }
  },
  {
   "cell_type": "code",
   "execution_count": 12,
   "outputs": [],
   "source": [
    "def square_crop_dir_images(directory):\n",
    "    for file in tqdm(os.listdir(directory)):\n",
    "        if is_image(file):\n",
    "            try:\n",
    "                square_crop_image(os.path.join(directory, file))\n",
    "            except Exception as e:\n",
    "                print(f\"error in crop file: {file}\")\n",
    "                continue\n",
    "    print(\"all images square cropped.\")"
   ],
   "metadata": {
    "collapsed": false,
    "ExecuteTime": {
     "end_time": "2023-07-31T01:21:01.875660744Z",
     "start_time": "2023-07-31T01:21:01.855528441Z"
    }
   }
  },
  {
   "cell_type": "code",
   "execution_count": 13,
   "outputs": [
    {
     "name": "stderr",
     "output_type": "stream",
     "text": [
      "100%|██████████| 20451/20451 [29:17<00:00, 11.63it/s] "
     ]
    },
    {
     "name": "stdout",
     "output_type": "stream",
     "text": [
      "all images square cropped.\n"
     ]
    },
    {
     "name": "stderr",
     "output_type": "stream",
     "text": [
      "\n"
     ]
    }
   ],
   "source": [
    "square_crop_dir_images(RESOURCES_PATH)"
   ],
   "metadata": {
    "collapsed": false,
    "ExecuteTime": {
     "end_time": "2023-07-31T01:50:20.276832372Z",
     "start_time": "2023-07-31T01:21:02.413328938Z"
    }
   }
  },
  {
   "cell_type": "code",
   "execution_count": null,
   "outputs": [],
   "source": [],
   "metadata": {
    "collapsed": false
   }
  }
 ],
 "metadata": {
  "kernelspec": {
   "display_name": "Python 3",
   "language": "python",
   "name": "python3"
  },
  "language_info": {
   "codemirror_mode": {
    "name": "ipython",
    "version": 2
   },
   "file_extension": ".py",
   "mimetype": "text/x-python",
   "name": "python",
   "nbconvert_exporter": "python",
   "pygments_lexer": "ipython2",
   "version": "2.7.6"
  }
 },
 "nbformat": 4,
 "nbformat_minor": 0
}
