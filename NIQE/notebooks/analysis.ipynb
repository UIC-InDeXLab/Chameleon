{
 "cells": [
  {
   "cell_type": "code",
   "execution_count": 1,
   "outputs": [],
   "source": [
    "import pandas as pd\n",
    "import os"
   ],
   "metadata": {
    "collapsed": false,
    "ExecuteTime": {
     "end_time": "2024-01-19T20:09:58.962331134Z",
     "start_time": "2024-01-19T20:09:58.954987854Z"
    }
   },
   "id": "346a2ac1e2d11edc"
  },
  {
   "cell_type": "markdown",
   "source": [
    "# NIQE, BRISQE and NIMA"
   ],
   "metadata": {
    "collapsed": false
   },
   "id": "3865b09bde861bab"
  },
  {
   "cell_type": "code",
   "execution_count": 2,
   "outputs": [],
   "source": [
    "acc_dir = \"/home/mahdi/Projects/FairnessLens/Gateway/results/generated_images/ucb_accurate\"\n",
    "mod_dir = \"/home/mahdi/Projects/FairnessLens/Gateway/results/generated_images/ucb_moderate\"\n",
    "imp_dir = \"/home/mahdi/Projects/FairnessLens/Gateway/results/generated_images/ucb_imprecise\""
   ],
   "metadata": {
    "collapsed": false,
    "ExecuteTime": {
     "end_time": "2024-01-19T20:10:00.089076208Z",
     "start_time": "2024-01-19T20:10:00.062508393Z"
    }
   },
   "id": "1de536aec855683a"
  },
  {
   "cell_type": "code",
   "execution_count": 3,
   "outputs": [],
   "source": [
    "acc_files = os.listdir(acc_dir)\n",
    "mod_files = os.listdir(mod_dir)\n",
    "imp_files = os.listdir(imp_dir)"
   ],
   "metadata": {
    "collapsed": false,
    "ExecuteTime": {
     "end_time": "2024-01-19T20:10:00.474144920Z",
     "start_time": "2024-01-19T20:10:00.471580081Z"
    }
   },
   "id": "4fabe59516081b6e"
  },
  {
   "cell_type": "code",
   "execution_count": 4,
   "outputs": [
    {
     "data": {
      "text/plain": "                          filename\n0   0_0_1_20231111200646265384.png\n1   0_0_1_20231111200709733806.png\n2   0_0_1_20231111200737758999.png\n3   0_0_1_20231111200827493751.png\n4   0_0_1_20231111200949641359.png\n..                             ...\n93  7_1_1_20231111200445463484.png\n94  7_1_1_20231111200514052077.png\n95  7_1_1_20231111200533923795.png\n96  7_1_1_20231111200559418886.png\n97  7_1_1_20231111200622781893.png\n\n[98 rows x 1 columns]",
      "text/html": "<div>\n<style scoped>\n    .dataframe tbody tr th:only-of-type {\n        vertical-align: middle;\n    }\n\n    .dataframe tbody tr th {\n        vertical-align: top;\n    }\n\n    .dataframe thead th {\n        text-align: right;\n    }\n</style>\n<table border=\"1\" class=\"dataframe\">\n  <thead>\n    <tr style=\"text-align: right;\">\n      <th></th>\n      <th>filename</th>\n    </tr>\n  </thead>\n  <tbody>\n    <tr>\n      <th>0</th>\n      <td>0_0_1_20231111200646265384.png</td>\n    </tr>\n    <tr>\n      <th>1</th>\n      <td>0_0_1_20231111200709733806.png</td>\n    </tr>\n    <tr>\n      <th>2</th>\n      <td>0_0_1_20231111200737758999.png</td>\n    </tr>\n    <tr>\n      <th>3</th>\n      <td>0_0_1_20231111200827493751.png</td>\n    </tr>\n    <tr>\n      <th>4</th>\n      <td>0_0_1_20231111200949641359.png</td>\n    </tr>\n    <tr>\n      <th>...</th>\n      <td>...</td>\n    </tr>\n    <tr>\n      <th>93</th>\n      <td>7_1_1_20231111200445463484.png</td>\n    </tr>\n    <tr>\n      <th>94</th>\n      <td>7_1_1_20231111200514052077.png</td>\n    </tr>\n    <tr>\n      <th>95</th>\n      <td>7_1_1_20231111200533923795.png</td>\n    </tr>\n    <tr>\n      <th>96</th>\n      <td>7_1_1_20231111200559418886.png</td>\n    </tr>\n    <tr>\n      <th>97</th>\n      <td>7_1_1_20231111200622781893.png</td>\n    </tr>\n  </tbody>\n</table>\n<p>98 rows × 1 columns</p>\n</div>"
     },
     "execution_count": 4,
     "metadata": {},
     "output_type": "execute_result"
    }
   ],
   "source": [
    "acc_df = pd.DataFrame({'filename': acc_files})\n",
    "mod_df = pd.DataFrame({'filename': mod_files})\n",
    "imp_df = pd.DataFrame({'filename': imp_files})\n",
    "acc_df"
   ],
   "metadata": {
    "collapsed": false,
    "ExecuteTime": {
     "end_time": "2024-01-19T20:10:00.828697880Z",
     "start_time": "2024-01-19T20:10:00.821551762Z"
    }
   },
   "id": "2f165d303a83ac64"
  },
  {
   "cell_type": "code",
   "execution_count": 5,
   "outputs": [
    {
     "data": {
      "text/plain": "                             filename  age_group  gender  race  is_generated\n0         0_0_0_20170103202801736.png          0       0     0         False\n1         0_0_0_20161219204329404.png          0       0     0         False\n2         0_0_0_20170110212907649.png          0       0     0         False\n3         0_0_0_20170109191432590.png          0       0     0         False\n4         0_0_0_20170104201100490.png          0       0     0         False\n...                               ...        ...     ...   ...           ...\n13382  0_0_1_20231111200949641359.png          0       0     1          True\n13383  0_1_3_20231111201013968007.png          0       1     3          True\n13384  0_0_1_20231111201038069562.png          0       0     1          True\n13385  0_1_3_20231111201100504521.png          0       1     3          True\n13386  0_0_1_20231111201221689245.png          0       0     1          True\n\n[13387 rows x 5 columns]",
      "text/html": "<div>\n<style scoped>\n    .dataframe tbody tr th:only-of-type {\n        vertical-align: middle;\n    }\n\n    .dataframe tbody tr th {\n        vertical-align: top;\n    }\n\n    .dataframe thead th {\n        text-align: right;\n    }\n</style>\n<table border=\"1\" class=\"dataframe\">\n  <thead>\n    <tr style=\"text-align: right;\">\n      <th></th>\n      <th>filename</th>\n      <th>age_group</th>\n      <th>gender</th>\n      <th>race</th>\n      <th>is_generated</th>\n    </tr>\n  </thead>\n  <tbody>\n    <tr>\n      <th>0</th>\n      <td>0_0_0_20170103202801736.png</td>\n      <td>0</td>\n      <td>0</td>\n      <td>0</td>\n      <td>False</td>\n    </tr>\n    <tr>\n      <th>1</th>\n      <td>0_0_0_20161219204329404.png</td>\n      <td>0</td>\n      <td>0</td>\n      <td>0</td>\n      <td>False</td>\n    </tr>\n    <tr>\n      <th>2</th>\n      <td>0_0_0_20170110212907649.png</td>\n      <td>0</td>\n      <td>0</td>\n      <td>0</td>\n      <td>False</td>\n    </tr>\n    <tr>\n      <th>3</th>\n      <td>0_0_0_20170109191432590.png</td>\n      <td>0</td>\n      <td>0</td>\n      <td>0</td>\n      <td>False</td>\n    </tr>\n    <tr>\n      <th>4</th>\n      <td>0_0_0_20170104201100490.png</td>\n      <td>0</td>\n      <td>0</td>\n      <td>0</td>\n      <td>False</td>\n    </tr>\n    <tr>\n      <th>...</th>\n      <td>...</td>\n      <td>...</td>\n      <td>...</td>\n      <td>...</td>\n      <td>...</td>\n    </tr>\n    <tr>\n      <th>13382</th>\n      <td>0_0_1_20231111200949641359.png</td>\n      <td>0</td>\n      <td>0</td>\n      <td>1</td>\n      <td>True</td>\n    </tr>\n    <tr>\n      <th>13383</th>\n      <td>0_1_3_20231111201013968007.png</td>\n      <td>0</td>\n      <td>1</td>\n      <td>3</td>\n      <td>True</td>\n    </tr>\n    <tr>\n      <th>13384</th>\n      <td>0_0_1_20231111201038069562.png</td>\n      <td>0</td>\n      <td>0</td>\n      <td>1</td>\n      <td>True</td>\n    </tr>\n    <tr>\n      <th>13385</th>\n      <td>0_1_3_20231111201100504521.png</td>\n      <td>0</td>\n      <td>1</td>\n      <td>3</td>\n      <td>True</td>\n    </tr>\n    <tr>\n      <th>13386</th>\n      <td>0_0_1_20231111201221689245.png</td>\n      <td>0</td>\n      <td>0</td>\n      <td>1</td>\n      <td>True</td>\n    </tr>\n  </tbody>\n</table>\n<p>13387 rows × 5 columns</p>\n</div>"
     },
     "execution_count": 5,
     "metadata": {},
     "output_type": "execute_result"
    }
   ],
   "source": [
    "accepted_acc_df = pd.read_csv(\"/home/mahdi/Projects/FairnessLens/ImageAnalyzer/datasets/ucb_accurate.csv\")\n",
    "accepted_mod_df = pd.read_csv(\"/home/mahdi/Projects/FairnessLens/ImageAnalyzer/datasets/ucb_moderate.csv\")\n",
    "accepted_imp_df = pd.read_csv(\"/home/mahdi/Projects/FairnessLens/ImageAnalyzer/datasets/ucb_imprecise.csv\")\n",
    "\n",
    "accepted_acc_df"
   ],
   "metadata": {
    "collapsed": false,
    "ExecuteTime": {
     "end_time": "2024-01-19T20:10:02.024494280Z",
     "start_time": "2024-01-19T20:10:01.983439387Z"
    }
   },
   "id": "fd3bbe08358ea312"
  },
  {
   "cell_type": "code",
   "execution_count": 6,
   "outputs": [],
   "source": [
    "acc_df['accepted'] = acc_df['filename'].isin(accepted_acc_df['filename'])\n",
    "mod_df['accepted'] = mod_df['filename'].isin(accepted_mod_df['filename'])\n",
    "imp_df['accepted'] = imp_df['filename'].isin(accepted_imp_df['filename'])"
   ],
   "metadata": {
    "collapsed": false,
    "ExecuteTime": {
     "end_time": "2024-01-19T20:10:02.799631320Z",
     "start_time": "2024-01-19T20:10:02.794169468Z"
    }
   },
   "id": "530a3a3cd84c64ba"
  },
  {
   "cell_type": "code",
   "execution_count": 7,
   "outputs": [
    {
     "data": {
      "text/plain": "                          filename  accepted\n0   0_0_1_20231111200646265384.png      True\n1   0_0_1_20231111200709733806.png     False\n2   0_0_1_20231111200737758999.png      True\n3   0_0_1_20231111200827493751.png      True\n4   0_0_1_20231111200949641359.png      True\n..                             ...       ...\n93  7_1_1_20231111200445463484.png      True\n94  7_1_1_20231111200514052077.png      True\n95  7_1_1_20231111200533923795.png      True\n96  7_1_1_20231111200559418886.png      True\n97  7_1_1_20231111200622781893.png      True\n\n[98 rows x 2 columns]",
      "text/html": "<div>\n<style scoped>\n    .dataframe tbody tr th:only-of-type {\n        vertical-align: middle;\n    }\n\n    .dataframe tbody tr th {\n        vertical-align: top;\n    }\n\n    .dataframe thead th {\n        text-align: right;\n    }\n</style>\n<table border=\"1\" class=\"dataframe\">\n  <thead>\n    <tr style=\"text-align: right;\">\n      <th></th>\n      <th>filename</th>\n      <th>accepted</th>\n    </tr>\n  </thead>\n  <tbody>\n    <tr>\n      <th>0</th>\n      <td>0_0_1_20231111200646265384.png</td>\n      <td>True</td>\n    </tr>\n    <tr>\n      <th>1</th>\n      <td>0_0_1_20231111200709733806.png</td>\n      <td>False</td>\n    </tr>\n    <tr>\n      <th>2</th>\n      <td>0_0_1_20231111200737758999.png</td>\n      <td>True</td>\n    </tr>\n    <tr>\n      <th>3</th>\n      <td>0_0_1_20231111200827493751.png</td>\n      <td>True</td>\n    </tr>\n    <tr>\n      <th>4</th>\n      <td>0_0_1_20231111200949641359.png</td>\n      <td>True</td>\n    </tr>\n    <tr>\n      <th>...</th>\n      <td>...</td>\n      <td>...</td>\n    </tr>\n    <tr>\n      <th>93</th>\n      <td>7_1_1_20231111200445463484.png</td>\n      <td>True</td>\n    </tr>\n    <tr>\n      <th>94</th>\n      <td>7_1_1_20231111200514052077.png</td>\n      <td>True</td>\n    </tr>\n    <tr>\n      <th>95</th>\n      <td>7_1_1_20231111200533923795.png</td>\n      <td>True</td>\n    </tr>\n    <tr>\n      <th>96</th>\n      <td>7_1_1_20231111200559418886.png</td>\n      <td>True</td>\n    </tr>\n    <tr>\n      <th>97</th>\n      <td>7_1_1_20231111200622781893.png</td>\n      <td>True</td>\n    </tr>\n  </tbody>\n</table>\n<p>98 rows × 2 columns</p>\n</div>"
     },
     "execution_count": 7,
     "metadata": {},
     "output_type": "execute_result"
    }
   ],
   "source": [
    "acc_df"
   ],
   "metadata": {
    "collapsed": false,
    "ExecuteTime": {
     "end_time": "2024-01-19T20:10:03.843184279Z",
     "start_time": "2024-01-19T20:10:03.839682756Z"
    }
   },
   "id": "10c139c525d3a8df"
  },
  {
   "cell_type": "code",
   "execution_count": 8,
   "outputs": [
    {
     "data": {
      "text/plain": "                          filename  accepted\n0   0_0_1_20231111200646265384.png      True\n1   0_0_1_20231111200709733806.png     False\n2   0_0_1_20231111200737758999.png      True\n3   0_0_1_20231111200827493751.png      True\n4   0_0_1_20231111200949641359.png      True\n..                             ...       ...\n78  7_1_1_20231113153127607663.png     False\n79  7_1_1_20231113153154126106.png      True\n80  7_1_1_20231113153218257091.png      True\n81  7_1_1_20231113153247723432.png      True\n82  7_1_1_20231113153958486817.png      True\n\n[271 rows x 2 columns]",
      "text/html": "<div>\n<style scoped>\n    .dataframe tbody tr th:only-of-type {\n        vertical-align: middle;\n    }\n\n    .dataframe tbody tr th {\n        vertical-align: top;\n    }\n\n    .dataframe thead th {\n        text-align: right;\n    }\n</style>\n<table border=\"1\" class=\"dataframe\">\n  <thead>\n    <tr style=\"text-align: right;\">\n      <th></th>\n      <th>filename</th>\n      <th>accepted</th>\n    </tr>\n  </thead>\n  <tbody>\n    <tr>\n      <th>0</th>\n      <td>0_0_1_20231111200646265384.png</td>\n      <td>True</td>\n    </tr>\n    <tr>\n      <th>1</th>\n      <td>0_0_1_20231111200709733806.png</td>\n      <td>False</td>\n    </tr>\n    <tr>\n      <th>2</th>\n      <td>0_0_1_20231111200737758999.png</td>\n      <td>True</td>\n    </tr>\n    <tr>\n      <th>3</th>\n      <td>0_0_1_20231111200827493751.png</td>\n      <td>True</td>\n    </tr>\n    <tr>\n      <th>4</th>\n      <td>0_0_1_20231111200949641359.png</td>\n      <td>True</td>\n    </tr>\n    <tr>\n      <th>...</th>\n      <td>...</td>\n      <td>...</td>\n    </tr>\n    <tr>\n      <th>78</th>\n      <td>7_1_1_20231113153127607663.png</td>\n      <td>False</td>\n    </tr>\n    <tr>\n      <th>79</th>\n      <td>7_1_1_20231113153154126106.png</td>\n      <td>True</td>\n    </tr>\n    <tr>\n      <th>80</th>\n      <td>7_1_1_20231113153218257091.png</td>\n      <td>True</td>\n    </tr>\n    <tr>\n      <th>81</th>\n      <td>7_1_1_20231113153247723432.png</td>\n      <td>True</td>\n    </tr>\n    <tr>\n      <th>82</th>\n      <td>7_1_1_20231113153958486817.png</td>\n      <td>True</td>\n    </tr>\n  </tbody>\n</table>\n<p>271 rows × 2 columns</p>\n</div>"
     },
     "execution_count": 8,
     "metadata": {},
     "output_type": "execute_result"
    }
   ],
   "source": [
    "combined_df = pd.concat([acc_df, mod_df, imp_df])\n",
    "combined_df"
   ],
   "metadata": {
    "collapsed": false,
    "ExecuteTime": {
     "end_time": "2024-01-19T20:10:05.495991958Z",
     "start_time": "2024-01-19T20:10:05.483909715Z"
    }
   },
   "id": "32a8fc95e40354d"
  },
  {
   "cell_type": "code",
   "execution_count": 9,
   "outputs": [
    {
     "data": {
      "text/plain": "31"
     },
     "execution_count": 9,
     "metadata": {},
     "output_type": "execute_result"
    }
   ],
   "source": [
    "len(combined_df[combined_df['accepted'] == False])"
   ],
   "metadata": {
    "collapsed": false,
    "ExecuteTime": {
     "end_time": "2024-01-19T20:10:07.119843681Z",
     "start_time": "2024-01-19T20:10:07.114514303Z"
    }
   },
   "id": "f0082ba2b9205e3e"
  },
  {
   "cell_type": "code",
   "execution_count": 10,
   "outputs": [
    {
     "data": {
      "text/plain": "                           filename      score  niqe_accepted\n0    0_0_1_20231111200646265384.png   7.549195           True\n1    0_0_1_20231111200709733806.png   7.927759           True\n2    0_0_1_20231111200737758999.png  10.698085          False\n3    0_0_1_20231111200827493751.png   7.546732           True\n4    0_0_1_20231111200949641359.png   4.222256           True\n..                              ...        ...            ...\n266  7_1_1_20231113153127607663.png   9.205098          False\n267  7_1_1_20231113153154126106.png   4.021356           True\n268  7_1_1_20231113153218257091.png   5.989838           True\n269  7_1_1_20231113153247723432.png   4.599254           True\n270  7_1_1_20231113153958486817.png   4.799046           True\n\n[271 rows x 3 columns]",
      "text/html": "<div>\n<style scoped>\n    .dataframe tbody tr th:only-of-type {\n        vertical-align: middle;\n    }\n\n    .dataframe tbody tr th {\n        vertical-align: top;\n    }\n\n    .dataframe thead th {\n        text-align: right;\n    }\n</style>\n<table border=\"1\" class=\"dataframe\">\n  <thead>\n    <tr style=\"text-align: right;\">\n      <th></th>\n      <th>filename</th>\n      <th>score</th>\n      <th>niqe_accepted</th>\n    </tr>\n  </thead>\n  <tbody>\n    <tr>\n      <th>0</th>\n      <td>0_0_1_20231111200646265384.png</td>\n      <td>7.549195</td>\n      <td>True</td>\n    </tr>\n    <tr>\n      <th>1</th>\n      <td>0_0_1_20231111200709733806.png</td>\n      <td>7.927759</td>\n      <td>True</td>\n    </tr>\n    <tr>\n      <th>2</th>\n      <td>0_0_1_20231111200737758999.png</td>\n      <td>10.698085</td>\n      <td>False</td>\n    </tr>\n    <tr>\n      <th>3</th>\n      <td>0_0_1_20231111200827493751.png</td>\n      <td>7.546732</td>\n      <td>True</td>\n    </tr>\n    <tr>\n      <th>4</th>\n      <td>0_0_1_20231111200949641359.png</td>\n      <td>4.222256</td>\n      <td>True</td>\n    </tr>\n    <tr>\n      <th>...</th>\n      <td>...</td>\n      <td>...</td>\n      <td>...</td>\n    </tr>\n    <tr>\n      <th>266</th>\n      <td>7_1_1_20231113153127607663.png</td>\n      <td>9.205098</td>\n      <td>False</td>\n    </tr>\n    <tr>\n      <th>267</th>\n      <td>7_1_1_20231113153154126106.png</td>\n      <td>4.021356</td>\n      <td>True</td>\n    </tr>\n    <tr>\n      <th>268</th>\n      <td>7_1_1_20231113153218257091.png</td>\n      <td>5.989838</td>\n      <td>True</td>\n    </tr>\n    <tr>\n      <th>269</th>\n      <td>7_1_1_20231113153247723432.png</td>\n      <td>4.599254</td>\n      <td>True</td>\n    </tr>\n    <tr>\n      <th>270</th>\n      <td>7_1_1_20231113153958486817.png</td>\n      <td>4.799046</td>\n      <td>True</td>\n    </tr>\n  </tbody>\n</table>\n<p>271 rows × 3 columns</p>\n</div>"
     },
     "execution_count": 10,
     "metadata": {},
     "output_type": "execute_result"
    }
   ],
   "source": [
    "niqe_results = pd.read_csv(\"./NIQE/combined_niqe_results.csv\")\n",
    "brisque_results = pd.read_csv(\"./BRISQUE/combined_brisque_results.csv\")\n",
    "nima_results = pd.read_csv(\"./NIMA/combined_nima_results.csv\")\n",
    "niqe_results"
   ],
   "metadata": {
    "collapsed": false,
    "ExecuteTime": {
     "end_time": "2024-01-19T20:10:08.729931030Z",
     "start_time": "2024-01-19T20:10:08.710492288Z"
    }
   },
   "id": "95549f636f352f92"
  },
  {
   "cell_type": "code",
   "execution_count": 11,
   "outputs": [],
   "source": [
    "result_df = pd.merge(combined_df, niqe_results, on='filename', how='outer')\n",
    "result_df = pd.merge(result_df, brisque_results, on='filename', how='outer')\n",
    "result_df = pd.merge(result_df, nima_results, on='filename', how='outer')"
   ],
   "metadata": {
    "collapsed": false,
    "ExecuteTime": {
     "end_time": "2024-01-19T20:10:15.192660431Z",
     "start_time": "2024-01-19T20:10:15.177584801Z"
    }
   },
   "id": "4e3099fcac818f2f"
  },
  {
   "cell_type": "code",
   "execution_count": 13,
   "outputs": [
    {
     "data": {
      "text/plain": "                           filename  accepted    score_x  niqe_accepted  \\\n0    0_0_1_20231111200646265384.png      True   7.549195           True   \n1    0_0_1_20231111200709733806.png     False   7.927759           True   \n2    0_0_1_20231111200737758999.png      True  10.698085          False   \n3    0_0_1_20231111200827493751.png      True   7.546732           True   \n4    0_0_1_20231111200949641359.png      True   4.222256           True   \n..                              ...       ...        ...            ...   \n266  7_1_1_20231113153127607663.png     False   9.205098          False   \n267  7_1_1_20231113153154126106.png      True   4.021356           True   \n268  7_1_1_20231113153218257091.png      True   5.989838           True   \n269  7_1_1_20231113153247723432.png      True   4.599254           True   \n270  7_1_1_20231113153958486817.png      True   4.799046           True   \n\n       score_y  brisque_accepted     score  nima_accepted  \n0    42.036316              True  4.972871           True  \n1    18.112488              True  3.048990          False  \n2    62.312683             False  5.363655           True  \n3    47.880554             False  4.211637           True  \n4    24.765808              True  4.763424           True  \n..         ...               ...       ...            ...  \n266  44.859558              True  4.662572           True  \n267  12.228699              True  5.497718           True  \n268  55.552429             False  5.694609           True  \n269  23.832214              True  5.895000           True  \n270  16.481628              True  5.706777           True  \n\n[271 rows x 8 columns]",
      "text/html": "<div>\n<style scoped>\n    .dataframe tbody tr th:only-of-type {\n        vertical-align: middle;\n    }\n\n    .dataframe tbody tr th {\n        vertical-align: top;\n    }\n\n    .dataframe thead th {\n        text-align: right;\n    }\n</style>\n<table border=\"1\" class=\"dataframe\">\n  <thead>\n    <tr style=\"text-align: right;\">\n      <th></th>\n      <th>filename</th>\n      <th>accepted</th>\n      <th>score_x</th>\n      <th>niqe_accepted</th>\n      <th>score_y</th>\n      <th>brisque_accepted</th>\n      <th>score</th>\n      <th>nima_accepted</th>\n    </tr>\n  </thead>\n  <tbody>\n    <tr>\n      <th>0</th>\n      <td>0_0_1_20231111200646265384.png</td>\n      <td>True</td>\n      <td>7.549195</td>\n      <td>True</td>\n      <td>42.036316</td>\n      <td>True</td>\n      <td>4.972871</td>\n      <td>True</td>\n    </tr>\n    <tr>\n      <th>1</th>\n      <td>0_0_1_20231111200709733806.png</td>\n      <td>False</td>\n      <td>7.927759</td>\n      <td>True</td>\n      <td>18.112488</td>\n      <td>True</td>\n      <td>3.048990</td>\n      <td>False</td>\n    </tr>\n    <tr>\n      <th>2</th>\n      <td>0_0_1_20231111200737758999.png</td>\n      <td>True</td>\n      <td>10.698085</td>\n      <td>False</td>\n      <td>62.312683</td>\n      <td>False</td>\n      <td>5.363655</td>\n      <td>True</td>\n    </tr>\n    <tr>\n      <th>3</th>\n      <td>0_0_1_20231111200827493751.png</td>\n      <td>True</td>\n      <td>7.546732</td>\n      <td>True</td>\n      <td>47.880554</td>\n      <td>False</td>\n      <td>4.211637</td>\n      <td>True</td>\n    </tr>\n    <tr>\n      <th>4</th>\n      <td>0_0_1_20231111200949641359.png</td>\n      <td>True</td>\n      <td>4.222256</td>\n      <td>True</td>\n      <td>24.765808</td>\n      <td>True</td>\n      <td>4.763424</td>\n      <td>True</td>\n    </tr>\n    <tr>\n      <th>...</th>\n      <td>...</td>\n      <td>...</td>\n      <td>...</td>\n      <td>...</td>\n      <td>...</td>\n      <td>...</td>\n      <td>...</td>\n      <td>...</td>\n    </tr>\n    <tr>\n      <th>266</th>\n      <td>7_1_1_20231113153127607663.png</td>\n      <td>False</td>\n      <td>9.205098</td>\n      <td>False</td>\n      <td>44.859558</td>\n      <td>True</td>\n      <td>4.662572</td>\n      <td>True</td>\n    </tr>\n    <tr>\n      <th>267</th>\n      <td>7_1_1_20231113153154126106.png</td>\n      <td>True</td>\n      <td>4.021356</td>\n      <td>True</td>\n      <td>12.228699</td>\n      <td>True</td>\n      <td>5.497718</td>\n      <td>True</td>\n    </tr>\n    <tr>\n      <th>268</th>\n      <td>7_1_1_20231113153218257091.png</td>\n      <td>True</td>\n      <td>5.989838</td>\n      <td>True</td>\n      <td>55.552429</td>\n      <td>False</td>\n      <td>5.694609</td>\n      <td>True</td>\n    </tr>\n    <tr>\n      <th>269</th>\n      <td>7_1_1_20231113153247723432.png</td>\n      <td>True</td>\n      <td>4.599254</td>\n      <td>True</td>\n      <td>23.832214</td>\n      <td>True</td>\n      <td>5.895000</td>\n      <td>True</td>\n    </tr>\n    <tr>\n      <th>270</th>\n      <td>7_1_1_20231113153958486817.png</td>\n      <td>True</td>\n      <td>4.799046</td>\n      <td>True</td>\n      <td>16.481628</td>\n      <td>True</td>\n      <td>5.706777</td>\n      <td>True</td>\n    </tr>\n  </tbody>\n</table>\n<p>271 rows × 8 columns</p>\n</div>"
     },
     "execution_count": 13,
     "metadata": {},
     "output_type": "execute_result"
    }
   ],
   "source": [
    "result_df"
   ],
   "metadata": {
    "collapsed": false,
    "ExecuteTime": {
     "end_time": "2024-01-19T20:10:44.971509925Z",
     "start_time": "2024-01-19T20:10:44.929785186Z"
    }
   },
   "id": "4e7101fd2d49a7c3"
  },
  {
   "cell_type": "markdown",
   "source": [
    "## NIQE"
   ],
   "metadata": {
    "collapsed": false
   },
   "id": "3922299bdab06ab3"
  },
  {
   "cell_type": "code",
   "execution_count": 14,
   "outputs": [
    {
     "name": "stdout",
     "output_type": "stream",
     "text": [
      "Correlation between 'accepted' and 'niqe_accepted': -0.7741935483870972\n"
     ]
    }
   ],
   "source": [
    "filtered_df = result_df[(result_df['accepted'] == False) | (result_df['niqe_accepted'] == False)]\n",
    "correlation = filtered_df['accepted'].corr(filtered_df['niqe_accepted'])\n",
    "print(f\"Correlation between 'accepted' and 'niqe_accepted': {correlation}\")"
   ],
   "metadata": {
    "collapsed": false,
    "ExecuteTime": {
     "end_time": "2024-01-19T20:11:29.278139400Z",
     "start_time": "2024-01-19T20:11:29.237223048Z"
    }
   },
   "id": "f925b2ea0ed4a440"
  },
  {
   "cell_type": "code",
   "execution_count": 15,
   "outputs": [
    {
     "data": {
      "text/plain": "0.12727272727272726"
     },
     "execution_count": 15,
     "metadata": {},
     "output_type": "execute_result"
    }
   ],
   "source": [
    "len(result_df[(result_df['accepted'] == False) & (result_df['niqe_accepted'] == False)])/len(result_df[(result_df['accepted'] == False) | (result_df['niqe_accepted'] == False)])"
   ],
   "metadata": {
    "collapsed": false,
    "ExecuteTime": {
     "end_time": "2024-01-19T20:11:30.827535726Z",
     "start_time": "2024-01-19T20:11:30.822805084Z"
    }
   },
   "id": "6f540605456ee54a"
  },
  {
   "cell_type": "markdown",
   "source": [
    "## BRISQUE"
   ],
   "metadata": {
    "collapsed": false
   },
   "id": "d7d5637e62d29763"
  },
  {
   "cell_type": "code",
   "execution_count": 16,
   "outputs": [
    {
     "name": "stdout",
     "output_type": "stream",
     "text": [
      "Correlation between 'accepted' and 'brisque_accepted': -0.8709677419354837\n"
     ]
    }
   ],
   "source": [
    "filtered_df = result_df[(result_df['accepted'] == False) | (result_df['brisque_accepted'] == False)]\n",
    "correlation = filtered_df['accepted'].corr(filtered_df['brisque_accepted'])\n",
    "print(f\"Correlation between 'accepted' and 'brisque_accepted': {correlation}\")"
   ],
   "metadata": {
    "collapsed": false,
    "ExecuteTime": {
     "end_time": "2024-01-19T20:11:41.271972613Z",
     "start_time": "2024-01-19T20:11:41.262061468Z"
    }
   },
   "id": "c4b54a9ee3e0096e"
  },
  {
   "cell_type": "code",
   "execution_count": 17,
   "outputs": [
    {
     "data": {
      "text/plain": "0.06896551724137931"
     },
     "execution_count": 17,
     "metadata": {},
     "output_type": "execute_result"
    }
   ],
   "source": [
    "len(result_df[(result_df['accepted'] == False) & (result_df['brisque_accepted'] == False)])/len(result_df[(result_df['accepted'] == False) | (result_df['brisque_accepted'] == False)])"
   ],
   "metadata": {
    "collapsed": false,
    "ExecuteTime": {
     "end_time": "2024-01-19T20:11:42.202849392Z",
     "start_time": "2024-01-19T20:11:42.196072608Z"
    }
   },
   "id": "b0f659dd3d8664c8"
  },
  {
   "cell_type": "markdown",
   "source": [
    "## NIMA"
   ],
   "metadata": {
    "collapsed": false
   },
   "id": "786219d3728aebf1"
  },
  {
   "cell_type": "code",
   "execution_count": 20,
   "outputs": [
    {
     "name": "stdout",
     "output_type": "stream",
     "text": [
      "Correlation between 'accepted' and 'nima_accepted': -0.870967741935484\n"
     ]
    }
   ],
   "source": [
    "filtered_df = result_df[(result_df['accepted'] == False) | (result_df['nima_accepted'] == False)]\n",
    "correlation = filtered_df['accepted'].corr(filtered_df['nima_accepted'])\n",
    "print(f\"Correlation between 'accepted' and 'nima_accepted': {correlation}\")"
   ],
   "metadata": {
    "collapsed": false,
    "ExecuteTime": {
     "end_time": "2024-01-19T20:16:03.258184550Z",
     "start_time": "2024-01-19T20:16:03.217626216Z"
    }
   },
   "id": "65940f6d780338dd"
  },
  {
   "cell_type": "code",
   "execution_count": 21,
   "outputs": [
    {
     "data": {
      "text/plain": "0.06896551724137931"
     },
     "execution_count": 21,
     "metadata": {},
     "output_type": "execute_result"
    }
   ],
   "source": [
    "len(result_df[(result_df['accepted'] == False) & (result_df['nima_accepted'] == False)])/len(result_df[(result_df['accepted'] == False) | (result_df['nima_accepted'] == False)])"
   ],
   "metadata": {
    "collapsed": false,
    "ExecuteTime": {
     "end_time": "2024-01-19T20:16:03.610950815Z",
     "start_time": "2024-01-19T20:16:03.606832238Z"
    }
   },
   "id": "99afb6f46e6425b7"
  },
  {
   "cell_type": "code",
   "execution_count": null,
   "outputs": [],
   "source": [],
   "metadata": {
    "collapsed": false
   },
   "id": "1ee1796ee81c4d28"
  }
 ],
 "metadata": {
  "kernelspec": {
   "display_name": "Python 3",
   "language": "python",
   "name": "python3"
  },
  "language_info": {
   "codemirror_mode": {
    "name": "ipython",
    "version": 2
   },
   "file_extension": ".py",
   "mimetype": "text/x-python",
   "name": "python",
   "nbconvert_exporter": "python",
   "pygments_lexer": "ipython2",
   "version": "2.7.6"
  }
 },
 "nbformat": 4,
 "nbformat_minor": 5
}
