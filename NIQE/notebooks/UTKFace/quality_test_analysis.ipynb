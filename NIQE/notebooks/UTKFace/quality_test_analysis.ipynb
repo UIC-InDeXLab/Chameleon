{
 "cells": [
  {
   "cell_type": "code",
   "execution_count": 1,
   "id": "initial_id",
   "metadata": {
    "collapsed": true,
    "ExecuteTime": {
     "end_time": "2024-01-30T19:01:49.547112950Z",
     "start_time": "2024-01-30T19:01:49.063291550Z"
    }
   },
   "outputs": [],
   "source": [
    "import pandas as pd\n",
    "import numpy as np\n",
    "from scipy.stats import binomtest"
   ]
  },
  {
   "cell_type": "code",
   "execution_count": 2,
   "outputs": [],
   "source": [
    "df = pd.read_csv('results_after_quality_test.csv')"
   ],
   "metadata": {
    "collapsed": false,
    "ExecuteTime": {
     "end_time": "2024-01-30T19:01:50.277683079Z",
     "start_time": "2024-01-30T19:01:50.273519005Z"
    }
   },
   "id": "420b9fc0418180f4"
  },
  {
   "cell_type": "code",
   "execution_count": 3,
   "outputs": [],
   "source": [
    "df['human_evaluators_quality_test_votes'] = df['human_evaluators_quality_test_votes'].apply(eval)"
   ],
   "metadata": {
    "collapsed": false,
    "ExecuteTime": {
     "end_time": "2024-01-30T19:01:50.855971661Z",
     "start_time": "2024-01-30T19:01:50.847915540Z"
    }
   },
   "id": "6d0081cff6d5546c"
  },
  {
   "cell_type": "code",
   "execution_count": 4,
   "outputs": [],
   "source": [
    "mu = 0.86"
   ],
   "metadata": {
    "collapsed": false,
    "ExecuteTime": {
     "end_time": "2024-01-30T19:01:51.346659130Z",
     "start_time": "2024-01-30T19:01:51.340512942Z"
    }
   },
   "id": "c121a6cce18d71de"
  },
  {
   "cell_type": "code",
   "execution_count": 15,
   "outputs": [],
   "source": [
    "df['p-value'] = df['human_evaluators_quality_test_votes'].apply(\n",
    "    lambda votes: binomtest(sum(votes), n=len(votes), p=mu, alternative='less').pvalue)"
   ],
   "metadata": {
    "collapsed": false,
    "ExecuteTime": {
     "end_time": "2024-01-30T20:32:08.755537525Z",
     "start_time": "2024-01-30T20:32:08.706017283Z"
    }
   },
   "id": "c16dae8bd8da08df"
  },
  {
   "cell_type": "code",
   "execution_count": 16,
   "outputs": [
    {
     "data": {
      "text/plain": "0      0.022000\n1      0.363944\n2      1.000000\n3      1.000000\n4      1.000000\n         ...   \n826    0.363944\n827    0.019600\n828    0.002744\n829    0.260400\n830    0.363944\nName: p-value, Length: 831, dtype: float64"
     },
     "execution_count": 16,
     "metadata": {},
     "output_type": "execute_result"
    }
   ],
   "source": [
    "df['p-value']"
   ],
   "metadata": {
    "collapsed": false,
    "ExecuteTime": {
     "end_time": "2024-01-30T20:32:09.121418699Z",
     "start_time": "2024-01-30T20:32:09.113843381Z"
    }
   },
   "id": "4d2c3836a9049230"
  },
  {
   "cell_type": "code",
   "execution_count": 18,
   "outputs": [
    {
     "data": {
      "text/plain": "     age_group  gender  race strategy mask_level  \\\n0            1       0     0  similar   accurate   \n1            1       0     0  similar   moderate   \n2            1       0     0  similar  imprecise   \n3            1       0     0  similar   accurate   \n4            1       0     0  similar   moderate   \n..         ...     ...   ...      ...        ...   \n826          0       1     3      ucb   accurate   \n827          7       1     1      ucb   moderate   \n828          3       1     0      ucb   moderate   \n829          1       0     0      ucb   accurate   \n830          1       0     0      ucb   accurate   \n\n                                             filename  \\\n0     1_0_0_20230911103124160881_similar_accurate.png   \n1     1_0_0_20230911103141682049_similar_moderate.png   \n2    1_0_0_20230911103152978333_similar_imprecise.png   \n3     1_0_0_20230911103204288139_similar_accurate.png   \n4     1_0_0_20230911103217144559_similar_moderate.png   \n..                                                ...   \n826                    0_1_3_20231111200851997602.png   \n827                    7_1_1_20231113122228363656.png   \n828                    3_1_0_20231112181755955311.png   \n829                    1_0_0_20231111193156914470.png   \n830                    1_0_0_20231111193134797384.png   \n\n    human_evaluators_quality_test_votes   p-value  final-vote  \n0     [True, False, False, True, False]  0.022000       False  \n1                   [True, True, False]  0.363944        True  \n2                    [True, True, True]  1.000000        True  \n3                    [True, True, True]  1.000000        True  \n4                    [True, True, True]  1.000000        True  \n..                                  ...       ...         ...  \n826                 [False, True, True]  0.363944        True  \n827                      [False, False]  0.019600       False  \n828               [False, False, False]  0.002744       False  \n829                       [False, True]  0.260400        True  \n830                 [False, True, True]  0.363944        True  \n\n[831 rows x 9 columns]",
      "text/html": "<div>\n<style scoped>\n    .dataframe tbody tr th:only-of-type {\n        vertical-align: middle;\n    }\n\n    .dataframe tbody tr th {\n        vertical-align: top;\n    }\n\n    .dataframe thead th {\n        text-align: right;\n    }\n</style>\n<table border=\"1\" class=\"dataframe\">\n  <thead>\n    <tr style=\"text-align: right;\">\n      <th></th>\n      <th>age_group</th>\n      <th>gender</th>\n      <th>race</th>\n      <th>strategy</th>\n      <th>mask_level</th>\n      <th>filename</th>\n      <th>human_evaluators_quality_test_votes</th>\n      <th>p-value</th>\n      <th>final-vote</th>\n    </tr>\n  </thead>\n  <tbody>\n    <tr>\n      <th>0</th>\n      <td>1</td>\n      <td>0</td>\n      <td>0</td>\n      <td>similar</td>\n      <td>accurate</td>\n      <td>1_0_0_20230911103124160881_similar_accurate.png</td>\n      <td>[True, False, False, True, False]</td>\n      <td>0.022000</td>\n      <td>False</td>\n    </tr>\n    <tr>\n      <th>1</th>\n      <td>1</td>\n      <td>0</td>\n      <td>0</td>\n      <td>similar</td>\n      <td>moderate</td>\n      <td>1_0_0_20230911103141682049_similar_moderate.png</td>\n      <td>[True, True, False]</td>\n      <td>0.363944</td>\n      <td>True</td>\n    </tr>\n    <tr>\n      <th>2</th>\n      <td>1</td>\n      <td>0</td>\n      <td>0</td>\n      <td>similar</td>\n      <td>imprecise</td>\n      <td>1_0_0_20230911103152978333_similar_imprecise.png</td>\n      <td>[True, True, True]</td>\n      <td>1.000000</td>\n      <td>True</td>\n    </tr>\n    <tr>\n      <th>3</th>\n      <td>1</td>\n      <td>0</td>\n      <td>0</td>\n      <td>similar</td>\n      <td>accurate</td>\n      <td>1_0_0_20230911103204288139_similar_accurate.png</td>\n      <td>[True, True, True]</td>\n      <td>1.000000</td>\n      <td>True</td>\n    </tr>\n    <tr>\n      <th>4</th>\n      <td>1</td>\n      <td>0</td>\n      <td>0</td>\n      <td>similar</td>\n      <td>moderate</td>\n      <td>1_0_0_20230911103217144559_similar_moderate.png</td>\n      <td>[True, True, True]</td>\n      <td>1.000000</td>\n      <td>True</td>\n    </tr>\n    <tr>\n      <th>...</th>\n      <td>...</td>\n      <td>...</td>\n      <td>...</td>\n      <td>...</td>\n      <td>...</td>\n      <td>...</td>\n      <td>...</td>\n      <td>...</td>\n      <td>...</td>\n    </tr>\n    <tr>\n      <th>826</th>\n      <td>0</td>\n      <td>1</td>\n      <td>3</td>\n      <td>ucb</td>\n      <td>accurate</td>\n      <td>0_1_3_20231111200851997602.png</td>\n      <td>[False, True, True]</td>\n      <td>0.363944</td>\n      <td>True</td>\n    </tr>\n    <tr>\n      <th>827</th>\n      <td>7</td>\n      <td>1</td>\n      <td>1</td>\n      <td>ucb</td>\n      <td>moderate</td>\n      <td>7_1_1_20231113122228363656.png</td>\n      <td>[False, False]</td>\n      <td>0.019600</td>\n      <td>False</td>\n    </tr>\n    <tr>\n      <th>828</th>\n      <td>3</td>\n      <td>1</td>\n      <td>0</td>\n      <td>ucb</td>\n      <td>moderate</td>\n      <td>3_1_0_20231112181755955311.png</td>\n      <td>[False, False, False]</td>\n      <td>0.002744</td>\n      <td>False</td>\n    </tr>\n    <tr>\n      <th>829</th>\n      <td>1</td>\n      <td>0</td>\n      <td>0</td>\n      <td>ucb</td>\n      <td>accurate</td>\n      <td>1_0_0_20231111193156914470.png</td>\n      <td>[False, True]</td>\n      <td>0.260400</td>\n      <td>True</td>\n    </tr>\n    <tr>\n      <th>830</th>\n      <td>1</td>\n      <td>0</td>\n      <td>0</td>\n      <td>ucb</td>\n      <td>accurate</td>\n      <td>1_0_0_20231111193134797384.png</td>\n      <td>[False, True, True]</td>\n      <td>0.363944</td>\n      <td>True</td>\n    </tr>\n  </tbody>\n</table>\n<p>831 rows × 9 columns</p>\n</div>"
     },
     "execution_count": 18,
     "metadata": {},
     "output_type": "execute_result"
    }
   ],
   "source": [
    "df"
   ],
   "metadata": {
    "collapsed": false,
    "ExecuteTime": {
     "end_time": "2024-01-30T20:37:50.723133443Z",
     "start_time": "2024-01-30T20:37:50.682264490Z"
    }
   },
   "id": "ccc2bac3ba94c463"
  },
  {
   "cell_type": "code",
   "execution_count": 57,
   "outputs": [],
   "source": [
    "df['final-vote'] = df['p-value'].apply( lambda p: p > 0.7)"
   ],
   "metadata": {
    "collapsed": false,
    "ExecuteTime": {
     "end_time": "2024-01-30T21:00:09.273486049Z",
     "start_time": "2024-01-30T21:00:09.260873734Z"
    }
   },
   "id": "b589e46db1a556fd"
  },
  {
   "cell_type": "code",
   "execution_count": 58,
   "outputs": [
    {
     "data": {
      "text/plain": "     age_group  gender  race strategy mask_level  \\\n0            1       0     0  similar   accurate   \n1            1       0     0  similar   moderate   \n2            1       0     0  similar  imprecise   \n3            1       0     0  similar   accurate   \n4            1       0     0  similar   moderate   \n..         ...     ...   ...      ...        ...   \n826          0       1     3      ucb   accurate   \n827          7       1     1      ucb   moderate   \n828          3       1     0      ucb   moderate   \n829          1       0     0      ucb   accurate   \n830          1       0     0      ucb   accurate   \n\n                                             filename  \\\n0     1_0_0_20230911103124160881_similar_accurate.png   \n1     1_0_0_20230911103141682049_similar_moderate.png   \n2    1_0_0_20230911103152978333_similar_imprecise.png   \n3     1_0_0_20230911103204288139_similar_accurate.png   \n4     1_0_0_20230911103217144559_similar_moderate.png   \n..                                                ...   \n826                    0_1_3_20231111200851997602.png   \n827                    7_1_1_20231113122228363656.png   \n828                    3_1_0_20231112181755955311.png   \n829                    1_0_0_20231111193156914470.png   \n830                    1_0_0_20231111193134797384.png   \n\n    human_evaluators_quality_test_votes   p-value  final-vote  \n0     [True, False, False, True, False]  0.022000       False  \n1                   [True, True, False]  0.363944       False  \n2                    [True, True, True]  1.000000        True  \n3                    [True, True, True]  1.000000        True  \n4                    [True, True, True]  1.000000        True  \n..                                  ...       ...         ...  \n826                 [False, True, True]  0.363944       False  \n827                      [False, False]  0.019600       False  \n828               [False, False, False]  0.002744       False  \n829                       [False, True]  0.260400       False  \n830                 [False, True, True]  0.363944       False  \n\n[831 rows x 9 columns]",
      "text/html": "<div>\n<style scoped>\n    .dataframe tbody tr th:only-of-type {\n        vertical-align: middle;\n    }\n\n    .dataframe tbody tr th {\n        vertical-align: top;\n    }\n\n    .dataframe thead th {\n        text-align: right;\n    }\n</style>\n<table border=\"1\" class=\"dataframe\">\n  <thead>\n    <tr style=\"text-align: right;\">\n      <th></th>\n      <th>age_group</th>\n      <th>gender</th>\n      <th>race</th>\n      <th>strategy</th>\n      <th>mask_level</th>\n      <th>filename</th>\n      <th>human_evaluators_quality_test_votes</th>\n      <th>p-value</th>\n      <th>final-vote</th>\n    </tr>\n  </thead>\n  <tbody>\n    <tr>\n      <th>0</th>\n      <td>1</td>\n      <td>0</td>\n      <td>0</td>\n      <td>similar</td>\n      <td>accurate</td>\n      <td>1_0_0_20230911103124160881_similar_accurate.png</td>\n      <td>[True, False, False, True, False]</td>\n      <td>0.022000</td>\n      <td>False</td>\n    </tr>\n    <tr>\n      <th>1</th>\n      <td>1</td>\n      <td>0</td>\n      <td>0</td>\n      <td>similar</td>\n      <td>moderate</td>\n      <td>1_0_0_20230911103141682049_similar_moderate.png</td>\n      <td>[True, True, False]</td>\n      <td>0.363944</td>\n      <td>False</td>\n    </tr>\n    <tr>\n      <th>2</th>\n      <td>1</td>\n      <td>0</td>\n      <td>0</td>\n      <td>similar</td>\n      <td>imprecise</td>\n      <td>1_0_0_20230911103152978333_similar_imprecise.png</td>\n      <td>[True, True, True]</td>\n      <td>1.000000</td>\n      <td>True</td>\n    </tr>\n    <tr>\n      <th>3</th>\n      <td>1</td>\n      <td>0</td>\n      <td>0</td>\n      <td>similar</td>\n      <td>accurate</td>\n      <td>1_0_0_20230911103204288139_similar_accurate.png</td>\n      <td>[True, True, True]</td>\n      <td>1.000000</td>\n      <td>True</td>\n    </tr>\n    <tr>\n      <th>4</th>\n      <td>1</td>\n      <td>0</td>\n      <td>0</td>\n      <td>similar</td>\n      <td>moderate</td>\n      <td>1_0_0_20230911103217144559_similar_moderate.png</td>\n      <td>[True, True, True]</td>\n      <td>1.000000</td>\n      <td>True</td>\n    </tr>\n    <tr>\n      <th>...</th>\n      <td>...</td>\n      <td>...</td>\n      <td>...</td>\n      <td>...</td>\n      <td>...</td>\n      <td>...</td>\n      <td>...</td>\n      <td>...</td>\n      <td>...</td>\n    </tr>\n    <tr>\n      <th>826</th>\n      <td>0</td>\n      <td>1</td>\n      <td>3</td>\n      <td>ucb</td>\n      <td>accurate</td>\n      <td>0_1_3_20231111200851997602.png</td>\n      <td>[False, True, True]</td>\n      <td>0.363944</td>\n      <td>False</td>\n    </tr>\n    <tr>\n      <th>827</th>\n      <td>7</td>\n      <td>1</td>\n      <td>1</td>\n      <td>ucb</td>\n      <td>moderate</td>\n      <td>7_1_1_20231113122228363656.png</td>\n      <td>[False, False]</td>\n      <td>0.019600</td>\n      <td>False</td>\n    </tr>\n    <tr>\n      <th>828</th>\n      <td>3</td>\n      <td>1</td>\n      <td>0</td>\n      <td>ucb</td>\n      <td>moderate</td>\n      <td>3_1_0_20231112181755955311.png</td>\n      <td>[False, False, False]</td>\n      <td>0.002744</td>\n      <td>False</td>\n    </tr>\n    <tr>\n      <th>829</th>\n      <td>1</td>\n      <td>0</td>\n      <td>0</td>\n      <td>ucb</td>\n      <td>accurate</td>\n      <td>1_0_0_20231111193156914470.png</td>\n      <td>[False, True]</td>\n      <td>0.260400</td>\n      <td>False</td>\n    </tr>\n    <tr>\n      <th>830</th>\n      <td>1</td>\n      <td>0</td>\n      <td>0</td>\n      <td>ucb</td>\n      <td>accurate</td>\n      <td>1_0_0_20231111193134797384.png</td>\n      <td>[False, True, True]</td>\n      <td>0.363944</td>\n      <td>False</td>\n    </tr>\n  </tbody>\n</table>\n<p>831 rows × 9 columns</p>\n</div>"
     },
     "execution_count": 58,
     "metadata": {},
     "output_type": "execute_result"
    }
   ],
   "source": [
    "df"
   ],
   "metadata": {
    "collapsed": false,
    "ExecuteTime": {
     "end_time": "2024-01-30T21:00:09.608487193Z",
     "start_time": "2024-01-30T21:00:09.594942889Z"
    }
   },
   "id": "bb761c3dd23eee1b"
  },
  {
   "cell_type": "code",
   "execution_count": 59,
   "outputs": [
    {
     "data": {
      "text/plain": "count      831\nunique       2\ntop       True\nfreq       626\nName: final-vote, dtype: object"
     },
     "execution_count": 59,
     "metadata": {},
     "output_type": "execute_result"
    }
   ],
   "source": [
    "df['final-vote'].describe()"
   ],
   "metadata": {
    "collapsed": false,
    "ExecuteTime": {
     "end_time": "2024-01-30T21:00:10.271349939Z",
     "start_time": "2024-01-30T21:00:10.263274199Z"
    }
   },
   "id": "f0f7d5ee54ee2b9a"
  },
  {
   "cell_type": "code",
   "execution_count": 60,
   "outputs": [
    {
     "data": {
      "text/plain": "0.753309265944645"
     },
     "execution_count": 60,
     "metadata": {},
     "output_type": "execute_result"
    }
   ],
   "source": [
    "(df['final-vote'] == True).mean()\n"
   ],
   "metadata": {
    "collapsed": false,
    "ExecuteTime": {
     "end_time": "2024-01-30T21:00:11.546493761Z",
     "start_time": "2024-01-30T21:00:11.532759088Z"
    }
   },
   "id": "c3001a0cff9eccb0"
  },
  {
   "cell_type": "code",
   "execution_count": 61,
   "outputs": [
    {
     "data": {
      "text/plain": "                     final-vote\nstrategy mask_level            \nnone     none          0.812500\nrandom   accurate      0.512500\n         imprecise     0.700000\n         moderate      0.700000\nsimilar  accurate      0.687500\n         imprecise     0.750000\n         moderate      0.675000\nucb      accurate      0.816327\n         imprecise     0.963855\n         moderate      0.877778",
      "text/html": "<div>\n<style scoped>\n    .dataframe tbody tr th:only-of-type {\n        vertical-align: middle;\n    }\n\n    .dataframe tbody tr th {\n        vertical-align: top;\n    }\n\n    .dataframe thead th {\n        text-align: right;\n    }\n</style>\n<table border=\"1\" class=\"dataframe\">\n  <thead>\n    <tr style=\"text-align: right;\">\n      <th></th>\n      <th></th>\n      <th>final-vote</th>\n    </tr>\n    <tr>\n      <th>strategy</th>\n      <th>mask_level</th>\n      <th></th>\n    </tr>\n  </thead>\n  <tbody>\n    <tr>\n      <th>none</th>\n      <th>none</th>\n      <td>0.812500</td>\n    </tr>\n    <tr>\n      <th rowspan=\"3\" valign=\"top\">random</th>\n      <th>accurate</th>\n      <td>0.512500</td>\n    </tr>\n    <tr>\n      <th>imprecise</th>\n      <td>0.700000</td>\n    </tr>\n    <tr>\n      <th>moderate</th>\n      <td>0.700000</td>\n    </tr>\n    <tr>\n      <th rowspan=\"3\" valign=\"top\">similar</th>\n      <th>accurate</th>\n      <td>0.687500</td>\n    </tr>\n    <tr>\n      <th>imprecise</th>\n      <td>0.750000</td>\n    </tr>\n    <tr>\n      <th>moderate</th>\n      <td>0.675000</td>\n    </tr>\n    <tr>\n      <th rowspan=\"3\" valign=\"top\">ucb</th>\n      <th>accurate</th>\n      <td>0.816327</td>\n    </tr>\n    <tr>\n      <th>imprecise</th>\n      <td>0.963855</td>\n    </tr>\n    <tr>\n      <th>moderate</th>\n      <td>0.877778</td>\n    </tr>\n  </tbody>\n</table>\n</div>"
     },
     "execution_count": 61,
     "metadata": {},
     "output_type": "execute_result"
    }
   ],
   "source": [
    "df.pivot_table(index=['strategy', 'mask_level'], values='final-vote', aggfunc='mean')"
   ],
   "metadata": {
    "collapsed": false,
    "ExecuteTime": {
     "end_time": "2024-01-30T21:00:13.582573190Z",
     "start_time": "2024-01-30T21:00:13.566381536Z"
    }
   },
   "id": "adf85078a554466d"
  },
  {
   "cell_type": "code",
   "execution_count": null,
   "outputs": [],
   "source": [],
   "metadata": {
    "collapsed": false
   },
   "id": "e0405c9f78bf5106"
  }
 ],
 "metadata": {
  "kernelspec": {
   "display_name": "Python 3",
   "language": "python",
   "name": "python3"
  },
  "language_info": {
   "codemirror_mode": {
    "name": "ipython",
    "version": 2
   },
   "file_extension": ".py",
   "mimetype": "text/x-python",
   "name": "python",
   "nbconvert_exporter": "python",
   "pygments_lexer": "ipython2",
   "version": "2.7.6"
  }
 },
 "nbformat": 4,
 "nbformat_minor": 5
}
