{
 "cells": [
  {
   "cell_type": "code",
   "execution_count": 1,
   "id": "initial_id",
   "metadata": {
    "collapsed": true,
    "ExecuteTime": {
     "end_time": "2024-01-31T05:18:15.713003107Z",
     "start_time": "2024-01-31T05:18:15.382633541Z"
    }
   },
   "outputs": [],
   "source": [
    "import pandas as pd"
   ]
  },
  {
   "cell_type": "code",
   "execution_count": 2,
   "outputs": [
    {
     "data": {
      "text/plain": "   age_group  gender  race     timestamp strategy mask_level  share_id  \\\n0          1       0     0  2.023091e+19  similar   accurate       0.0   \n1          1       0     0  2.023091e+19  similar   moderate       0.0   \n2          1       0     0  2.023091e+19  similar  imprecise       0.0   \n3          1       0     0  2.023091e+19  similar   accurate       1.0   \n4          1       0     0  2.023091e+19  similar   moderate       1.0   \n\n                                           filename  \\\n0   1_0_0_20230911103124160881_similar_accurate.png   \n1   1_0_0_20230911103141682049_similar_moderate.png   \n2  1_0_0_20230911103152978333_similar_imprecise.png   \n3   1_0_0_20230911103204288139_similar_accurate.png   \n4   1_0_0_20230911103217144559_similar_moderate.png   \n\n  human_evaluators_quality_test_votes                  prompt  \\\n0   [True, False, False, True, False]  white male preschooler   \n1                 [True, True, False]  white male preschooler   \n2                              [True]  white male preschooler   \n3                  [True, True, True]  white male preschooler   \n4                              [True]  white male preschooler   \n\n   human_evaluator_quality_test_final_vote  \n0                                    False  \n1                                     True  \n2                                     True  \n3                                     True  \n4                                     True  ",
      "text/html": "<div>\n<style scoped>\n    .dataframe tbody tr th:only-of-type {\n        vertical-align: middle;\n    }\n\n    .dataframe tbody tr th {\n        vertical-align: top;\n    }\n\n    .dataframe thead th {\n        text-align: right;\n    }\n</style>\n<table border=\"1\" class=\"dataframe\">\n  <thead>\n    <tr style=\"text-align: right;\">\n      <th></th>\n      <th>age_group</th>\n      <th>gender</th>\n      <th>race</th>\n      <th>timestamp</th>\n      <th>strategy</th>\n      <th>mask_level</th>\n      <th>share_id</th>\n      <th>filename</th>\n      <th>human_evaluators_quality_test_votes</th>\n      <th>prompt</th>\n      <th>human_evaluator_quality_test_final_vote</th>\n    </tr>\n  </thead>\n  <tbody>\n    <tr>\n      <th>0</th>\n      <td>1</td>\n      <td>0</td>\n      <td>0</td>\n      <td>2.023091e+19</td>\n      <td>similar</td>\n      <td>accurate</td>\n      <td>0.0</td>\n      <td>1_0_0_20230911103124160881_similar_accurate.png</td>\n      <td>[True, False, False, True, False]</td>\n      <td>white male preschooler</td>\n      <td>False</td>\n    </tr>\n    <tr>\n      <th>1</th>\n      <td>1</td>\n      <td>0</td>\n      <td>0</td>\n      <td>2.023091e+19</td>\n      <td>similar</td>\n      <td>moderate</td>\n      <td>0.0</td>\n      <td>1_0_0_20230911103141682049_similar_moderate.png</td>\n      <td>[True, True, False]</td>\n      <td>white male preschooler</td>\n      <td>True</td>\n    </tr>\n    <tr>\n      <th>2</th>\n      <td>1</td>\n      <td>0</td>\n      <td>0</td>\n      <td>2.023091e+19</td>\n      <td>similar</td>\n      <td>imprecise</td>\n      <td>0.0</td>\n      <td>1_0_0_20230911103152978333_similar_imprecise.png</td>\n      <td>[True]</td>\n      <td>white male preschooler</td>\n      <td>True</td>\n    </tr>\n    <tr>\n      <th>3</th>\n      <td>1</td>\n      <td>0</td>\n      <td>0</td>\n      <td>2.023091e+19</td>\n      <td>similar</td>\n      <td>accurate</td>\n      <td>1.0</td>\n      <td>1_0_0_20230911103204288139_similar_accurate.png</td>\n      <td>[True, True, True]</td>\n      <td>white male preschooler</td>\n      <td>True</td>\n    </tr>\n    <tr>\n      <th>4</th>\n      <td>1</td>\n      <td>0</td>\n      <td>0</td>\n      <td>2.023091e+19</td>\n      <td>similar</td>\n      <td>moderate</td>\n      <td>1.0</td>\n      <td>1_0_0_20230911103217144559_similar_moderate.png</td>\n      <td>[True]</td>\n      <td>white male preschooler</td>\n      <td>True</td>\n    </tr>\n  </tbody>\n</table>\n</div>"
     },
     "execution_count": 2,
     "metadata": {},
     "output_type": "execute_result"
    }
   ],
   "source": [
    "df = pd.read_csv(\"./utkface_all_generated.csv\")\n",
    "df.head()"
   ],
   "metadata": {
    "collapsed": false,
    "ExecuteTime": {
     "end_time": "2024-01-31T05:18:16.346870228Z",
     "start_time": "2024-01-31T05:18:16.318057007Z"
    }
   },
   "id": "ff407a74af3c3db4"
  },
  {
   "cell_type": "code",
   "execution_count": 3,
   "outputs": [
    {
     "data": {
      "text/plain": "0.8604091456077015"
     },
     "execution_count": 3,
     "metadata": {},
     "output_type": "execute_result"
    }
   ],
   "source": [
    "(df['human_evaluator_quality_test_final_vote'] == True).mean()"
   ],
   "metadata": {
    "collapsed": false,
    "ExecuteTime": {
     "end_time": "2024-01-23T21:55:53.279895135Z",
     "start_time": "2024-01-23T21:55:53.237777840Z"
    }
   },
   "id": "8d5589e4ad9dc627"
  },
  {
   "cell_type": "code",
   "execution_count": 4,
   "outputs": [
    {
     "data": {
      "text/plain": "                     human_evaluator_quality_test_final_vote\nstrategy mask_level                                         \nnone     none                                       0.925000\nrandom   accurate                                   0.675000\n         imprecise                                  0.875000\n         moderate                                   0.825000\nsimilar  accurate                                   0.875000\n         imprecise                                  0.862500\n         moderate                                   0.900000\nucb      accurate                                   0.816327\n         imprecise                                  0.963855\n         moderate                                   0.888889",
      "text/html": "<div>\n<style scoped>\n    .dataframe tbody tr th:only-of-type {\n        vertical-align: middle;\n    }\n\n    .dataframe tbody tr th {\n        vertical-align: top;\n    }\n\n    .dataframe thead th {\n        text-align: right;\n    }\n</style>\n<table border=\"1\" class=\"dataframe\">\n  <thead>\n    <tr style=\"text-align: right;\">\n      <th></th>\n      <th></th>\n      <th>human_evaluator_quality_test_final_vote</th>\n    </tr>\n    <tr>\n      <th>strategy</th>\n      <th>mask_level</th>\n      <th></th>\n    </tr>\n  </thead>\n  <tbody>\n    <tr>\n      <th>none</th>\n      <th>none</th>\n      <td>0.925000</td>\n    </tr>\n    <tr>\n      <th rowspan=\"3\" valign=\"top\">random</th>\n      <th>accurate</th>\n      <td>0.675000</td>\n    </tr>\n    <tr>\n      <th>imprecise</th>\n      <td>0.875000</td>\n    </tr>\n    <tr>\n      <th>moderate</th>\n      <td>0.825000</td>\n    </tr>\n    <tr>\n      <th rowspan=\"3\" valign=\"top\">similar</th>\n      <th>accurate</th>\n      <td>0.875000</td>\n    </tr>\n    <tr>\n      <th>imprecise</th>\n      <td>0.862500</td>\n    </tr>\n    <tr>\n      <th>moderate</th>\n      <td>0.900000</td>\n    </tr>\n    <tr>\n      <th rowspan=\"3\" valign=\"top\">ucb</th>\n      <th>accurate</th>\n      <td>0.816327</td>\n    </tr>\n    <tr>\n      <th>imprecise</th>\n      <td>0.963855</td>\n    </tr>\n    <tr>\n      <th>moderate</th>\n      <td>0.888889</td>\n    </tr>\n  </tbody>\n</table>\n</div>"
     },
     "execution_count": 4,
     "metadata": {},
     "output_type": "execute_result"
    }
   ],
   "source": [
    "df.pivot_table(index=['strategy', 'mask_level'], values='human_evaluator_quality_test_final_vote', aggfunc='mean')"
   ],
   "metadata": {
    "collapsed": false,
    "ExecuteTime": {
     "end_time": "2024-01-23T21:56:19.519067052Z",
     "start_time": "2024-01-23T21:56:19.477345648Z"
    }
   },
   "id": "9b8f4323d4f42791"
  },
  {
   "cell_type": "code",
   "execution_count": 3,
   "outputs": [
    {
     "data": {
      "text/plain": "                                           filename  \\\n0    4_1_2_20230911121712798460_random_accurate.png   \n1   0_0_1_20230911114114779350_similar_accurate.png   \n2  6_1_3_20230911112122099637_similar_imprecise.png   \n3    2_1_1_20230911120526367667_random_moderate.png   \n4                    3_0_2_20231112181533824949.png   \n\n   auto_distribution_test_label_nu_0.4_kernel_rbf  \n0                                            True  \n1                                           False  \n2                                            True  \n3                                            True  \n4                                            True  ",
      "text/html": "<div>\n<style scoped>\n    .dataframe tbody tr th:only-of-type {\n        vertical-align: middle;\n    }\n\n    .dataframe tbody tr th {\n        vertical-align: top;\n    }\n\n    .dataframe thead th {\n        text-align: right;\n    }\n</style>\n<table border=\"1\" class=\"dataframe\">\n  <thead>\n    <tr style=\"text-align: right;\">\n      <th></th>\n      <th>filename</th>\n      <th>auto_distribution_test_label_nu_0.4_kernel_rbf</th>\n    </tr>\n  </thead>\n  <tbody>\n    <tr>\n      <th>0</th>\n      <td>4_1_2_20230911121712798460_random_accurate.png</td>\n      <td>True</td>\n    </tr>\n    <tr>\n      <th>1</th>\n      <td>0_0_1_20230911114114779350_similar_accurate.png</td>\n      <td>False</td>\n    </tr>\n    <tr>\n      <th>2</th>\n      <td>6_1_3_20230911112122099637_similar_imprecise.png</td>\n      <td>True</td>\n    </tr>\n    <tr>\n      <th>3</th>\n      <td>2_1_1_20230911120526367667_random_moderate.png</td>\n      <td>True</td>\n    </tr>\n    <tr>\n      <th>4</th>\n      <td>3_0_2_20231112181533824949.png</td>\n      <td>True</td>\n    </tr>\n  </tbody>\n</table>\n</div>"
     },
     "execution_count": 3,
     "metadata": {},
     "output_type": "execute_result"
    }
   ],
   "source": [
    "linear_1 = pd.read_csv(\"nu=0.2_kernel='linear'.csv\")\n",
    "linear_3 = pd.read_csv(\"nu=0.4_kernel='linear'.csv\")\n",
    "rbf_1 = pd.read_csv(\"nu=0.2_kernel='rbf'.csv\")\n",
    "rbf_3 = pd.read_csv(\"nu=0.4_kernel='rbf'.csv\")\n",
    "rbf_3.head()"
   ],
   "metadata": {
    "collapsed": false,
    "ExecuteTime": {
     "end_time": "2024-01-31T05:18:50.354968047Z",
     "start_time": "2024-01-31T05:18:50.311880479Z"
    }
   },
   "id": "74306e1f9cc7601"
  },
  {
   "cell_type": "code",
   "execution_count": 4,
   "outputs": [
    {
     "data": {
      "text/plain": "   age_group  gender  race     timestamp strategy mask_level  share_id  \\\n0          1       0     0  2.023091e+19  similar   accurate       0.0   \n1          1       0     0  2.023091e+19  similar   moderate       0.0   \n2          1       0     0  2.023091e+19  similar  imprecise       0.0   \n3          1       0     0  2.023091e+19  similar   accurate       1.0   \n4          1       0     0  2.023091e+19  similar   moderate       1.0   \n\n                                           filename  \\\n0   1_0_0_20230911103124160881_similar_accurate.png   \n1   1_0_0_20230911103141682049_similar_moderate.png   \n2  1_0_0_20230911103152978333_similar_imprecise.png   \n3   1_0_0_20230911103204288139_similar_accurate.png   \n4   1_0_0_20230911103217144559_similar_moderate.png   \n\n  human_evaluators_quality_test_votes                  prompt  \\\n0   [True, False, False, True, False]  white male preschooler   \n1                 [True, True, False]  white male preschooler   \n2                              [True]  white male preschooler   \n3                  [True, True, True]  white male preschooler   \n4                              [True]  white male preschooler   \n\n   human_evaluator_quality_test_final_vote  \\\n0                                    False   \n1                                     True   \n2                                     True   \n3                                     True   \n4                                     True   \n\n   auto_distribution_test_label_nu_0.2_kernel_linear  \\\n0                                               True   \n1                                              False   \n2                                               True   \n3                                              False   \n4                                               True   \n\n   auto_distribution_test_label_nu_0.4_kernel_linear  \\\n0                                              False   \n1                                              False   \n2                                               True   \n3                                              False   \n4                                              False   \n\n   auto_distribution_test_label_nu_0.2_kernel_rbf  \\\n0                                            True   \n1                                            True   \n2                                            True   \n3                                           False   \n4                                           False   \n\n   auto_distribution_test_label_nu_0.4_kernel_rbf  \n0                                            True  \n1                                           False  \n2                                            True  \n3                                           False  \n4                                           False  ",
      "text/html": "<div>\n<style scoped>\n    .dataframe tbody tr th:only-of-type {\n        vertical-align: middle;\n    }\n\n    .dataframe tbody tr th {\n        vertical-align: top;\n    }\n\n    .dataframe thead th {\n        text-align: right;\n    }\n</style>\n<table border=\"1\" class=\"dataframe\">\n  <thead>\n    <tr style=\"text-align: right;\">\n      <th></th>\n      <th>age_group</th>\n      <th>gender</th>\n      <th>race</th>\n      <th>timestamp</th>\n      <th>strategy</th>\n      <th>mask_level</th>\n      <th>share_id</th>\n      <th>filename</th>\n      <th>human_evaluators_quality_test_votes</th>\n      <th>prompt</th>\n      <th>human_evaluator_quality_test_final_vote</th>\n      <th>auto_distribution_test_label_nu_0.2_kernel_linear</th>\n      <th>auto_distribution_test_label_nu_0.4_kernel_linear</th>\n      <th>auto_distribution_test_label_nu_0.2_kernel_rbf</th>\n      <th>auto_distribution_test_label_nu_0.4_kernel_rbf</th>\n    </tr>\n  </thead>\n  <tbody>\n    <tr>\n      <th>0</th>\n      <td>1</td>\n      <td>0</td>\n      <td>0</td>\n      <td>2.023091e+19</td>\n      <td>similar</td>\n      <td>accurate</td>\n      <td>0.0</td>\n      <td>1_0_0_20230911103124160881_similar_accurate.png</td>\n      <td>[True, False, False, True, False]</td>\n      <td>white male preschooler</td>\n      <td>False</td>\n      <td>True</td>\n      <td>False</td>\n      <td>True</td>\n      <td>True</td>\n    </tr>\n    <tr>\n      <th>1</th>\n      <td>1</td>\n      <td>0</td>\n      <td>0</td>\n      <td>2.023091e+19</td>\n      <td>similar</td>\n      <td>moderate</td>\n      <td>0.0</td>\n      <td>1_0_0_20230911103141682049_similar_moderate.png</td>\n      <td>[True, True, False]</td>\n      <td>white male preschooler</td>\n      <td>True</td>\n      <td>False</td>\n      <td>False</td>\n      <td>True</td>\n      <td>False</td>\n    </tr>\n    <tr>\n      <th>2</th>\n      <td>1</td>\n      <td>0</td>\n      <td>0</td>\n      <td>2.023091e+19</td>\n      <td>similar</td>\n      <td>imprecise</td>\n      <td>0.0</td>\n      <td>1_0_0_20230911103152978333_similar_imprecise.png</td>\n      <td>[True]</td>\n      <td>white male preschooler</td>\n      <td>True</td>\n      <td>True</td>\n      <td>True</td>\n      <td>True</td>\n      <td>True</td>\n    </tr>\n    <tr>\n      <th>3</th>\n      <td>1</td>\n      <td>0</td>\n      <td>0</td>\n      <td>2.023091e+19</td>\n      <td>similar</td>\n      <td>accurate</td>\n      <td>1.0</td>\n      <td>1_0_0_20230911103204288139_similar_accurate.png</td>\n      <td>[True, True, True]</td>\n      <td>white male preschooler</td>\n      <td>True</td>\n      <td>False</td>\n      <td>False</td>\n      <td>False</td>\n      <td>False</td>\n    </tr>\n    <tr>\n      <th>4</th>\n      <td>1</td>\n      <td>0</td>\n      <td>0</td>\n      <td>2.023091e+19</td>\n      <td>similar</td>\n      <td>moderate</td>\n      <td>1.0</td>\n      <td>1_0_0_20230911103217144559_similar_moderate.png</td>\n      <td>[True]</td>\n      <td>white male preschooler</td>\n      <td>True</td>\n      <td>True</td>\n      <td>False</td>\n      <td>False</td>\n      <td>False</td>\n    </tr>\n  </tbody>\n</table>\n</div>"
     },
     "execution_count": 4,
     "metadata": {},
     "output_type": "execute_result"
    }
   ],
   "source": [
    "lin_1_merged = pd.merge(df, linear_1, on='filename', how='inner')\n",
    "lin_3_merged = pd.merge(lin_1_merged, linear_3, on='filename', how='inner')\n",
    "rbf_1_merged = pd.merge(lin_3_merged, rbf_1, on='filename', how='inner')\n",
    "merged = pd.merge(rbf_1_merged, rbf_3, on='filename', how='inner' )\n",
    "merged.head()"
   ],
   "metadata": {
    "collapsed": false,
    "ExecuteTime": {
     "end_time": "2024-01-31T05:18:53.933631323Z",
     "start_time": "2024-01-31T05:18:53.907560215Z"
    }
   },
   "id": "a3770e00865a5d4e"
  },
  {
   "cell_type": "code",
   "execution_count": 5,
   "outputs": [
    {
     "data": {
      "text/plain": "                     auto_distribution_test_label_nu_0.2_kernel_linear\nstrategy mask_level                                                   \nnone     none                                                 0.712500\nrandom   accurate                                             0.825000\n         imprecise                                            0.837500\n         moderate                                             0.837500\nsimilar  accurate                                             0.812500\n         imprecise                                            0.784810\n         moderate                                             0.762500\nucb      accurate                                             0.765306\n         imprecise                                            0.710843\n         moderate                                             0.788889",
      "text/html": "<div>\n<style scoped>\n    .dataframe tbody tr th:only-of-type {\n        vertical-align: middle;\n    }\n\n    .dataframe tbody tr th {\n        vertical-align: top;\n    }\n\n    .dataframe thead th {\n        text-align: right;\n    }\n</style>\n<table border=\"1\" class=\"dataframe\">\n  <thead>\n    <tr style=\"text-align: right;\">\n      <th></th>\n      <th></th>\n      <th>auto_distribution_test_label_nu_0.2_kernel_linear</th>\n    </tr>\n    <tr>\n      <th>strategy</th>\n      <th>mask_level</th>\n      <th></th>\n    </tr>\n  </thead>\n  <tbody>\n    <tr>\n      <th>none</th>\n      <th>none</th>\n      <td>0.712500</td>\n    </tr>\n    <tr>\n      <th rowspan=\"3\" valign=\"top\">random</th>\n      <th>accurate</th>\n      <td>0.825000</td>\n    </tr>\n    <tr>\n      <th>imprecise</th>\n      <td>0.837500</td>\n    </tr>\n    <tr>\n      <th>moderate</th>\n      <td>0.837500</td>\n    </tr>\n    <tr>\n      <th rowspan=\"3\" valign=\"top\">similar</th>\n      <th>accurate</th>\n      <td>0.812500</td>\n    </tr>\n    <tr>\n      <th>imprecise</th>\n      <td>0.784810</td>\n    </tr>\n    <tr>\n      <th>moderate</th>\n      <td>0.762500</td>\n    </tr>\n    <tr>\n      <th rowspan=\"3\" valign=\"top\">ucb</th>\n      <th>accurate</th>\n      <td>0.765306</td>\n    </tr>\n    <tr>\n      <th>imprecise</th>\n      <td>0.710843</td>\n    </tr>\n    <tr>\n      <th>moderate</th>\n      <td>0.788889</td>\n    </tr>\n  </tbody>\n</table>\n</div>"
     },
     "execution_count": 5,
     "metadata": {},
     "output_type": "execute_result"
    }
   ],
   "source": [
    "merged.pivot_table(index=['strategy', 'mask_level'], values='auto_distribution_test_label_nu_0.2_kernel_linear', aggfunc='mean')"
   ],
   "metadata": {
    "collapsed": false,
    "ExecuteTime": {
     "end_time": "2024-01-31T05:19:04.621027367Z",
     "start_time": "2024-01-31T05:19:04.605745346Z"
    }
   },
   "id": "f35608cd4256786d"
  },
  {
   "cell_type": "code",
   "execution_count": 6,
   "outputs": [
    {
     "data": {
      "text/plain": "                     auto_distribution_test_label_nu_0.4_kernel_linear\nstrategy mask_level                                                   \nnone     none                                                 0.400000\nrandom   accurate                                             0.662500\n         imprecise                                            0.600000\n         moderate                                             0.675000\nsimilar  accurate                                             0.512500\n         imprecise                                            0.506329\n         moderate                                             0.512500\nucb      accurate                                             0.489796\n         imprecise                                            0.554217\n         moderate                                             0.600000",
      "text/html": "<div>\n<style scoped>\n    .dataframe tbody tr th:only-of-type {\n        vertical-align: middle;\n    }\n\n    .dataframe tbody tr th {\n        vertical-align: top;\n    }\n\n    .dataframe thead th {\n        text-align: right;\n    }\n</style>\n<table border=\"1\" class=\"dataframe\">\n  <thead>\n    <tr style=\"text-align: right;\">\n      <th></th>\n      <th></th>\n      <th>auto_distribution_test_label_nu_0.4_kernel_linear</th>\n    </tr>\n    <tr>\n      <th>strategy</th>\n      <th>mask_level</th>\n      <th></th>\n    </tr>\n  </thead>\n  <tbody>\n    <tr>\n      <th>none</th>\n      <th>none</th>\n      <td>0.400000</td>\n    </tr>\n    <tr>\n      <th rowspan=\"3\" valign=\"top\">random</th>\n      <th>accurate</th>\n      <td>0.662500</td>\n    </tr>\n    <tr>\n      <th>imprecise</th>\n      <td>0.600000</td>\n    </tr>\n    <tr>\n      <th>moderate</th>\n      <td>0.675000</td>\n    </tr>\n    <tr>\n      <th rowspan=\"3\" valign=\"top\">similar</th>\n      <th>accurate</th>\n      <td>0.512500</td>\n    </tr>\n    <tr>\n      <th>imprecise</th>\n      <td>0.506329</td>\n    </tr>\n    <tr>\n      <th>moderate</th>\n      <td>0.512500</td>\n    </tr>\n    <tr>\n      <th rowspan=\"3\" valign=\"top\">ucb</th>\n      <th>accurate</th>\n      <td>0.489796</td>\n    </tr>\n    <tr>\n      <th>imprecise</th>\n      <td>0.554217</td>\n    </tr>\n    <tr>\n      <th>moderate</th>\n      <td>0.600000</td>\n    </tr>\n  </tbody>\n</table>\n</div>"
     },
     "execution_count": 6,
     "metadata": {},
     "output_type": "execute_result"
    }
   ],
   "source": [
    "merged.pivot_table(index=['strategy', 'mask_level'], values='auto_distribution_test_label_nu_0.4_kernel_linear', aggfunc='mean')"
   ],
   "metadata": {
    "collapsed": false,
    "ExecuteTime": {
     "end_time": "2024-01-31T05:19:14.422967349Z",
     "start_time": "2024-01-31T05:19:14.398487716Z"
    }
   },
   "id": "61758107431d6f56"
  },
  {
   "cell_type": "code",
   "execution_count": 7,
   "outputs": [
    {
     "data": {
      "text/plain": "                     auto_distribution_test_label_nu_0.2_kernel_rbf\nstrategy mask_level                                                \nnone     none                                              0.687500\nrandom   accurate                                          0.837500\n         imprecise                                         0.787500\n         moderate                                          0.762500\nsimilar  accurate                                          0.775000\n         imprecise                                         0.645570\n         moderate                                          0.687500\nucb      accurate                                          0.724490\n         imprecise                                         0.746988\n         moderate                                          0.700000",
      "text/html": "<div>\n<style scoped>\n    .dataframe tbody tr th:only-of-type {\n        vertical-align: middle;\n    }\n\n    .dataframe tbody tr th {\n        vertical-align: top;\n    }\n\n    .dataframe thead th {\n        text-align: right;\n    }\n</style>\n<table border=\"1\" class=\"dataframe\">\n  <thead>\n    <tr style=\"text-align: right;\">\n      <th></th>\n      <th></th>\n      <th>auto_distribution_test_label_nu_0.2_kernel_rbf</th>\n    </tr>\n    <tr>\n      <th>strategy</th>\n      <th>mask_level</th>\n      <th></th>\n    </tr>\n  </thead>\n  <tbody>\n    <tr>\n      <th>none</th>\n      <th>none</th>\n      <td>0.687500</td>\n    </tr>\n    <tr>\n      <th rowspan=\"3\" valign=\"top\">random</th>\n      <th>accurate</th>\n      <td>0.837500</td>\n    </tr>\n    <tr>\n      <th>imprecise</th>\n      <td>0.787500</td>\n    </tr>\n    <tr>\n      <th>moderate</th>\n      <td>0.762500</td>\n    </tr>\n    <tr>\n      <th rowspan=\"3\" valign=\"top\">similar</th>\n      <th>accurate</th>\n      <td>0.775000</td>\n    </tr>\n    <tr>\n      <th>imprecise</th>\n      <td>0.645570</td>\n    </tr>\n    <tr>\n      <th>moderate</th>\n      <td>0.687500</td>\n    </tr>\n    <tr>\n      <th rowspan=\"3\" valign=\"top\">ucb</th>\n      <th>accurate</th>\n      <td>0.724490</td>\n    </tr>\n    <tr>\n      <th>imprecise</th>\n      <td>0.746988</td>\n    </tr>\n    <tr>\n      <th>moderate</th>\n      <td>0.700000</td>\n    </tr>\n  </tbody>\n</table>\n</div>"
     },
     "execution_count": 7,
     "metadata": {},
     "output_type": "execute_result"
    }
   ],
   "source": [
    "merged.pivot_table(index=['strategy', 'mask_level'], values='auto_distribution_test_label_nu_0.2_kernel_rbf', aggfunc='mean')"
   ],
   "metadata": {
    "collapsed": false,
    "ExecuteTime": {
     "end_time": "2024-01-31T05:20:37.253251750Z",
     "start_time": "2024-01-31T05:20:37.212248283Z"
    }
   },
   "id": "f7f3804c1a25ee10"
  },
  {
   "cell_type": "code",
   "execution_count": 8,
   "outputs": [
    {
     "data": {
      "text/plain": "                     auto_distribution_test_label_nu_0.4_kernel_rbf\nstrategy mask_level                                                \nnone     none                                              0.337500\nrandom   accurate                                          0.612500\n         imprecise                                         0.487500\n         moderate                                          0.587500\nsimilar  accurate                                          0.587500\n         imprecise                                         0.468354\n         moderate                                          0.437500\nucb      accurate                                          0.418367\n         imprecise                                         0.409639\n         moderate                                          0.477778",
      "text/html": "<div>\n<style scoped>\n    .dataframe tbody tr th:only-of-type {\n        vertical-align: middle;\n    }\n\n    .dataframe tbody tr th {\n        vertical-align: top;\n    }\n\n    .dataframe thead th {\n        text-align: right;\n    }\n</style>\n<table border=\"1\" class=\"dataframe\">\n  <thead>\n    <tr style=\"text-align: right;\">\n      <th></th>\n      <th></th>\n      <th>auto_distribution_test_label_nu_0.4_kernel_rbf</th>\n    </tr>\n    <tr>\n      <th>strategy</th>\n      <th>mask_level</th>\n      <th></th>\n    </tr>\n  </thead>\n  <tbody>\n    <tr>\n      <th>none</th>\n      <th>none</th>\n      <td>0.337500</td>\n    </tr>\n    <tr>\n      <th rowspan=\"3\" valign=\"top\">random</th>\n      <th>accurate</th>\n      <td>0.612500</td>\n    </tr>\n    <tr>\n      <th>imprecise</th>\n      <td>0.487500</td>\n    </tr>\n    <tr>\n      <th>moderate</th>\n      <td>0.587500</td>\n    </tr>\n    <tr>\n      <th rowspan=\"3\" valign=\"top\">similar</th>\n      <th>accurate</th>\n      <td>0.587500</td>\n    </tr>\n    <tr>\n      <th>imprecise</th>\n      <td>0.468354</td>\n    </tr>\n    <tr>\n      <th>moderate</th>\n      <td>0.437500</td>\n    </tr>\n    <tr>\n      <th rowspan=\"3\" valign=\"top\">ucb</th>\n      <th>accurate</th>\n      <td>0.418367</td>\n    </tr>\n    <tr>\n      <th>imprecise</th>\n      <td>0.409639</td>\n    </tr>\n    <tr>\n      <th>moderate</th>\n      <td>0.477778</td>\n    </tr>\n  </tbody>\n</table>\n</div>"
     },
     "execution_count": 8,
     "metadata": {},
     "output_type": "execute_result"
    }
   ],
   "source": [
    "merged.pivot_table(index=['strategy', 'mask_level'], values='auto_distribution_test_label_nu_0.4_kernel_rbf', aggfunc='mean')"
   ],
   "metadata": {
    "collapsed": false,
    "ExecuteTime": {
     "end_time": "2024-01-31T05:20:41.528062332Z",
     "start_time": "2024-01-31T05:20:41.516114967Z"
    }
   },
   "id": "6ca0ccec4b8eff94"
  },
  {
   "cell_type": "code",
   "execution_count": null,
   "outputs": [],
   "source": [],
   "metadata": {
    "collapsed": false
   },
   "id": "818b153757fff96f"
  }
 ],
 "metadata": {
  "kernelspec": {
   "display_name": "Python 3",
   "language": "python",
   "name": "python3"
  },
  "language_info": {
   "codemirror_mode": {
    "name": "ipython",
    "version": 2
   },
   "file_extension": ".py",
   "mimetype": "text/x-python",
   "name": "python",
   "nbconvert_exporter": "python",
   "pygments_lexer": "ipython2",
   "version": "2.7.6"
  }
 },
 "nbformat": 4,
 "nbformat_minor": 5
}
