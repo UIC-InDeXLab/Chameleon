{
 "cells": [
  {
   "cell_type": "code",
   "execution_count": 1,
   "id": "initial_id",
   "metadata": {
    "collapsed": true,
    "ExecuteTime": {
     "end_time": "2023-09-25T03:49:24.890631228Z",
     "start_time": "2023-09-25T03:49:24.527437976Z"
    }
   },
   "outputs": [],
   "source": [
    "import pandas as pd "
   ]
  },
  {
   "cell_type": "code",
   "execution_count": 2,
   "outputs": [],
   "source": [
    "df = pd.read_csv(\"./b2.csv\")"
   ],
   "metadata": {
    "collapsed": false,
    "ExecuteTime": {
     "end_time": "2023-09-25T03:49:25.460513583Z",
     "start_time": "2023-09-25T03:49:25.446801749Z"
    }
   },
   "id": "80130dc248cb0e57"
  },
  {
   "cell_type": "code",
   "execution_count": 3,
   "outputs": [
    {
     "data": {
      "text/plain": "   age_group  gender  race             timestamp strategy mask_level  \\\n0          1       0     0  20230911103124160881  similar   accurate   \n1          1       0     0  20230911103141682049  similar   moderate   \n2          1       0     0  20230911103152978333  similar  imprecise   \n3          1       0     0  20230911103204288139  similar   accurate   \n4          1       0     0  20230911103217144559  similar   moderate   \n\n   share_id                                          filename  \\\n0         0   1_0_0_20230911103124160881_similar_accurate.png   \n1         0   1_0_0_20230911103141682049_similar_moderate.png   \n2         0  1_0_0_20230911103152978333_similar_imprecise.png   \n3         1   1_0_0_20230911103204288139_similar_accurate.png   \n4         1   1_0_0_20230911103217144559_similar_moderate.png   \n\n                            accepted                  prompt  \n0  [True, False, False, True, False]  white male preschooler  \n1                [True, True, False]  white male preschooler  \n2                             [True]  white male preschooler  \n3                 [True, True, True]  white male preschooler  \n4                             [True]  white male preschooler  ",
      "text/html": "<div>\n<style scoped>\n    .dataframe tbody tr th:only-of-type {\n        vertical-align: middle;\n    }\n\n    .dataframe tbody tr th {\n        vertical-align: top;\n    }\n\n    .dataframe thead th {\n        text-align: right;\n    }\n</style>\n<table border=\"1\" class=\"dataframe\">\n  <thead>\n    <tr style=\"text-align: right;\">\n      <th></th>\n      <th>age_group</th>\n      <th>gender</th>\n      <th>race</th>\n      <th>timestamp</th>\n      <th>strategy</th>\n      <th>mask_level</th>\n      <th>share_id</th>\n      <th>filename</th>\n      <th>accepted</th>\n      <th>prompt</th>\n    </tr>\n  </thead>\n  <tbody>\n    <tr>\n      <th>0</th>\n      <td>1</td>\n      <td>0</td>\n      <td>0</td>\n      <td>20230911103124160881</td>\n      <td>similar</td>\n      <td>accurate</td>\n      <td>0</td>\n      <td>1_0_0_20230911103124160881_similar_accurate.png</td>\n      <td>[True, False, False, True, False]</td>\n      <td>white male preschooler</td>\n    </tr>\n    <tr>\n      <th>1</th>\n      <td>1</td>\n      <td>0</td>\n      <td>0</td>\n      <td>20230911103141682049</td>\n      <td>similar</td>\n      <td>moderate</td>\n      <td>0</td>\n      <td>1_0_0_20230911103141682049_similar_moderate.png</td>\n      <td>[True, True, False]</td>\n      <td>white male preschooler</td>\n    </tr>\n    <tr>\n      <th>2</th>\n      <td>1</td>\n      <td>0</td>\n      <td>0</td>\n      <td>20230911103152978333</td>\n      <td>similar</td>\n      <td>imprecise</td>\n      <td>0</td>\n      <td>1_0_0_20230911103152978333_similar_imprecise.png</td>\n      <td>[True]</td>\n      <td>white male preschooler</td>\n    </tr>\n    <tr>\n      <th>3</th>\n      <td>1</td>\n      <td>0</td>\n      <td>0</td>\n      <td>20230911103204288139</td>\n      <td>similar</td>\n      <td>accurate</td>\n      <td>1</td>\n      <td>1_0_0_20230911103204288139_similar_accurate.png</td>\n      <td>[True, True, True]</td>\n      <td>white male preschooler</td>\n    </tr>\n    <tr>\n      <th>4</th>\n      <td>1</td>\n      <td>0</td>\n      <td>0</td>\n      <td>20230911103217144559</td>\n      <td>similar</td>\n      <td>moderate</td>\n      <td>1</td>\n      <td>1_0_0_20230911103217144559_similar_moderate.png</td>\n      <td>[True]</td>\n      <td>white male preschooler</td>\n    </tr>\n  </tbody>\n</table>\n</div>"
     },
     "execution_count": 3,
     "metadata": {},
     "output_type": "execute_result"
    }
   ],
   "source": [
    "df.head()"
   ],
   "metadata": {
    "collapsed": false,
    "ExecuteTime": {
     "end_time": "2023-09-25T03:49:26.260198406Z",
     "start_time": "2023-09-25T03:49:26.214031257Z"
    }
   },
   "id": "628cba64cdce91e8"
  },
  {
   "cell_type": "code",
   "execution_count": 4,
   "outputs": [],
   "source": [
    "def find_majority_vote(votes): \n",
    "    true_count = sum(votes)\n",
    "    false_count = len(votes) - true_count\n",
    "    \n",
    "    if true_count > false_count:\n",
    "        return True\n",
    "    elif false_count > true_count:\n",
    "        return False\n",
    "    else:\n",
    "        return None        "
   ],
   "metadata": {
    "collapsed": false,
    "ExecuteTime": {
     "end_time": "2023-09-25T03:49:27.183137583Z",
     "start_time": "2023-09-25T03:49:27.160265845Z"
    }
   },
   "id": "8c8d1e631116b7af"
  },
  {
   "cell_type": "code",
   "execution_count": 5,
   "outputs": [],
   "source": [
    "df['accepted'] = df['accepted'].apply(eval)"
   ],
   "metadata": {
    "collapsed": false,
    "ExecuteTime": {
     "end_time": "2023-09-25T03:49:27.783941215Z",
     "start_time": "2023-09-25T03:49:27.773290861Z"
    }
   },
   "id": "7ff78c7a93440597"
  },
  {
   "cell_type": "code",
   "execution_count": 6,
   "outputs": [],
   "source": [
    "df['majority_vote'] = df['accepted'].apply(find_majority_vote)"
   ],
   "metadata": {
    "collapsed": false,
    "ExecuteTime": {
     "end_time": "2023-09-25T03:49:28.448622605Z",
     "start_time": "2023-09-25T03:49:28.443711329Z"
    }
   },
   "id": "bc36388ccd4b4bed"
  },
  {
   "cell_type": "code",
   "execution_count": 7,
   "outputs": [
    {
     "data": {
      "text/plain": "     age_group  gender  race             timestamp strategy mask_level  \\\n0            1       0     0  20230911103124160881  similar   accurate   \n1            1       0     0  20230911103141682049  similar   moderate   \n2            1       0     0  20230911103152978333  similar  imprecise   \n3            1       0     0  20230911103204288139  similar   accurate   \n4            1       0     0  20230911103217144559  similar   moderate   \n..         ...     ...   ...                   ...      ...        ...   \n555          0       0     1  20230911145734251234     none       none   \n556          0       1     3  20230911145847277247     none       none   \n557          0       1     3  20230911145854375543     none       none   \n558          0       1     3  20230911145901946571     none       none   \n559          0       1     3  20230911145908819038     none       none   \n\n     share_id                                          filename  \\\n0           0   1_0_0_20230911103124160881_similar_accurate.png   \n1           0   1_0_0_20230911103141682049_similar_moderate.png   \n2           0  1_0_0_20230911103152978333_similar_imprecise.png   \n3           1   1_0_0_20230911103204288139_similar_accurate.png   \n4           1   1_0_0_20230911103217144559_similar_moderate.png   \n..        ...                                               ...   \n555       235          0_0_1_20230911145734251234_none_none.png   \n556       236          0_1_3_20230911145847277247_none_none.png   \n557       237          0_1_3_20230911145854375543_none_none.png   \n558       238          0_1_3_20230911145901946571_none_none.png   \n559       239          0_1_3_20230911145908819038_none_none.png   \n\n                                  accepted                  prompt  \\\n0        [True, False, False, True, False]  white male preschooler   \n1                      [True, True, False]  white male preschooler   \n2                                   [True]  white male preschooler   \n3                       [True, True, True]  white male preschooler   \n4                                   [True]  white male preschooler   \n..                                     ...                     ...   \n555  [True, True, True, False, True, True]       black male infant   \n556                                 [True]    indian female infant   \n557               [True, True, True, True]    indian female infant   \n558               [True, True, True, True]    indian female infant   \n559                                 [True]    indian female infant   \n\n     majority_vote  \n0            False  \n1             True  \n2             True  \n3             True  \n4             True  \n..             ...  \n555           True  \n556           True  \n557           True  \n558           True  \n559           True  \n\n[560 rows x 11 columns]",
      "text/html": "<div>\n<style scoped>\n    .dataframe tbody tr th:only-of-type {\n        vertical-align: middle;\n    }\n\n    .dataframe tbody tr th {\n        vertical-align: top;\n    }\n\n    .dataframe thead th {\n        text-align: right;\n    }\n</style>\n<table border=\"1\" class=\"dataframe\">\n  <thead>\n    <tr style=\"text-align: right;\">\n      <th></th>\n      <th>age_group</th>\n      <th>gender</th>\n      <th>race</th>\n      <th>timestamp</th>\n      <th>strategy</th>\n      <th>mask_level</th>\n      <th>share_id</th>\n      <th>filename</th>\n      <th>accepted</th>\n      <th>prompt</th>\n      <th>majority_vote</th>\n    </tr>\n  </thead>\n  <tbody>\n    <tr>\n      <th>0</th>\n      <td>1</td>\n      <td>0</td>\n      <td>0</td>\n      <td>20230911103124160881</td>\n      <td>similar</td>\n      <td>accurate</td>\n      <td>0</td>\n      <td>1_0_0_20230911103124160881_similar_accurate.png</td>\n      <td>[True, False, False, True, False]</td>\n      <td>white male preschooler</td>\n      <td>False</td>\n    </tr>\n    <tr>\n      <th>1</th>\n      <td>1</td>\n      <td>0</td>\n      <td>0</td>\n      <td>20230911103141682049</td>\n      <td>similar</td>\n      <td>moderate</td>\n      <td>0</td>\n      <td>1_0_0_20230911103141682049_similar_moderate.png</td>\n      <td>[True, True, False]</td>\n      <td>white male preschooler</td>\n      <td>True</td>\n    </tr>\n    <tr>\n      <th>2</th>\n      <td>1</td>\n      <td>0</td>\n      <td>0</td>\n      <td>20230911103152978333</td>\n      <td>similar</td>\n      <td>imprecise</td>\n      <td>0</td>\n      <td>1_0_0_20230911103152978333_similar_imprecise.png</td>\n      <td>[True]</td>\n      <td>white male preschooler</td>\n      <td>True</td>\n    </tr>\n    <tr>\n      <th>3</th>\n      <td>1</td>\n      <td>0</td>\n      <td>0</td>\n      <td>20230911103204288139</td>\n      <td>similar</td>\n      <td>accurate</td>\n      <td>1</td>\n      <td>1_0_0_20230911103204288139_similar_accurate.png</td>\n      <td>[True, True, True]</td>\n      <td>white male preschooler</td>\n      <td>True</td>\n    </tr>\n    <tr>\n      <th>4</th>\n      <td>1</td>\n      <td>0</td>\n      <td>0</td>\n      <td>20230911103217144559</td>\n      <td>similar</td>\n      <td>moderate</td>\n      <td>1</td>\n      <td>1_0_0_20230911103217144559_similar_moderate.png</td>\n      <td>[True]</td>\n      <td>white male preschooler</td>\n      <td>True</td>\n    </tr>\n    <tr>\n      <th>...</th>\n      <td>...</td>\n      <td>...</td>\n      <td>...</td>\n      <td>...</td>\n      <td>...</td>\n      <td>...</td>\n      <td>...</td>\n      <td>...</td>\n      <td>...</td>\n      <td>...</td>\n      <td>...</td>\n    </tr>\n    <tr>\n      <th>555</th>\n      <td>0</td>\n      <td>0</td>\n      <td>1</td>\n      <td>20230911145734251234</td>\n      <td>none</td>\n      <td>none</td>\n      <td>235</td>\n      <td>0_0_1_20230911145734251234_none_none.png</td>\n      <td>[True, True, True, False, True, True]</td>\n      <td>black male infant</td>\n      <td>True</td>\n    </tr>\n    <tr>\n      <th>556</th>\n      <td>0</td>\n      <td>1</td>\n      <td>3</td>\n      <td>20230911145847277247</td>\n      <td>none</td>\n      <td>none</td>\n      <td>236</td>\n      <td>0_1_3_20230911145847277247_none_none.png</td>\n      <td>[True]</td>\n      <td>indian female infant</td>\n      <td>True</td>\n    </tr>\n    <tr>\n      <th>557</th>\n      <td>0</td>\n      <td>1</td>\n      <td>3</td>\n      <td>20230911145854375543</td>\n      <td>none</td>\n      <td>none</td>\n      <td>237</td>\n      <td>0_1_3_20230911145854375543_none_none.png</td>\n      <td>[True, True, True, True]</td>\n      <td>indian female infant</td>\n      <td>True</td>\n    </tr>\n    <tr>\n      <th>558</th>\n      <td>0</td>\n      <td>1</td>\n      <td>3</td>\n      <td>20230911145901946571</td>\n      <td>none</td>\n      <td>none</td>\n      <td>238</td>\n      <td>0_1_3_20230911145901946571_none_none.png</td>\n      <td>[True, True, True, True]</td>\n      <td>indian female infant</td>\n      <td>True</td>\n    </tr>\n    <tr>\n      <th>559</th>\n      <td>0</td>\n      <td>1</td>\n      <td>3</td>\n      <td>20230911145908819038</td>\n      <td>none</td>\n      <td>none</td>\n      <td>239</td>\n      <td>0_1_3_20230911145908819038_none_none.png</td>\n      <td>[True]</td>\n      <td>indian female infant</td>\n      <td>True</td>\n    </tr>\n  </tbody>\n</table>\n<p>560 rows × 11 columns</p>\n</div>"
     },
     "execution_count": 7,
     "metadata": {},
     "output_type": "execute_result"
    }
   ],
   "source": [
    "df"
   ],
   "metadata": {
    "collapsed": false,
    "ExecuteTime": {
     "end_time": "2023-09-25T03:49:28.879572720Z",
     "start_time": "2023-09-25T03:49:28.864289375Z"
    }
   },
   "id": "67fe21be57c0feec"
  },
  {
   "cell_type": "code",
   "execution_count": 8,
   "outputs": [
    {
     "data": {
      "text/plain": "Empty DataFrame\nColumns: [age_group, gender, race, timestamp, strategy, mask_level, share_id, filename, accepted, prompt, majority_vote]\nIndex: []",
      "text/html": "<div>\n<style scoped>\n    .dataframe tbody tr th:only-of-type {\n        vertical-align: middle;\n    }\n\n    .dataframe tbody tr th {\n        vertical-align: top;\n    }\n\n    .dataframe thead th {\n        text-align: right;\n    }\n</style>\n<table border=\"1\" class=\"dataframe\">\n  <thead>\n    <tr style=\"text-align: right;\">\n      <th></th>\n      <th>age_group</th>\n      <th>gender</th>\n      <th>race</th>\n      <th>timestamp</th>\n      <th>strategy</th>\n      <th>mask_level</th>\n      <th>share_id</th>\n      <th>filename</th>\n      <th>accepted</th>\n      <th>prompt</th>\n      <th>majority_vote</th>\n    </tr>\n  </thead>\n  <tbody>\n  </tbody>\n</table>\n</div>"
     },
     "execution_count": 8,
     "metadata": {},
     "output_type": "execute_result"
    }
   ],
   "source": [
    "df[df['majority_vote'].isna()]"
   ],
   "metadata": {
    "collapsed": false,
    "ExecuteTime": {
     "end_time": "2023-09-25T03:49:34.861577643Z",
     "start_time": "2023-09-25T03:49:34.847910904Z"
    }
   },
   "id": "1aa0d46e8c16bf2b"
  },
  {
   "cell_type": "code",
   "execution_count": 9,
   "outputs": [
    {
     "data": {
      "text/plain": "0.8482142857142857"
     },
     "execution_count": 9,
     "metadata": {},
     "output_type": "execute_result"
    }
   ],
   "source": [
    "(df['majority_vote'] == True).mean()"
   ],
   "metadata": {
    "collapsed": false,
    "ExecuteTime": {
     "end_time": "2023-09-25T03:49:36.089989055Z",
     "start_time": "2023-09-25T03:49:36.077336311Z"
    }
   },
   "id": "3a67818393534fac"
  },
  {
   "cell_type": "code",
   "execution_count": 10,
   "outputs": [
    {
     "data": {
      "text/plain": "                     majority_vote\nstrategy mask_level               \nnone     none               0.9250\nrandom   accurate           0.6750\n         imprecise          0.8750\n         moderate           0.8250\nsimilar  accurate           0.8750\n         imprecise          0.8625\n         moderate           0.9000",
      "text/html": "<div>\n<style scoped>\n    .dataframe tbody tr th:only-of-type {\n        vertical-align: middle;\n    }\n\n    .dataframe tbody tr th {\n        vertical-align: top;\n    }\n\n    .dataframe thead th {\n        text-align: right;\n    }\n</style>\n<table border=\"1\" class=\"dataframe\">\n  <thead>\n    <tr style=\"text-align: right;\">\n      <th></th>\n      <th></th>\n      <th>majority_vote</th>\n    </tr>\n    <tr>\n      <th>strategy</th>\n      <th>mask_level</th>\n      <th></th>\n    </tr>\n  </thead>\n  <tbody>\n    <tr>\n      <th>none</th>\n      <th>none</th>\n      <td>0.9250</td>\n    </tr>\n    <tr>\n      <th rowspan=\"3\" valign=\"top\">random</th>\n      <th>accurate</th>\n      <td>0.6750</td>\n    </tr>\n    <tr>\n      <th>imprecise</th>\n      <td>0.8750</td>\n    </tr>\n    <tr>\n      <th>moderate</th>\n      <td>0.8250</td>\n    </tr>\n    <tr>\n      <th rowspan=\"3\" valign=\"top\">similar</th>\n      <th>accurate</th>\n      <td>0.8750</td>\n    </tr>\n    <tr>\n      <th>imprecise</th>\n      <td>0.8625</td>\n    </tr>\n    <tr>\n      <th>moderate</th>\n      <td>0.9000</td>\n    </tr>\n  </tbody>\n</table>\n</div>"
     },
     "execution_count": 10,
     "metadata": {},
     "output_type": "execute_result"
    }
   ],
   "source": [
    "df.pivot_table(index=['strategy', 'mask_level'], values='majority_vote', aggfunc='mean')"
   ],
   "metadata": {
    "collapsed": false,
    "ExecuteTime": {
     "end_time": "2023-09-25T03:49:39.453476427Z",
     "start_time": "2023-09-25T03:49:39.435894267Z"
    }
   },
   "id": "561107e8a6951f93"
  },
  {
   "cell_type": "code",
   "execution_count": 11,
   "outputs": [
    {
     "data": {
      "text/plain": "                     majority_vote\nstrategy mask_level               \nnone     none                   80\nrandom   accurate               80\n         imprecise              80\n         moderate               80\nsimilar  accurate               80\n         imprecise              80\n         moderate               80",
      "text/html": "<div>\n<style scoped>\n    .dataframe tbody tr th:only-of-type {\n        vertical-align: middle;\n    }\n\n    .dataframe tbody tr th {\n        vertical-align: top;\n    }\n\n    .dataframe thead th {\n        text-align: right;\n    }\n</style>\n<table border=\"1\" class=\"dataframe\">\n  <thead>\n    <tr style=\"text-align: right;\">\n      <th></th>\n      <th></th>\n      <th>majority_vote</th>\n    </tr>\n    <tr>\n      <th>strategy</th>\n      <th>mask_level</th>\n      <th></th>\n    </tr>\n  </thead>\n  <tbody>\n    <tr>\n      <th>none</th>\n      <th>none</th>\n      <td>80</td>\n    </tr>\n    <tr>\n      <th rowspan=\"3\" valign=\"top\">random</th>\n      <th>accurate</th>\n      <td>80</td>\n    </tr>\n    <tr>\n      <th>imprecise</th>\n      <td>80</td>\n    </tr>\n    <tr>\n      <th>moderate</th>\n      <td>80</td>\n    </tr>\n    <tr>\n      <th rowspan=\"3\" valign=\"top\">similar</th>\n      <th>accurate</th>\n      <td>80</td>\n    </tr>\n    <tr>\n      <th>imprecise</th>\n      <td>80</td>\n    </tr>\n    <tr>\n      <th>moderate</th>\n      <td>80</td>\n    </tr>\n  </tbody>\n</table>\n</div>"
     },
     "execution_count": 11,
     "metadata": {},
     "output_type": "execute_result"
    }
   ],
   "source": [
    "df.pivot_table(index=['strategy', 'mask_level'], values='majority_vote', aggfunc='count')\n"
   ],
   "metadata": {
    "collapsed": false,
    "ExecuteTime": {
     "end_time": "2023-09-25T03:49:43.190456395Z",
     "start_time": "2023-09-25T03:49:43.182366857Z"
    }
   },
   "id": "59f48b103596be1e"
  },
  {
   "cell_type": "code",
   "execution_count": 12,
   "outputs": [],
   "source": [
    "df.to_csv(\"output.csv\", index=False)"
   ],
   "metadata": {
    "collapsed": false,
    "ExecuteTime": {
     "end_time": "2023-09-25T03:51:02.637057512Z",
     "start_time": "2023-09-25T03:51:02.593641840Z"
    }
   },
   "id": "4270e0bb9dc3ef47"
  },
  {
   "cell_type": "code",
   "execution_count": null,
   "outputs": [],
   "source": [],
   "metadata": {
    "collapsed": false
   },
   "id": "1c0836d41fab4c4f"
  }
 ],
 "metadata": {
  "kernelspec": {
   "display_name": "Python 3",
   "language": "python",
   "name": "python3"
  },
  "language_info": {
   "codemirror_mode": {
    "name": "ipython",
    "version": 2
   },
   "file_extension": ".py",
   "mimetype": "text/x-python",
   "name": "python",
   "nbconvert_exporter": "python",
   "pygments_lexer": "ipython2",
   "version": "2.7.6"
  }
 },
 "nbformat": 4,
 "nbformat_minor": 5
}
