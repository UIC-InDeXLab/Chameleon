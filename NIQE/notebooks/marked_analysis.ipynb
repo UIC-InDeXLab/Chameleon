{
 "cells": [
  {
   "cell_type": "code",
   "execution_count": 1,
   "id": "initial_id",
   "metadata": {
    "collapsed": true,
    "ExecuteTime": {
     "end_time": "2023-11-27T16:18:43.117464325Z",
     "start_time": "2023-11-27T16:18:43.112523988Z"
    }
   },
   "outputs": [],
   "source": [
    "import pandas as pd "
   ]
  },
  {
   "cell_type": "code",
   "execution_count": 2,
   "outputs": [],
   "source": [
    "df = pd.read_csv(\"../results.csv\")"
   ],
   "metadata": {
    "collapsed": false,
    "ExecuteTime": {
     "end_time": "2023-11-27T16:18:52.866228460Z",
     "start_time": "2023-11-27T16:18:52.843733500Z"
    }
   },
   "id": "80130dc248cb0e57"
  },
  {
   "cell_type": "code",
   "execution_count": 3,
   "outputs": [
    {
     "data": {
      "text/plain": "                      filename   marked\n0  5_0_2_20170116173434115.png  [False]\n1  5_0_3_20170119201947413.png  [False]\n2  5_0_0_20170117180833219.png   [True]\n3  5_0_0_20170117190708466.png  [False]\n4  5_0_3_20170119183728238.png  [False]",
      "text/html": "<div>\n<style scoped>\n    .dataframe tbody tr th:only-of-type {\n        vertical-align: middle;\n    }\n\n    .dataframe tbody tr th {\n        vertical-align: top;\n    }\n\n    .dataframe thead th {\n        text-align: right;\n    }\n</style>\n<table border=\"1\" class=\"dataframe\">\n  <thead>\n    <tr style=\"text-align: right;\">\n      <th></th>\n      <th>filename</th>\n      <th>marked</th>\n    </tr>\n  </thead>\n  <tbody>\n    <tr>\n      <th>0</th>\n      <td>5_0_2_20170116173434115.png</td>\n      <td>[False]</td>\n    </tr>\n    <tr>\n      <th>1</th>\n      <td>5_0_3_20170119201947413.png</td>\n      <td>[False]</td>\n    </tr>\n    <tr>\n      <th>2</th>\n      <td>5_0_0_20170117180833219.png</td>\n      <td>[True]</td>\n    </tr>\n    <tr>\n      <th>3</th>\n      <td>5_0_0_20170117190708466.png</td>\n      <td>[False]</td>\n    </tr>\n    <tr>\n      <th>4</th>\n      <td>5_0_3_20170119183728238.png</td>\n      <td>[False]</td>\n    </tr>\n  </tbody>\n</table>\n</div>"
     },
     "execution_count": 3,
     "metadata": {},
     "output_type": "execute_result"
    }
   ],
   "source": [
    "df.head()"
   ],
   "metadata": {
    "collapsed": false,
    "ExecuteTime": {
     "end_time": "2023-11-27T16:18:53.628921147Z",
     "start_time": "2023-11-27T16:18:53.618167419Z"
    }
   },
   "id": "628cba64cdce91e8"
  },
  {
   "cell_type": "code",
   "execution_count": 4,
   "outputs": [],
   "source": [
    "def find_majority_vote(votes): \n",
    "    true_count = sum(votes)\n",
    "    false_count = len(votes) - true_count\n",
    "    \n",
    "    if true_count > false_count:\n",
    "        return True\n",
    "    elif false_count > true_count:\n",
    "        return False\n",
    "    else:\n",
    "        return None        "
   ],
   "metadata": {
    "collapsed": false,
    "ExecuteTime": {
     "end_time": "2023-11-27T16:19:03.826166557Z",
     "start_time": "2023-11-27T16:19:03.811219716Z"
    }
   },
   "id": "8c8d1e631116b7af"
  },
  {
   "cell_type": "code",
   "execution_count": 5,
   "outputs": [],
   "source": [
    "df['marked'] = df['marked'].apply(eval)"
   ],
   "metadata": {
    "collapsed": false,
    "ExecuteTime": {
     "end_time": "2023-11-27T16:19:31.590301949Z",
     "start_time": "2023-11-27T16:19:31.549228476Z"
    }
   },
   "id": "7ff78c7a93440597"
  },
  {
   "cell_type": "code",
   "execution_count": 6,
   "outputs": [],
   "source": [
    "df['majority_vote'] = df['marked'].apply(find_majority_vote)"
   ],
   "metadata": {
    "collapsed": false,
    "ExecuteTime": {
     "end_time": "2023-11-27T16:19:35.013906806Z",
     "start_time": "2023-11-27T16:19:35.004323903Z"
    }
   },
   "id": "bc36388ccd4b4bed"
  },
  {
   "cell_type": "code",
   "execution_count": 7,
   "outputs": [
    {
     "data": {
      "text/plain": "                         filename   marked majority_vote\n0     5_0_2_20170116173434115.png  [False]         False\n1     5_0_3_20170119201947413.png  [False]         False\n2     5_0_0_20170117180833219.png   [True]          True\n3     5_0_0_20170117190708466.png  [False]         False\n4     5_0_3_20170119183728238.png  [False]         False\n...                           ...      ...           ...\n1173  5_0_0_20170105164133579.png  [False]         False\n1174  5_0_0_20170117142934426.png   [True]          True\n1175  0_1_0_20170109193334553.png  [False]         False\n1176  5_0_3_20170119180509236.png  [False]         False\n1177  5_1_1_20170113012901907.png  [False]         False\n\n[1178 rows x 3 columns]",
      "text/html": "<div>\n<style scoped>\n    .dataframe tbody tr th:only-of-type {\n        vertical-align: middle;\n    }\n\n    .dataframe tbody tr th {\n        vertical-align: top;\n    }\n\n    .dataframe thead th {\n        text-align: right;\n    }\n</style>\n<table border=\"1\" class=\"dataframe\">\n  <thead>\n    <tr style=\"text-align: right;\">\n      <th></th>\n      <th>filename</th>\n      <th>marked</th>\n      <th>majority_vote</th>\n    </tr>\n  </thead>\n  <tbody>\n    <tr>\n      <th>0</th>\n      <td>5_0_2_20170116173434115.png</td>\n      <td>[False]</td>\n      <td>False</td>\n    </tr>\n    <tr>\n      <th>1</th>\n      <td>5_0_3_20170119201947413.png</td>\n      <td>[False]</td>\n      <td>False</td>\n    </tr>\n    <tr>\n      <th>2</th>\n      <td>5_0_0_20170117180833219.png</td>\n      <td>[True]</td>\n      <td>True</td>\n    </tr>\n    <tr>\n      <th>3</th>\n      <td>5_0_0_20170117190708466.png</td>\n      <td>[False]</td>\n      <td>False</td>\n    </tr>\n    <tr>\n      <th>4</th>\n      <td>5_0_3_20170119183728238.png</td>\n      <td>[False]</td>\n      <td>False</td>\n    </tr>\n    <tr>\n      <th>...</th>\n      <td>...</td>\n      <td>...</td>\n      <td>...</td>\n    </tr>\n    <tr>\n      <th>1173</th>\n      <td>5_0_0_20170105164133579.png</td>\n      <td>[False]</td>\n      <td>False</td>\n    </tr>\n    <tr>\n      <th>1174</th>\n      <td>5_0_0_20170117142934426.png</td>\n      <td>[True]</td>\n      <td>True</td>\n    </tr>\n    <tr>\n      <th>1175</th>\n      <td>0_1_0_20170109193334553.png</td>\n      <td>[False]</td>\n      <td>False</td>\n    </tr>\n    <tr>\n      <th>1176</th>\n      <td>5_0_3_20170119180509236.png</td>\n      <td>[False]</td>\n      <td>False</td>\n    </tr>\n    <tr>\n      <th>1177</th>\n      <td>5_1_1_20170113012901907.png</td>\n      <td>[False]</td>\n      <td>False</td>\n    </tr>\n  </tbody>\n</table>\n<p>1178 rows × 3 columns</p>\n</div>"
     },
     "execution_count": 7,
     "metadata": {},
     "output_type": "execute_result"
    }
   ],
   "source": [
    "df"
   ],
   "metadata": {
    "collapsed": false,
    "ExecuteTime": {
     "end_time": "2023-11-27T16:19:35.567494471Z",
     "start_time": "2023-11-27T16:19:35.555059170Z"
    }
   },
   "id": "67fe21be57c0feec"
  },
  {
   "cell_type": "code",
   "execution_count": 8,
   "outputs": [
    {
     "data": {
      "text/plain": "                                              filename  \\\n25                      2_1_1_20231111194020956812.png   \n34                      3_1_0_20231111194616472146.png   \n74                         4_1_3_20170104231315881.png   \n114                     5_0_1_20231111195110498741.png   \n121    2_0_3_20230911103818994462_similar_moderate.png   \n141                     1_1_2_20231113141505936109.png   \n166     3_0_2_20230911120933484740_random_moderate.png   \n184    0_0_1_20230911114152086947_similar_accurate.png   \n185           0_1_3_20230911145908819038_none_none.png   \n200     5_0_1_20230911122028994966_random_moderate.png   \n202    3_0_2_20230911105006592220_similar_moderate.png   \n273                     0_0_1_20231113154325301947.png   \n309    4_0_3_20230911105742515070_similar_moderate.png   \n403                     5_0_1_20231111195241778835.png   \n419                        5_0_0_20170116203116520.png   \n421                     4_1_2_20231113142913646113.png   \n443                     5_0_1_20231111195337181186.png   \n501                        5_0_3_20170117134903926.png   \n598           0_0_1_20230911145734251234_none_none.png   \n632                     3_0_2_20231112181513372106.png   \n741                        2_1_0_20170109203602997.png   \n751    0_0_1_20230911114322485595_similar_moderate.png   \n767                     2_0_3_20231111193717106519.png   \n811   2_1_1_20230911104458132951_similar_imprecise.png   \n815                     2_0_3_20231111193917969119.png   \n821                        0_1_2_20161219221243095.png   \n1087                    3_0_2_20231113142054619489.png   \n\n                          marked majority_vote  \n25                 [False, True]          None  \n34                 [True, False]          None  \n74                 [False, True]          None  \n114                [False, True]          None  \n121                [True, False]          None  \n141                [False, True]          None  \n166                [False, True]          None  \n184   [True, False, False, True]          None  \n185                [True, False]          None  \n200                [False, True]          None  \n202                [False, True]          None  \n273                [False, True]          None  \n309                [True, False]          None  \n403                [True, False]          None  \n419                [False, True]          None  \n421                [False, True]          None  \n443                [False, True]          None  \n501                [True, False]          None  \n598                [False, True]          None  \n632                [True, False]          None  \n741                [False, True]          None  \n751                [True, False]          None  \n767                [False, True]          None  \n811                [False, True]          None  \n815                [True, False]          None  \n821                [True, False]          None  \n1087               [True, False]          None  ",
      "text/html": "<div>\n<style scoped>\n    .dataframe tbody tr th:only-of-type {\n        vertical-align: middle;\n    }\n\n    .dataframe tbody tr th {\n        vertical-align: top;\n    }\n\n    .dataframe thead th {\n        text-align: right;\n    }\n</style>\n<table border=\"1\" class=\"dataframe\">\n  <thead>\n    <tr style=\"text-align: right;\">\n      <th></th>\n      <th>filename</th>\n      <th>marked</th>\n      <th>majority_vote</th>\n    </tr>\n  </thead>\n  <tbody>\n    <tr>\n      <th>25</th>\n      <td>2_1_1_20231111194020956812.png</td>\n      <td>[False, True]</td>\n      <td>None</td>\n    </tr>\n    <tr>\n      <th>34</th>\n      <td>3_1_0_20231111194616472146.png</td>\n      <td>[True, False]</td>\n      <td>None</td>\n    </tr>\n    <tr>\n      <th>74</th>\n      <td>4_1_3_20170104231315881.png</td>\n      <td>[False, True]</td>\n      <td>None</td>\n    </tr>\n    <tr>\n      <th>114</th>\n      <td>5_0_1_20231111195110498741.png</td>\n      <td>[False, True]</td>\n      <td>None</td>\n    </tr>\n    <tr>\n      <th>121</th>\n      <td>2_0_3_20230911103818994462_similar_moderate.png</td>\n      <td>[True, False]</td>\n      <td>None</td>\n    </tr>\n    <tr>\n      <th>141</th>\n      <td>1_1_2_20231113141505936109.png</td>\n      <td>[False, True]</td>\n      <td>None</td>\n    </tr>\n    <tr>\n      <th>166</th>\n      <td>3_0_2_20230911120933484740_random_moderate.png</td>\n      <td>[False, True]</td>\n      <td>None</td>\n    </tr>\n    <tr>\n      <th>184</th>\n      <td>0_0_1_20230911114152086947_similar_accurate.png</td>\n      <td>[True, False, False, True]</td>\n      <td>None</td>\n    </tr>\n    <tr>\n      <th>185</th>\n      <td>0_1_3_20230911145908819038_none_none.png</td>\n      <td>[True, False]</td>\n      <td>None</td>\n    </tr>\n    <tr>\n      <th>200</th>\n      <td>5_0_1_20230911122028994966_random_moderate.png</td>\n      <td>[False, True]</td>\n      <td>None</td>\n    </tr>\n    <tr>\n      <th>202</th>\n      <td>3_0_2_20230911105006592220_similar_moderate.png</td>\n      <td>[False, True]</td>\n      <td>None</td>\n    </tr>\n    <tr>\n      <th>273</th>\n      <td>0_0_1_20231113154325301947.png</td>\n      <td>[False, True]</td>\n      <td>None</td>\n    </tr>\n    <tr>\n      <th>309</th>\n      <td>4_0_3_20230911105742515070_similar_moderate.png</td>\n      <td>[True, False]</td>\n      <td>None</td>\n    </tr>\n    <tr>\n      <th>403</th>\n      <td>5_0_1_20231111195241778835.png</td>\n      <td>[True, False]</td>\n      <td>None</td>\n    </tr>\n    <tr>\n      <th>419</th>\n      <td>5_0_0_20170116203116520.png</td>\n      <td>[False, True]</td>\n      <td>None</td>\n    </tr>\n    <tr>\n      <th>421</th>\n      <td>4_1_2_20231113142913646113.png</td>\n      <td>[False, True]</td>\n      <td>None</td>\n    </tr>\n    <tr>\n      <th>443</th>\n      <td>5_0_1_20231111195337181186.png</td>\n      <td>[False, True]</td>\n      <td>None</td>\n    </tr>\n    <tr>\n      <th>501</th>\n      <td>5_0_3_20170117134903926.png</td>\n      <td>[True, False]</td>\n      <td>None</td>\n    </tr>\n    <tr>\n      <th>598</th>\n      <td>0_0_1_20230911145734251234_none_none.png</td>\n      <td>[False, True]</td>\n      <td>None</td>\n    </tr>\n    <tr>\n      <th>632</th>\n      <td>3_0_2_20231112181513372106.png</td>\n      <td>[True, False]</td>\n      <td>None</td>\n    </tr>\n    <tr>\n      <th>741</th>\n      <td>2_1_0_20170109203602997.png</td>\n      <td>[False, True]</td>\n      <td>None</td>\n    </tr>\n    <tr>\n      <th>751</th>\n      <td>0_0_1_20230911114322485595_similar_moderate.png</td>\n      <td>[True, False]</td>\n      <td>None</td>\n    </tr>\n    <tr>\n      <th>767</th>\n      <td>2_0_3_20231111193717106519.png</td>\n      <td>[False, True]</td>\n      <td>None</td>\n    </tr>\n    <tr>\n      <th>811</th>\n      <td>2_1_1_20230911104458132951_similar_imprecise.png</td>\n      <td>[False, True]</td>\n      <td>None</td>\n    </tr>\n    <tr>\n      <th>815</th>\n      <td>2_0_3_20231111193917969119.png</td>\n      <td>[True, False]</td>\n      <td>None</td>\n    </tr>\n    <tr>\n      <th>821</th>\n      <td>0_1_2_20161219221243095.png</td>\n      <td>[True, False]</td>\n      <td>None</td>\n    </tr>\n    <tr>\n      <th>1087</th>\n      <td>3_0_2_20231113142054619489.png</td>\n      <td>[True, False]</td>\n      <td>None</td>\n    </tr>\n  </tbody>\n</table>\n</div>"
     },
     "execution_count": 8,
     "metadata": {},
     "output_type": "execute_result"
    }
   ],
   "source": [
    "df[df['majority_vote'].isna()]"
   ],
   "metadata": {
    "collapsed": false,
    "ExecuteTime": {
     "end_time": "2023-11-27T16:30:41.899910820Z",
     "start_time": "2023-11-27T16:30:41.858809640Z"
    }
   },
   "id": "1aa0d46e8c16bf2b"
  },
  {
   "cell_type": "code",
   "execution_count": 9,
   "outputs": [
    {
     "data": {
      "text/plain": "0.20543293718166383"
     },
     "execution_count": 9,
     "metadata": {},
     "output_type": "execute_result"
    }
   ],
   "source": [
    "(df['majority_vote'] == True).mean()"
   ],
   "metadata": {
    "collapsed": false,
    "ExecuteTime": {
     "end_time": "2023-11-27T16:30:54.769516828Z",
     "start_time": "2023-11-27T16:30:54.758143761Z"
    }
   },
   "id": "3a67818393534fac"
  },
  {
   "cell_type": "code",
   "execution_count": 11,
   "outputs": [],
   "source": [
    "generated_df = pd.read_csv(\"../all_generated_accepted.csv\")"
   ],
   "metadata": {
    "collapsed": false,
    "ExecuteTime": {
     "end_time": "2023-11-27T16:32:16.246846230Z",
     "start_time": "2023-11-27T16:32:16.204702905Z"
    }
   },
   "id": "8093842e6f4d69d1"
  },
  {
   "cell_type": "code",
   "execution_count": 12,
   "outputs": [],
   "source": [
    "result_df = pd.merge(df, generated_df, on='filename', how='inner')"
   ],
   "metadata": {
    "collapsed": false,
    "ExecuteTime": {
     "end_time": "2023-11-27T16:33:52.740878215Z",
     "start_time": "2023-11-27T16:33:52.733805477Z"
    }
   },
   "id": "e35d5c95d11929a0"
  },
  {
   "cell_type": "code",
   "execution_count": 13,
   "outputs": [
    {
     "data": {
      "text/plain": "                                             filename          marked  \\\n0      2_0_3_20230911120210853472_random_moderate.png  [False, False]   \n1            3_0_2_20230911144537278144_none_none.png         [False]   \n2            5_0_1_20230911145227222515_none_none.png  [False, False]   \n3    0_1_3_20230911114505174947_similar_imprecise.png    [True, True]   \n4                      0_1_3_20231113154348106730.png         [False]   \n..                                                ...             ...   \n324          1_1_2_20230911144231176006_none_none.png         [False]   \n325    6_1_3_20230911123022171276_random_moderate.png         [False]   \n326                    4_1_2_20231111195003545690.png         [False]   \n327                    7_0_2_20231113122111398333.png          [True]   \n328                    7_1_1_20231113122614059419.png          [True]   \n\n    majority_vote  age_group  gender  race  is_generated mask_level strategy  \n0           False          2       0     3          True   moderate   random  \n1           False          3       0     2          True       none     none  \n2           False          5       0     1          True       none     none  \n3            True          0       1     3          True  imprecise  similar  \n4           False          0       1     3          True  imprecise      ucb  \n..            ...        ...     ...   ...           ...        ...      ...  \n324         False          1       1     2          True       none     none  \n325         False          6       1     3          True   moderate   random  \n326         False          4       1     2          True   accurate      ucb  \n327          True          7       0     2          True   moderate      ucb  \n328          True          7       1     1          True   moderate      ucb  \n\n[329 rows x 9 columns]",
      "text/html": "<div>\n<style scoped>\n    .dataframe tbody tr th:only-of-type {\n        vertical-align: middle;\n    }\n\n    .dataframe tbody tr th {\n        vertical-align: top;\n    }\n\n    .dataframe thead th {\n        text-align: right;\n    }\n</style>\n<table border=\"1\" class=\"dataframe\">\n  <thead>\n    <tr style=\"text-align: right;\">\n      <th></th>\n      <th>filename</th>\n      <th>marked</th>\n      <th>majority_vote</th>\n      <th>age_group</th>\n      <th>gender</th>\n      <th>race</th>\n      <th>is_generated</th>\n      <th>mask_level</th>\n      <th>strategy</th>\n    </tr>\n  </thead>\n  <tbody>\n    <tr>\n      <th>0</th>\n      <td>2_0_3_20230911120210853472_random_moderate.png</td>\n      <td>[False, False]</td>\n      <td>False</td>\n      <td>2</td>\n      <td>0</td>\n      <td>3</td>\n      <td>True</td>\n      <td>moderate</td>\n      <td>random</td>\n    </tr>\n    <tr>\n      <th>1</th>\n      <td>3_0_2_20230911144537278144_none_none.png</td>\n      <td>[False]</td>\n      <td>False</td>\n      <td>3</td>\n      <td>0</td>\n      <td>2</td>\n      <td>True</td>\n      <td>none</td>\n      <td>none</td>\n    </tr>\n    <tr>\n      <th>2</th>\n      <td>5_0_1_20230911145227222515_none_none.png</td>\n      <td>[False, False]</td>\n      <td>False</td>\n      <td>5</td>\n      <td>0</td>\n      <td>1</td>\n      <td>True</td>\n      <td>none</td>\n      <td>none</td>\n    </tr>\n    <tr>\n      <th>3</th>\n      <td>0_1_3_20230911114505174947_similar_imprecise.png</td>\n      <td>[True, True]</td>\n      <td>True</td>\n      <td>0</td>\n      <td>1</td>\n      <td>3</td>\n      <td>True</td>\n      <td>imprecise</td>\n      <td>similar</td>\n    </tr>\n    <tr>\n      <th>4</th>\n      <td>0_1_3_20231113154348106730.png</td>\n      <td>[False]</td>\n      <td>False</td>\n      <td>0</td>\n      <td>1</td>\n      <td>3</td>\n      <td>True</td>\n      <td>imprecise</td>\n      <td>ucb</td>\n    </tr>\n    <tr>\n      <th>...</th>\n      <td>...</td>\n      <td>...</td>\n      <td>...</td>\n      <td>...</td>\n      <td>...</td>\n      <td>...</td>\n      <td>...</td>\n      <td>...</td>\n      <td>...</td>\n    </tr>\n    <tr>\n      <th>324</th>\n      <td>1_1_2_20230911144231176006_none_none.png</td>\n      <td>[False]</td>\n      <td>False</td>\n      <td>1</td>\n      <td>1</td>\n      <td>2</td>\n      <td>True</td>\n      <td>none</td>\n      <td>none</td>\n    </tr>\n    <tr>\n      <th>325</th>\n      <td>6_1_3_20230911123022171276_random_moderate.png</td>\n      <td>[False]</td>\n      <td>False</td>\n      <td>6</td>\n      <td>1</td>\n      <td>3</td>\n      <td>True</td>\n      <td>moderate</td>\n      <td>random</td>\n    </tr>\n    <tr>\n      <th>326</th>\n      <td>4_1_2_20231111195003545690.png</td>\n      <td>[False]</td>\n      <td>False</td>\n      <td>4</td>\n      <td>1</td>\n      <td>2</td>\n      <td>True</td>\n      <td>accurate</td>\n      <td>ucb</td>\n    </tr>\n    <tr>\n      <th>327</th>\n      <td>7_0_2_20231113122111398333.png</td>\n      <td>[True]</td>\n      <td>True</td>\n      <td>7</td>\n      <td>0</td>\n      <td>2</td>\n      <td>True</td>\n      <td>moderate</td>\n      <td>ucb</td>\n    </tr>\n    <tr>\n      <th>328</th>\n      <td>7_1_1_20231113122614059419.png</td>\n      <td>[True]</td>\n      <td>True</td>\n      <td>7</td>\n      <td>1</td>\n      <td>1</td>\n      <td>True</td>\n      <td>moderate</td>\n      <td>ucb</td>\n    </tr>\n  </tbody>\n</table>\n<p>329 rows × 9 columns</p>\n</div>"
     },
     "execution_count": 13,
     "metadata": {},
     "output_type": "execute_result"
    }
   ],
   "source": [
    "result_df"
   ],
   "metadata": {
    "collapsed": false,
    "ExecuteTime": {
     "end_time": "2023-11-27T16:33:56.472237983Z",
     "start_time": "2023-11-27T16:33:56.465247626Z"
    }
   },
   "id": "a35b82bb24286057"
  },
  {
   "cell_type": "code",
   "execution_count": 15,
   "outputs": [
    {
     "data": {
      "text/plain": "0.24012158054711247"
     },
     "execution_count": 15,
     "metadata": {},
     "output_type": "execute_result"
    }
   ],
   "source": [
    "(result_df['majority_vote'] == True).mean()"
   ],
   "metadata": {
    "collapsed": false,
    "ExecuteTime": {
     "end_time": "2023-11-27T16:41:33.306146068Z",
     "start_time": "2023-11-27T16:41:33.294585585Z"
    }
   },
   "id": "55827ce67f78d4d4"
  },
  {
   "cell_type": "code",
   "execution_count": 14,
   "outputs": [
    {
     "data": {
      "text/plain": "                    majority_vote\nstrategy mask_level              \nnone     none             0.21875\nrandom   accurate        0.142857\n         imprecise       0.193548\n         moderate        0.451613\nsimilar  accurate        0.275862\n         imprecise       0.354839\n         moderate        0.307692\nucb      accurate        0.216216\n         imprecise        0.16129\n         moderate        0.236842",
      "text/html": "<div>\n<style scoped>\n    .dataframe tbody tr th:only-of-type {\n        vertical-align: middle;\n    }\n\n    .dataframe tbody tr th {\n        vertical-align: top;\n    }\n\n    .dataframe thead th {\n        text-align: right;\n    }\n</style>\n<table border=\"1\" class=\"dataframe\">\n  <thead>\n    <tr style=\"text-align: right;\">\n      <th></th>\n      <th></th>\n      <th>majority_vote</th>\n    </tr>\n    <tr>\n      <th>strategy</th>\n      <th>mask_level</th>\n      <th></th>\n    </tr>\n  </thead>\n  <tbody>\n    <tr>\n      <th>none</th>\n      <th>none</th>\n      <td>0.21875</td>\n    </tr>\n    <tr>\n      <th rowspan=\"3\" valign=\"top\">random</th>\n      <th>accurate</th>\n      <td>0.142857</td>\n    </tr>\n    <tr>\n      <th>imprecise</th>\n      <td>0.193548</td>\n    </tr>\n    <tr>\n      <th>moderate</th>\n      <td>0.451613</td>\n    </tr>\n    <tr>\n      <th rowspan=\"3\" valign=\"top\">similar</th>\n      <th>accurate</th>\n      <td>0.275862</td>\n    </tr>\n    <tr>\n      <th>imprecise</th>\n      <td>0.354839</td>\n    </tr>\n    <tr>\n      <th>moderate</th>\n      <td>0.307692</td>\n    </tr>\n    <tr>\n      <th rowspan=\"3\" valign=\"top\">ucb</th>\n      <th>accurate</th>\n      <td>0.216216</td>\n    </tr>\n    <tr>\n      <th>imprecise</th>\n      <td>0.16129</td>\n    </tr>\n    <tr>\n      <th>moderate</th>\n      <td>0.236842</td>\n    </tr>\n  </tbody>\n</table>\n</div>"
     },
     "execution_count": 14,
     "metadata": {},
     "output_type": "execute_result"
    }
   ],
   "source": [
    "result_df.pivot_table(index=['strategy', 'mask_level'], values='majority_vote', aggfunc='mean')"
   ],
   "metadata": {
    "collapsed": false,
    "ExecuteTime": {
     "end_time": "2023-11-27T16:34:39.422044363Z",
     "start_time": "2023-11-27T16:34:39.406212420Z"
    }
   },
   "id": "561107e8a6951f93"
  },
  {
   "cell_type": "code",
   "execution_count": 16,
   "outputs": [],
   "source": [
    "original_df = pd.read_csv(\"../original_images.csv\")"
   ],
   "metadata": {
    "collapsed": false,
    "ExecuteTime": {
     "end_time": "2023-11-27T16:42:27.423146460Z",
     "start_time": "2023-11-27T16:42:27.382756377Z"
    }
   },
   "id": "b295e509451070fe"
  },
  {
   "cell_type": "code",
   "execution_count": 17,
   "outputs": [],
   "source": [
    "original_result_df = pd.merge(df, original_df, on='filename', how='inner')"
   ],
   "metadata": {
    "collapsed": false,
    "ExecuteTime": {
     "end_time": "2023-11-27T16:42:56.712883351Z",
     "start_time": "2023-11-27T16:42:56.705308448Z"
    }
   },
   "id": "1c0836d41fab4c4f"
  },
  {
   "cell_type": "code",
   "execution_count": 18,
   "outputs": [
    {
     "data": {
      "text/plain": "                        filename   marked majority_vote  age_group  gender  \\\n0    5_0_2_20170116173434115.png  [False]         False          5       0   \n1    5_0_3_20170119201947413.png  [False]         False          5       0   \n2    5_0_0_20170117180833219.png   [True]          True          5       0   \n3    5_0_0_20170117190708466.png  [False]         False          5       0   \n4    5_0_3_20170119183728238.png  [False]         False          5       0   \n..                           ...      ...           ...        ...     ...   \n844  5_0_0_20170105164133579.png  [False]         False          5       0   \n845  5_0_0_20170117142934426.png   [True]          True          5       0   \n846  0_1_0_20170109193334553.png  [False]         False          0       1   \n847  5_0_3_20170119180509236.png  [False]         False          5       0   \n848  5_1_1_20170113012901907.png  [False]         False          5       1   \n\n     race  is_generated  \n0       2         False  \n1       3         False  \n2       0         False  \n3       0         False  \n4       3         False  \n..    ...           ...  \n844     0         False  \n845     0         False  \n846     0         False  \n847     3         False  \n848     1         False  \n\n[849 rows x 7 columns]",
      "text/html": "<div>\n<style scoped>\n    .dataframe tbody tr th:only-of-type {\n        vertical-align: middle;\n    }\n\n    .dataframe tbody tr th {\n        vertical-align: top;\n    }\n\n    .dataframe thead th {\n        text-align: right;\n    }\n</style>\n<table border=\"1\" class=\"dataframe\">\n  <thead>\n    <tr style=\"text-align: right;\">\n      <th></th>\n      <th>filename</th>\n      <th>marked</th>\n      <th>majority_vote</th>\n      <th>age_group</th>\n      <th>gender</th>\n      <th>race</th>\n      <th>is_generated</th>\n    </tr>\n  </thead>\n  <tbody>\n    <tr>\n      <th>0</th>\n      <td>5_0_2_20170116173434115.png</td>\n      <td>[False]</td>\n      <td>False</td>\n      <td>5</td>\n      <td>0</td>\n      <td>2</td>\n      <td>False</td>\n    </tr>\n    <tr>\n      <th>1</th>\n      <td>5_0_3_20170119201947413.png</td>\n      <td>[False]</td>\n      <td>False</td>\n      <td>5</td>\n      <td>0</td>\n      <td>3</td>\n      <td>False</td>\n    </tr>\n    <tr>\n      <th>2</th>\n      <td>5_0_0_20170117180833219.png</td>\n      <td>[True]</td>\n      <td>True</td>\n      <td>5</td>\n      <td>0</td>\n      <td>0</td>\n      <td>False</td>\n    </tr>\n    <tr>\n      <th>3</th>\n      <td>5_0_0_20170117190708466.png</td>\n      <td>[False]</td>\n      <td>False</td>\n      <td>5</td>\n      <td>0</td>\n      <td>0</td>\n      <td>False</td>\n    </tr>\n    <tr>\n      <th>4</th>\n      <td>5_0_3_20170119183728238.png</td>\n      <td>[False]</td>\n      <td>False</td>\n      <td>5</td>\n      <td>0</td>\n      <td>3</td>\n      <td>False</td>\n    </tr>\n    <tr>\n      <th>...</th>\n      <td>...</td>\n      <td>...</td>\n      <td>...</td>\n      <td>...</td>\n      <td>...</td>\n      <td>...</td>\n      <td>...</td>\n    </tr>\n    <tr>\n      <th>844</th>\n      <td>5_0_0_20170105164133579.png</td>\n      <td>[False]</td>\n      <td>False</td>\n      <td>5</td>\n      <td>0</td>\n      <td>0</td>\n      <td>False</td>\n    </tr>\n    <tr>\n      <th>845</th>\n      <td>5_0_0_20170117142934426.png</td>\n      <td>[True]</td>\n      <td>True</td>\n      <td>5</td>\n      <td>0</td>\n      <td>0</td>\n      <td>False</td>\n    </tr>\n    <tr>\n      <th>846</th>\n      <td>0_1_0_20170109193334553.png</td>\n      <td>[False]</td>\n      <td>False</td>\n      <td>0</td>\n      <td>1</td>\n      <td>0</td>\n      <td>False</td>\n    </tr>\n    <tr>\n      <th>847</th>\n      <td>5_0_3_20170119180509236.png</td>\n      <td>[False]</td>\n      <td>False</td>\n      <td>5</td>\n      <td>0</td>\n      <td>3</td>\n      <td>False</td>\n    </tr>\n    <tr>\n      <th>848</th>\n      <td>5_1_1_20170113012901907.png</td>\n      <td>[False]</td>\n      <td>False</td>\n      <td>5</td>\n      <td>1</td>\n      <td>1</td>\n      <td>False</td>\n    </tr>\n  </tbody>\n</table>\n<p>849 rows × 7 columns</p>\n</div>"
     },
     "execution_count": 18,
     "metadata": {},
     "output_type": "execute_result"
    }
   ],
   "source": [
    "original_result_df"
   ],
   "metadata": {
    "collapsed": false,
    "ExecuteTime": {
     "end_time": "2023-11-27T16:43:00.281387988Z",
     "start_time": "2023-11-27T16:43:00.267527345Z"
    }
   },
   "id": "f343b6ce82ee1ff9"
  },
  {
   "cell_type": "code",
   "execution_count": 19,
   "outputs": [
    {
     "data": {
      "text/plain": "0.19199057714958775"
     },
     "execution_count": 19,
     "metadata": {},
     "output_type": "execute_result"
    }
   ],
   "source": [
    "(original_result_df['majority_vote'] == True).mean()"
   ],
   "metadata": {
    "collapsed": false,
    "ExecuteTime": {
     "end_time": "2023-11-27T16:43:17.630271375Z",
     "start_time": "2023-11-27T16:43:17.589654584Z"
    }
   },
   "id": "ba6dcec771693609"
  },
  {
   "cell_type": "code",
   "execution_count": null,
   "outputs": [],
   "source": [],
   "metadata": {
    "collapsed": false
   },
   "id": "b6dc93dd5723c7f5"
  }
 ],
 "metadata": {
  "kernelspec": {
   "display_name": "Python 3",
   "language": "python",
   "name": "python3"
  },
  "language_info": {
   "codemirror_mode": {
    "name": "ipython",
    "version": 2
   },
   "file_extension": ".py",
   "mimetype": "text/x-python",
   "name": "python",
   "nbconvert_exporter": "python",
   "pygments_lexer": "ipython2",
   "version": "2.7.6"
  }
 },
 "nbformat": 4,
 "nbformat_minor": 5
}
